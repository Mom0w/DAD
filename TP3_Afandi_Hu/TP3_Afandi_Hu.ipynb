{
 "cells": [
  {
   "cell_type": "markdown",
   "metadata": {
    "colab_type": "text",
    "id": "HAkiD_-TgnT2"
   },
   "source": [
    "## TP3 : Logistic regression \n",
    "\n",
    "The purpose of this tutorial is to implement and use the Logistic Regression for binary classification. We will apply this\n",
    "method to the problem of handwritten characters to learn how to\n",
    "distinguish two numbers (here 5 and 6).\n"
   ]
  },
  {
   "cell_type": "code",
   "execution_count": null,
   "metadata": {
    "colab": {},
    "colab_type": "code",
    "id": "5W4MPRnzgnT6"
   },
   "outputs": [],
   "source": [
    "from pylab import *\n",
    "import numpy as np\n",
    "import matplotlib.pyplot as plt\n",
    "\n",
    "from numpy import linalg as la"
   ]
  },
  {
   "cell_type": "markdown",
   "metadata": {
    "colab_type": "text",
    "id": "Vdrr0vcmgnUI"
   },
   "source": [
    "## 1. Logistic regression, IRLS algorithm."
   ]
  },
  {
   "cell_type": "markdown",
   "metadata": {
    "colab_type": "text",
    "id": "hBdfpJxAkJ14"
   },
   "source": [
    "IRLS : Iteratively reweighted least squares"
   ]
  },
  {
   "cell_type": "markdown",
   "metadata": {
    "colab_type": "text",
    "id": "z_ywYoX9gnUL"
   },
   "source": [
    "### Preliminary question: the algorithm"
   ]
  },
  {
   "cell_type": "markdown",
   "metadata": {
    "colab_type": "text",
    "id": "ktA9easVgnUS"
   },
   "source": [
    "#### Have a look at the function `regression_logistique` and locate the main steps of the algorithm you have been taught (see course).\n",
    "You can comment the code in the cell below. "
   ]
  },
  {
   "cell_type": "code",
   "execution_count": null,
   "metadata": {
    "colab": {},
    "colab_type": "code",
    "id": "wR5uqsGmgnUU"
   },
   "outputs": [],
   "source": [
    "def regression_logistique(X,t,Nitermax=50,eps_conv=1e-3):\n",
    "    '''Entrees :\n",
    "    X = [ones(N_train,1) x_train];\n",
    "    t = class_train \n",
    "    Nitermax = nombre maximal d'itérations (20 par défaut)\n",
    "    eps_conv = critère de convergence sur norm(w-w_old)/norm(w) ; \n",
    "    eps_conv=1e-3 par défaut\n",
    "    \n",
    "    Sorties : \n",
    "    w : vecteur des coefficients de régression logistique\n",
    "   Niter : nombre d'itérations utilisées effectivement\n",
    "   \n",
    "   Fonction de régression logistique pour la classification binaire.\n",
    "   \n",
    "   Utilisation :\n",
    "       Nitermax = 50\n",
    "       eps_conv = 1e-4\n",
    "       [w,Niter] = regression_logistique(X,t,Nitermax,eps_conv)\n",
    "    '''\n",
    "    \n",
    "    N_train = X.shape[0]\n",
    "\n",
    "    ## initialisation : 1 pas de l'algorithme IRLS\n",
    "    w = np.zeros((X.shape[1],))  # le vecteur de la régression logistique est de la taille du nombre d'attributs du set + terme du biais\n",
    "    w_old = w \n",
    "    y = 1/2*np.ones((N_train,))   # y correspond  à la probabilité de la classe 0 sachant X (les données d'entrée) --> sous la forme de la fonction sigmoïde \n",
    "                                  # on choisit la valeur 1/2 car c'est le maximum de la fonction y |--> y*(1-y) sur [0,1] \n",
    "    R = np.diag(y*(1-y))   # diag(y_n(1-y_n)) correspond à la matrice hessienne de la log-vraisemblance. C'est une matrice de poids.\n",
    "    z = X.dot(w_old)-la.inv(R).dot(y-t)  \n",
    "    w = la.inv(X.T.dot(R).dot(X)).dot(X.T).dot(R).dot(z)  # pas de Newton\n",
    "    \n",
    "    # On cherche à maximiser la log-vraisemblance\n",
    "    ## boucle appliquant l'algortihme de Newton-Raphson\n",
    "    Niter = 1\n",
    "    while ( (la.norm(w-w_old)/la.norm(w)>eps_conv) & (Niter<Nitermax) ):  # on arrête d'itérer lorsque la convergence de w devient trop lente ou bien lorsque'on atteint le max d'itérations fixé\n",
    "        Niter = Niter+1\n",
    "        y = 1/(1+np.exp(-X.dot(w)))  # lorsque |W| devient très grand, y tend vers 0 ou 1 \n",
    "        R = np.diag(y*(1-y))  # Si y est très proche de 1 ou 0, il devient difficile d'inverser R\n",
    "        w_old = w \n",
    "        z = X.dot(w_old)-la.inv(R).dot(y-t) # On rencontre un problème ici si R n'est pas inversible\n",
    "        w = la.inv(X.T.dot(R).dot(X)).dot(X.T).dot(R).dot(z) \n",
    "         \n",
    "    return w, Niter\n"
   ]
  },
  {
   "cell_type": "markdown",
   "metadata": {
    "colab_type": "text",
    "id": "wxWZUoRJy4T_"
   },
   "source": [
    "**In the Newton algorithm :**\n",
    "We have the following result  :\n",
    "\n",
    "$\\tilde{w} = \\tilde{w}^{(old)} - (X^T RX)^{-1}.X^T RX(y-t) =(X^T RX)^{-1}.X^T R.z^{(old)}$ \n",
    "\n",
    "We recognize $(X^T RX)^{-1}.X^T R$ as quite similar to the Penrose inverse for least square regression.\n",
    "Indeed the algorithm applies a reweigthed least square criterion."
   ]
  },
  {
   "cell_type": "markdown",
   "metadata": {
    "colab_type": "text",
    "id": "0VpXJQP_kO2Z"
   },
   "source": [
    "In the previous Logistic Regression algorithm, we want to maximize the likelyhood $y$. \n",
    "If our data can be separated perfectly (linearly), we can set $w$, the logistic regression vector to infinity (see sigmoïd function below). In this way the prediction of class 1 or 2  will have a high value of probability. The prediction will be more accurate.\n",
    "In the case, where $w$ is high, the hessian matrix of the likelyhood becomes singular. We cannot apply Logistic Regression*.\n",
    "\n",
    "Using Logistic Regression with a penalty  $l^1$ can prevent $w$ from being too high.\n"
   ]
  },
  {
   "cell_type": "code",
   "execution_count": null,
   "metadata": {
    "colab": {
     "base_uri": "https://localhost:8080/",
     "height": 350
    },
    "colab_type": "code",
    "executionInfo": {
     "elapsed": 188,
     "status": "ok",
     "timestamp": 1542979931991,
     "user": {
      "displayName": "Pauline H",
      "photoUrl": "",
      "userId": "16815656171459679261"
     },
     "user_tz": -60
    },
    "id": "tWv72n07otEI",
    "outputId": "1bf017d0-08d9-4de9-8a8a-f553d0fd4f1f"
   },
   "outputs": [
    {
     "data": {
      "image/png": "[encoded data removed]",
      "text/plain": [
       "<Figure size 432x288 with 1 Axes>"
      ]
     },
     "metadata": {
      "tags": []
     },
     "output_type": "display_data"
    }
   ],
   "source": [
    "x = np.linspace(-15,15,50)\n",
    "\n",
    "plt.figure()\n",
    "\n",
    "for i in [0.2,0.5,1,5,10,100]:\n",
    "  Lambda = i\n",
    "  y = 1 / (1 + np.exp(-Lambda * x))\n",
    "  plt.plot(x,y,label = \"Lambda = \" + str(i))\n",
    "  \n",
    "plt.grid()\n",
    "plt.xlabel('x')\n",
    "plt.ylabel('y')\n",
    "plt.title(\"Sigmoïd function\")\n",
    "plt.legend()\n",
    "plt.show()"
   ]
  },
  {
   "cell_type": "markdown",
   "metadata": {
    "colab_type": "text",
    "id": "2PvNTfgDgnUe"
   },
   "source": [
    "### Reading & preparing synthetic data\n",
    "\n",
    "Load the training and test data sets `synth_train.txt`\n",
    "and `synth_test.txt`. The targets t belong to {1,2} and the features  \n",
    "x belong to R^2. \n",
    "\n",
    "We have 100 training samples and 200 test samples\n",
    "\n",
    "* the 1st column contains the label of each sample, \n",
    "* columns 2 and 3 contain the coordinate of each point."
   ]
  },
  {
   "cell_type": "code",
   "execution_count": null,
   "metadata": {
    "colab": {},
    "colab_type": "code",
    "id": "I5kSs4OygnUg"
   },
   "outputs": [],
   "source": [
    "# Training set\n",
    "synth_train = np.loadtxt('synth_train.txt') \n",
    "class_train = synth_train[:,0]\n",
    "class_train_1 = np.where(synth_train[:,0]==1)[0]  # give the index of variables from class 1\n",
    "class_train_2 = np.where(synth_train[:,0]==2)[0]\n",
    "x_train = synth_train[:,1:]\n",
    "N_train = np.size(x_train,axis=0)\n",
    "\n",
    "# Test set\n",
    "synth_test = np.loadtxt('synth_test.txt')\n",
    "class_test = synth_test[:,0]\n",
    "class_test_1 = np.where(synth_test[:,0]==1)[0]\n",
    "class_test_2 = np.where(synth_test[:,0]==2)[0]\n",
    "x_test = synth_test[:,1:]\n",
    "N_test = np.size(x_test,axis=0)\n"
   ]
  },
  {
   "cell_type": "markdown",
   "metadata": {
    "colab_type": "text",
    "id": "1juGV6SqgnUn"
   },
   "source": [
    "### Preparing features for logistic regression (binary classification)\n",
    "First, we prepare the feature matrix and the target vector associated to \n",
    "the training and test sets:\n"
   ]
  },
  {
   "cell_type": "code",
   "execution_count": null,
   "metadata": {
    "colab": {},
    "colab_type": "code",
    "id": "EBXSda8kgnUp"
   },
   "outputs": [],
   "source": [
    "X = np.hstack((np.ones((N_train,1)),x_train))\n",
    "t = 2-class_train   # 0 if class=2, 1 if class=1\n",
    "\n",
    "X_test = np.hstack((np.ones((N_test,1)),x_test))\n",
    "t_test = 2-class_test   # 0 if class=2, 1 if class=1"
   ]
  },
  {
   "cell_type": "markdown",
   "metadata": {
    "colab_type": "text",
    "id": "FJ8nTvDmgnUx"
   },
   "source": [
    "### Exercise 1 : the logistic function of decision\n",
    "\n",
    "1. Use the function `regression_logistique` to estimate the logistic\n",
    "regression vector `w`. *Indication : use `Nitermax = 50;\n",
    "eps_conv=1e-3;`.*\n",
    "2. Compute the decision function $f(x) = argmax_k P(C_k|x)$ on the test set\n",
    "to get the classification results. Recall that $y_n=\\sigma(w^T x)$ (logistic function)\n",
    "and that *using vectors* you may directly write $y=\\sigma(Xw)$, with the\n",
    "column of ones in X.\n",
    "3. Display the results by plotting the points from both the training set\n",
    "and the test set.\n",
    "4. Write the equation which defines the decision boundary.\n",
    "5. Artificially add a few points to the training set far from the decision boundary to check the robustness of logistic regression to outliers. Check the behaviour of LDA for comparison in this case and comment. \n"
   ]
  },
  {
   "cell_type": "markdown",
   "metadata": {
    "colab_type": "text",
    "id": "AN3yHsGZwk-9"
   },
   "source": [
    "Let's estimate the logistic function vector :"
   ]
  },
  {
   "cell_type": "code",
   "execution_count": null,
   "metadata": {
    "colab": {},
    "colab_type": "code",
    "id": "qW7AK_a_gnU0"
   },
   "outputs": [],
   "source": [
    "w, Niter = regression_logistique(X, t)"
   ]
  },
  {
   "cell_type": "markdown",
   "metadata": {
    "colab_type": "text",
    "id": "JpGH1qCsK6Xp"
   },
   "source": [
    "## Decision function"
   ]
  },
  {
   "cell_type": "markdown",
   "metadata": {
    "colab_type": "text",
    "id": "SdjrVZ4VTA8u"
   },
   "source": [
    "Let's define the following decision function to get the classification results."
   ]
  },
  {
   "cell_type": "code",
   "execution_count": null,
   "metadata": {
    "colab": {},
    "colab_type": "code",
    "id": "piD0oFcwKPXY"
   },
   "outputs": [],
   "source": [
    "def decision_function(w, sample):\n",
    "  \n",
    "  predicted_class = np.zeros(len(sample))\n",
    "  \n",
    "  for i in range(len(sample)) :\n",
    "    sigma = 1 / ( 1 + np.exp( w.T.dot(sample[i])))\n",
    "\n",
    "    if sigma >= 0.5 : \n",
    "      predicted_class[i] = 0\n",
    "    else :\n",
    "      predicted_class[i] = 1\n",
    "        \n",
    "  return predicted_class"
   ]
  },
  {
   "cell_type": "code",
   "execution_count": null,
   "metadata": {
    "colab": {},
    "colab_type": "code",
    "id": "KGG_HpepN-S-"
   },
   "outputs": [],
   "source": [
    "predicted_class_test = decision_function(w,X_test)"
   ]
  },
  {
   "cell_type": "markdown",
   "metadata": {
    "colab_type": "text",
    "id": "nP0UXotSPFtt"
   },
   "source": [
    "Let us compute the error on test set :"
   ]
  },
  {
   "cell_type": "code",
   "execution_count": null,
   "metadata": {
    "colab": {
     "base_uri": "https://localhost:8080/",
     "height": 308
    },
    "colab_type": "code",
    "executionInfo": {
     "elapsed": 5847,
     "status": "ok",
     "timestamp": 1542974711373,
     "user": {
      "displayName": "Pauline H",
      "photoUrl": "",
      "userId": "16815656171459679261"
     },
     "user_tz": -60
    },
    "id": "Pmrqz6axOUVY",
    "outputId": "22a76205-2d1d-47c9-832f-2b43e98e1b56"
   },
   "outputs": [
    {
     "data": {
      "text/plain": [
       "array([ 0.,  0.,  0.,  0.,  0.,  0.,  0.,  0.,  0.,  0.,  0.,  0., -1.,\n",
       "        0.,  0.,  0., -1.,  0.,  0.,  0.,  0.,  0.,  0.,  0.,  1.,  0.,\n",
       "        0.,  0.,  0.,  0.,  0.,  0.,  0.,  0.,  0.,  0.,  0.,  0.,  0.,\n",
       "        0.,  0.,  0., -1.,  0.,  0., -1.,  0.,  0.,  0.,  0.,  0.,  0.,\n",
       "        0.,  0.,  0.,  0.,  0.,  0.,  0.,  0.,  0.,  0.,  0., -1.,  0.,\n",
       "        0.,  0.,  0.,  0.,  0.,  0.,  0.,  0.,  0.,  0.,  0., -1.,  0.,\n",
       "        0.,  0.,  0.,  0.,  0.,  0.,  0.,  0.,  0.,  0.,  0.,  0.,  0.,\n",
       "        0., -1.,  0.,  0.,  0.,  0.,  0., -1.,  0.,  0.,  0.,  0.,  0.,\n",
       "        0.,  0.,  0.,  0.,  0.,  0.,  0.,  0.,  0.,  0.,  0.,  0.,  0.,\n",
       "        0.,  0.,  0.,  0.,  0.,  0.,  0.,  0.,  0.,  0.,  0.,  0.,  0.,\n",
       "        0.,  0.,  0.,  0.,  0.,  0.,  0.,  0.,  0.,  0.,  0.,  0.,  0.,\n",
       "        0.,  0., -1.,  0.,  0.,  0.,  0.,  0.,  0.,  0.,  0.,  0.,  0.,\n",
       "        0.,  0., -1.,  0.,  0.,  0.,  0.,  1.,  0.,  0.,  0.,  0.,  0.,\n",
       "        0.,  0.,  0.,  0.,  0.,  0.,  0.,  0.,  0.,  0.,  0.,  0.,  0.,\n",
       "        0.,  0.,  0.,  0.,  0.,  0.,  0.,  0.,  0.,  0.,  0.,  0.,  0.,\n",
       "        0.,  0.,  0.,  0.,  0.])"
      ]
     },
     "execution_count": 9,
     "metadata": {
      "tags": []
     },
     "output_type": "execute_result"
    }
   ],
   "source": [
    "predicted_class_test - t_test\n"
   ]
  },
  {
   "cell_type": "code",
   "execution_count": null,
   "metadata": {
    "colab": {},
    "colab_type": "code",
    "id": "7ttQmRaNOwrG"
   },
   "outputs": [],
   "source": [
    "error_test = np.sum(np.abs(predicted_class_test - t_test)) / len(X_test)"
   ]
  },
  {
   "cell_type": "markdown",
   "metadata": {
    "colab_type": "text",
    "id": "6dZzqvcDVNxS"
   },
   "source": [
    "Let us do this for the train set and compute the error : "
   ]
  },
  {
   "cell_type": "code",
   "execution_count": null,
   "metadata": {
    "colab": {},
    "colab_type": "code",
    "id": "7JXiI_s4VJcF"
   },
   "outputs": [],
   "source": [
    "predicted_class_train = decision_function(w,X)"
   ]
  },
  {
   "cell_type": "code",
   "execution_count": null,
   "metadata": {
    "colab": {
     "base_uri": "https://localhost:8080/",
     "height": 35
    },
    "colab_type": "code",
    "executionInfo": {
     "elapsed": 5877,
     "status": "ok",
     "timestamp": 1542974711422,
     "user": {
      "displayName": "Pauline H",
      "photoUrl": "",
      "userId": "16815656171459679261"
     },
     "user_tz": -60
    },
    "id": "PsGI0mBRVyGH",
    "outputId": "db2677be-267e-4d51-bf14-171bcdd84ba3"
   },
   "outputs": [
    {
     "data": {
      "text/plain": [
       "0.03"
      ]
     },
     "execution_count": 12,
     "metadata": {
      "tags": []
     },
     "output_type": "execute_result"
    }
   ],
   "source": [
    "error_train = np.sum(np.abs(predicted_class_train - t)) / len(X)\n",
    "error_train"
   ]
  },
  {
   "cell_type": "markdown",
   "metadata": {
    "colab_type": "text",
    "id": "5OR2VhKcCPQP"
   },
   "source": [
    "We get a 3% error, which is quite good."
   ]
  },
  {
   "cell_type": "markdown",
   "metadata": {
    "colab_type": "text",
    "id": "8jBXqpLiS5o9"
   },
   "source": [
    "## Visual of the logistic regression : "
   ]
  },
  {
   "cell_type": "markdown",
   "metadata": {
    "colab_type": "text",
    "id": "-m7_XdRBgnU8"
   },
   "source": [
    "You can draw the decision boundary $w^Tx = 0$ by using: \n"
   ]
  },
  {
   "cell_type": "code",
   "execution_count": null,
   "metadata": {
    "colab": {
     "base_uri": "https://localhost:8080/",
     "height": 607
    },
    "colab_type": "code",
    "executionInfo": {
     "elapsed": 6422,
     "status": "ok",
     "timestamp": 1542974711978,
     "user": {
      "displayName": "Pauline H",
      "photoUrl": "",
      "userId": "16815656171459679261"
     },
     "user_tz": -60
    },
    "id": "aLx7flxggnU-",
    "outputId": "f4e1a9b7-6349-46a9-cd02-6e3c250ef1e3"
   },
   "outputs": [
    {
     "data": {
      "image/png": "[encoded data removed]",
      "text/plain": [
       "<Figure size 1080x720 with 1 Axes>"
      ]
     },
     "metadata": {
      "tags": []
     },
     "output_type": "display_data"
    }
   ],
   "source": [
    "plt.rcParams['figure.figsize'] = 15, 10\n",
    "\n",
    "x1 = np.linspace(-2.5,1.5,10) \n",
    "x2 = (-w[0]-w[1]*x1)/w[2]\n",
    "plt.plot(x1,x2,'k--')\n",
    "\n",
    "plt.plot(synth_train[class_train_1][:,1] , synth_train[class_train_1][:,2], 'ro', label = 'Class 1 (real)')\n",
    "plt.plot(synth_train[class_train_2][:,1] , synth_train[class_train_2][:,2], 'bo', label = 'Class 2 (real)')\n",
    "\n",
    "plt.legend()\n",
    "plt.title('Logistic regression classification on the training set set')\n",
    "plt.show()"
   ]
  },
  {
   "cell_type": "code",
   "execution_count": null,
   "metadata": {
    "colab": {
     "base_uri": "https://localhost:8080/",
     "height": 607
    },
    "colab_type": "code",
    "executionInfo": {
     "elapsed": 6572,
     "status": "ok",
     "timestamp": 1542974712138,
     "user": {
      "displayName": "Pauline H",
      "photoUrl": "",
      "userId": "16815656171459679261"
     },
     "user_tz": -60
    },
    "id": "JL0mZSgeXTma",
    "outputId": "7c543030-86b9-4ca7-9718-c93a4b875050"
   },
   "outputs": [
    {
     "data": {
      "image/png": "[encoded data removed]",
      "text/plain": [
       "<Figure size 1080x720 with 1 Axes>"
      ]
     },
     "metadata": {
      "tags": []
     },
     "output_type": "display_data"
    }
   ],
   "source": [
    "plt.rcParams['figure.figsize'] = 15, 10\n",
    "\n",
    "x1 = np.linspace(-2.5,1.5,10) \n",
    "x2 = (-w[0]-w[1]*x1)/w[2]\n",
    "\n",
    "plt.plot(x1,x2,'k--')\n",
    "\n",
    "plt.plot(synth_test[class_test_1][:,1] , synth_test[class_test_1][:,2], 'ro', label = 'Class 1 (real)')\n",
    "plt.plot(synth_test[class_test_2][:,1] , synth_test[class_test_2][:,2], 'bo', label = 'Class 2 (real)')\n",
    "\n",
    "plt.title('Logistic regression classification on the test set')\n",
    "plt.legend()\n",
    "plt.show()"
   ]
  },
  {
   "cell_type": "markdown",
   "metadata": {
    "colab_type": "text",
    "id": "1I9VotRqDLp_"
   },
   "source": [
    "In both cases, the separation boundary seems satisfactory."
   ]
  },
  {
   "cell_type": "markdown",
   "metadata": {
    "colab_type": "text",
    "id": "n4Uck8N2DkyJ"
   },
   "source": [
    "Let us now display the predicted results."
   ]
  },
  {
   "cell_type": "code",
   "execution_count": null,
   "metadata": {
    "colab": {
     "base_uri": "https://localhost:8080/",
     "height": 607
    },
    "colab_type": "code",
    "executionInfo": {
     "elapsed": 6844,
     "status": "ok",
     "timestamp": 1542974712421,
     "user": {
      "displayName": "Pauline H",
      "photoUrl": "",
      "userId": "16815656171459679261"
     },
     "user_tz": -60
    },
    "id": "l61eRwrlWSXO",
    "outputId": "dcccdaed-f6a5-48f3-a9ed-0c0cad846bd7"
   },
   "outputs": [
    {
     "data": {
      "image/png": "[encoded data removed]",
      "text/plain": [
       "<Figure size 1080x720 with 2 Axes>"
      ]
     },
     "metadata": {
      "tags": []
     },
     "output_type": "display_data"
    }
   ],
   "source": [
    "plt.rcParams['figure.figsize'] = 15, 10\n",
    "\n",
    "# For the training set\n",
    "plt.subplot(1,2,1)\n",
    "# Boundary\n",
    "x1 = np.linspace(-2.5,1.5,10) \n",
    "x2 = (-w[0]-w[1]*x1)/w[2]\n",
    "plt.plot(x1,x2,'k--')\n",
    "#plt.imshow(predicted_grid_LDA, extent = (np.min(x1),np.max(x1),np.min(x2),np.max(x2)),cmap = \"Pastel1\")\n",
    "# Predicted classes\n",
    "plt.plot(synth_train[predicted_class_train == 1][:,1] , synth_train[predicted_class_train == 1][:,2], 'ro', label = 'Class 1 (predicted)')\n",
    "plt.plot(synth_train[predicted_class_train == 0][:,1] , synth_train[predicted_class_train == 0][:,2], 'bo', label = 'Class 2 (predicted)')\n",
    "plt.title(\"Training set; error rate = \"+str(error_train*100)+\"%\")\n",
    "plt.legend(loc='upper left')\n",
    "\n",
    "# For the test set\n",
    "plt.subplot(1,2,2)\n",
    "# Boundary\n",
    "x1 = np.linspace(-2.5,1.5,10) \n",
    "x2 = (-w[0]-w[1]*x1)/w[2]\n",
    "plt.plot(x1,x2,'k--')\n",
    "#plt.imshow(predicted_grid_LDA, extent = (np.min(x1),np.max(x1),np.min(x2),np.max(x2)),cmap = \"Pastel1\")\n",
    "# Predicted classes\n",
    "plt.plot(synth_test[predicted_class_test == 1][:,1] , synth_test[predicted_class_test == 1][:,2], 'ro', label = 'Class 1 (predicted)')\n",
    "plt.plot(synth_test[predicted_class_test == 0][:,1] , synth_test[predicted_class_test == 0][:,2], 'bo', label = 'Class 2 (predicted)')\n",
    "plt.title(\"Test set; error rate = \"+str(error_test*100)+\"%\")\n",
    "plt.legend(loc='upper left')\n",
    "\n",
    "plt.show()"
   ]
  },
  {
   "cell_type": "markdown",
   "metadata": {
    "colab_type": "text",
    "id": "4USAV5pXD57E"
   },
   "source": [
    "The classifier has correctly predicted 94% of the test set. This is satisfying result, given the low amount of trainig data."
   ]
  },
  {
   "cell_type": "markdown",
   "metadata": {
    "colab_type": "text",
    "id": "nKZqmlu3bdci"
   },
   "source": [
    "## Checking robustness to outliers"
   ]
  },
  {
   "cell_type": "code",
   "execution_count": null,
   "metadata": {
    "colab": {},
    "colab_type": "code",
    "id": "tNimP_T2cXXe"
   },
   "outputs": [],
   "source": [
    "x_outliers = np.concatenate((synth_train,np.array([[2., -2.4 , 6.5], \n",
    "                                      [1., -2.5 , 6.9], \n",
    "                                      [1., -2 , 6.9], \n",
    "                                      [1., -2. , 6.8], \n",
    "                                      [1., -2.4 , 6.7], \n",
    "                                      [1., -2.2 , 6.9], \n",
    "                                      [1., -1.1 , 6.9], \n",
    "                                      [1., -1.8 , 7], \n",
    "                                      [1., -2. , 6.5], \n",
    "                                      [1., -2.25 , 6.7]])),axis = 0)\n",
    "N_outliers = np.size(x_outliers,axis=0)"
   ]
  },
  {
   "cell_type": "code",
   "execution_count": null,
   "metadata": {
    "colab": {},
    "colab_type": "code",
    "id": "3IbcUmFeeJfe"
   },
   "outputs": [],
   "source": [
    "t_outliers = 2-x_outliers[:,0]"
   ]
  },
  {
   "cell_type": "code",
   "execution_count": null,
   "metadata": {
    "colab": {},
    "colab_type": "code",
    "id": "6-eu_WNygLrF"
   },
   "outputs": [],
   "source": [
    "X_outliers = np.hstack((np.ones((N_outliers,1)),x_outliers[:,1:]))"
   ]
  },
  {
   "cell_type": "code",
   "execution_count": null,
   "metadata": {
    "colab": {},
    "colab_type": "code",
    "id": "-xzBVs60dmrK"
   },
   "outputs": [],
   "source": [
    "w_outliers , N_iter_outliers = regression_logistique(X_outliers,t_outliers)"
   ]
  },
  {
   "cell_type": "markdown",
   "metadata": {
    "colab_type": "text",
    "id": "YCcoNwZ1h6f0"
   },
   "source": [
    "Predicting on training set with `w_outliers` :"
   ]
  },
  {
   "cell_type": "code",
   "execution_count": null,
   "metadata": {
    "colab": {},
    "colab_type": "code",
    "id": "ppxzScbfe1j0"
   },
   "outputs": [],
   "source": [
    "predicted_class_train_outliers = decision_function(w_outliers, X_outliers)"
   ]
  },
  {
   "cell_type": "code",
   "execution_count": null,
   "metadata": {
    "colab": {
     "base_uri": "https://localhost:8080/",
     "height": 35
    },
    "colab_type": "code",
    "executionInfo": {
     "elapsed": 6992,
     "status": "ok",
     "timestamp": 1542974712589,
     "user": {
      "displayName": "Pauline H",
      "photoUrl": "",
      "userId": "16815656171459679261"
     },
     "user_tz": -60
    },
    "id": "gjC5cy75i40p",
    "outputId": "719c82d6-79fb-4405-db85-46c98192018e"
   },
   "outputs": [
    {
     "data": {
      "text/plain": [
       "0.07272727272727272"
      ]
     },
     "execution_count": 21,
     "metadata": {
      "tags": []
     },
     "output_type": "execute_result"
    }
   ],
   "source": [
    "error_train_outliers = np.sum(np.abs(predicted_class_train_outliers - t_outliers)) / len(t_outliers)\n",
    "error_train_outliers"
   ]
  },
  {
   "cell_type": "markdown",
   "metadata": {
    "colab_type": "text",
    "id": "0Eh-74p_hZOM"
   },
   "source": [
    "Predicting on test set with `w_outliers` : "
   ]
  },
  {
   "cell_type": "code",
   "execution_count": null,
   "metadata": {
    "colab": {},
    "colab_type": "code",
    "id": "gXjVW64MhlHa"
   },
   "outputs": [],
   "source": [
    "predicted_class_test_outliers = decision_function(w_outliers,X_test)"
   ]
  },
  {
   "cell_type": "code",
   "execution_count": null,
   "metadata": {
    "colab": {
     "base_uri": "https://localhost:8080/",
     "height": 35
    },
    "colab_type": "code",
    "executionInfo": {
     "elapsed": 7024,
     "status": "ok",
     "timestamp": 1542974712639,
     "user": {
      "displayName": "Pauline H",
      "photoUrl": "",
      "userId": "16815656171459679261"
     },
     "user_tz": -60
    },
    "id": "FevL-cnSjAs3",
    "outputId": "c68f28ed-3815-4fe2-f166-197dbd360974"
   },
   "outputs": [
    {
     "data": {
      "text/plain": [
       "0.1"
      ]
     },
     "execution_count": 23,
     "metadata": {
      "tags": []
     },
     "output_type": "execute_result"
    }
   ],
   "source": [
    "error_test_outliers = np.sum(np.abs(predicted_class_test_outliers - t_test)) / len(t_test)\n",
    "error_test_outliers"
   ]
  },
  {
   "cell_type": "markdown",
   "metadata": {
    "colab_type": "text",
    "id": "5T-PMjv3iABh"
   },
   "source": [
    "Let's display the results"
   ]
  },
  {
   "cell_type": "code",
   "execution_count": null,
   "metadata": {
    "colab": {
     "base_uri": "https://localhost:8080/",
     "height": 607
    },
    "colab_type": "code",
    "executionInfo": {
     "elapsed": 7268,
     "status": "ok",
     "timestamp": 1542974712894,
     "user": {
      "displayName": "Pauline H",
      "photoUrl": "",
      "userId": "16815656171459679261"
     },
     "user_tz": -60
    },
    "id": "TBcy-b4giEeD",
    "outputId": "54f02df6-a1da-4c52-fc21-f3a2fa8fee01"
   },
   "outputs": [
    {
     "data": {
      "image/png": "[encoded data removed]",
      "text/plain": [
       "<Figure size 1080x720 with 2 Axes>"
      ]
     },
     "metadata": {
      "tags": []
     },
     "output_type": "display_data"
    }
   ],
   "source": [
    "plt.rcParams['figure.figsize'] = 15, 10\n",
    "\n",
    "# For the training set\n",
    "plt.subplot(1,2,1)\n",
    "# Boundary\n",
    "x1 = np.linspace(-2.5,1.5,10) \n",
    "x2 = (-w_outliers[0]-w_outliers[1]*x1)/w_outliers[2]\n",
    "plt.plot(x1,x2,'k--')\n",
    "#plt.imshow_outliers(predicted_grid_LDA, extent = (np.min(x1),np.max(x1),np.min(x2),np.max(x2)),cmap = \"Pastel1\")\n",
    "# Predicted classes\n",
    "plt.plot(x_outliers[predicted_class_train_outliers == 1][:-10,1] , x_outliers[predicted_class_train_outliers == 1][:-10,2], 'ro', label = 'Class 1 (predicted)')\n",
    "plt.plot(x_outliers[predicted_class_train_outliers == 1][-10:,1] , x_outliers[predicted_class_train_outliers == 1][-10:,2], 'go', label = 'Added outliers')\n",
    "plt.plot(x_outliers[predicted_class_train_outliers == 0][:,1] , x_outliers[predicted_class_train_outliers == 0][:,2], 'bo', label = 'Class 2 (predicted)')\n",
    "plt.title(\"Training set with outliers; error rate = \"+str(error_train_outliers*100)+\"%\")\n",
    "plt.legend(loc='upper right')\n",
    "\n",
    "# For the test set\n",
    "plt.subplot(1,2,2)\n",
    "# Boundary\n",
    "x1 = np.linspace(-2.5,1.5,10) \n",
    "x2 = (-w_outliers[0]-w_outliers[1]*x1)/w_outliers[2]\n",
    "plt.plot(x1,x2,'k--')\n",
    "#plt.imshow_outliers(predicted_grid_LDA, extent = (np.min(x1),np.max(x1),np.min(x2),np.max(x2)),cmap = \"Pastel1\")\n",
    "# Predicted classes\n",
    "plt.plot(synth_test[predicted_class_test_outliers == 1][:,1] , synth_test[predicted_class_test_outliers == 1][:,2], 'ro', label = 'Class 1 (predicted)')\n",
    "plt.plot(synth_test[predicted_class_test_outliers == 0][:,1] , synth_test[predicted_class_test_outliers == 0][:,2], 'bo', label = 'Class 2 (predicted)')\n",
    "plt.title(\"Test set with outliers; error rate = \"+str(error_test_outliers*100)+\"%\")\n",
    "plt.legend(loc='upper right')\n",
    "\n",
    "plt.show()"
   ]
  },
  {
   "cell_type": "markdown",
   "metadata": {
    "colab_type": "text",
    "id": "cqASsqNOiMvL"
   },
   "source": [
    "Logistic regression is robust to outliers. The boundary for the train set does not  lean towards the outliers."
   ]
  },
  {
   "cell_type": "markdown",
   "metadata": {
    "colab_type": "text",
    "id": "EOxkAU5qnqzu"
   },
   "source": [
    "Let's compare logistic regression to LDA : "
   ]
  },
  {
   "cell_type": "code",
   "execution_count": null,
   "metadata": {
    "colab": {},
    "colab_type": "code",
    "id": "uYUlcuTWnu-j"
   },
   "outputs": [],
   "source": [
    "from sklearn.discriminant_analysis import LinearDiscriminantAnalysis as lda"
   ]
  },
  {
   "cell_type": "code",
   "execution_count": null,
   "metadata": {
    "colab": {
     "base_uri": "https://localhost:8080/",
     "height": 53
    },
    "colab_type": "code",
    "executionInfo": {
     "elapsed": 17199,
     "status": "ok",
     "timestamp": 1542974722845,
     "user": {
      "displayName": "Pauline H",
      "photoUrl": "",
      "userId": "16815656171459679261"
     },
     "user_tz": -60
    },
    "id": "NbkRpNxXnvv6",
    "outputId": "7b223ce2-96dc-4aea-d308-4f56fd78a83e"
   },
   "outputs": [
    {
     "data": {
      "text/plain": [
       "LinearDiscriminantAnalysis(n_components=None, priors=None, shrinkage=None,\n",
       "              solver='svd', store_covariance=False, tol=0.0001)"
      ]
     },
     "execution_count": 26,
     "metadata": {
      "tags": []
     },
     "output_type": "execute_result"
    }
   ],
   "source": [
    "clf_lda = lda()\n",
    "clf_lda.fit(x_outliers[:,1:],x_outliers[:,0])"
   ]
  },
  {
   "cell_type": "code",
   "execution_count": 3,
   "metadata": {
    "colab": {
     "base_uri": "https://localhost:8080/",
     "height": 180
    },
    "colab_type": "code",
    "executionInfo": {
     "elapsed": 394,
     "status": "error",
     "timestamp": 1543413136025,
     "user": {
      "displayName": "Mohammad Afandi",
      "photoUrl": "",
      "userId": "02039134544224464075"
     },
     "user_tz": -60
    },
    "id": "V1uN6laAp2QG",
    "outputId": "8ebd9047-98aa-44ef-ac87-e68ed9691009"
   },
   "outputs": [
    {
     "ename": "NameError",
     "evalue": "ignored",
     "output_type": "error",
     "traceback": [
      "\u001b[0;31m---------------------------------------------------------------------------\u001b[0m",
      "\u001b[0;31mNameError\u001b[0m                                 Traceback (most recent call last)",
      "\u001b[0;32m<ipython-input-3-717d3cc79878>\u001b[0m in \u001b[0;36m<module>\u001b[0;34m()\u001b[0m\n\u001b[0;32m----> 1\u001b[0;31m \u001b[0merror_train_outliers_lda\u001b[0m \u001b[0;34m=\u001b[0m \u001b[0;36m1\u001b[0m\u001b[0;34m-\u001b[0m\u001b[0mclf_lda\u001b[0m\u001b[0;34m.\u001b[0m\u001b[0mscore\u001b[0m\u001b[0;34m(\u001b[0m\u001b[0mx_outliers\u001b[0m\u001b[0;34m[\u001b[0m\u001b[0;34m:\u001b[0m\u001b[0;34m,\u001b[0m\u001b[0;36m1\u001b[0m\u001b[0;34m:\u001b[0m\u001b[0;34m]\u001b[0m\u001b[0;34m,\u001b[0m\u001b[0mx_outliers\u001b[0m\u001b[0;34m[\u001b[0m\u001b[0;34m:\u001b[0m\u001b[0;34m,\u001b[0m\u001b[0;36m0\u001b[0m\u001b[0;34m]\u001b[0m\u001b[0;34m)\u001b[0m\u001b[0;34m\u001b[0m\u001b[0;34m\u001b[0m\u001b[0m\n\u001b[0m\u001b[1;32m      2\u001b[0m \u001b[0merror_test_outliers_lda\u001b[0m \u001b[0;34m=\u001b[0m \u001b[0;36m1\u001b[0m\u001b[0;34m-\u001b[0m\u001b[0mclf_lda\u001b[0m\u001b[0;34m.\u001b[0m\u001b[0mscore\u001b[0m\u001b[0;34m(\u001b[0m\u001b[0mx_test\u001b[0m\u001b[0;34m,\u001b[0m\u001b[0msynth_test\u001b[0m\u001b[0;34m[\u001b[0m\u001b[0;34m:\u001b[0m\u001b[0;34m,\u001b[0m\u001b[0;36m0\u001b[0m\u001b[0;34m]\u001b[0m\u001b[0;34m)\u001b[0m\u001b[0;34m\u001b[0m\u001b[0;34m\u001b[0m\u001b[0m\n",
      "\u001b[0;31mNameError\u001b[0m: name 'clf_lda' is not defined"
     ]
    }
   ],
   "source": [
    "error_train_outliers_lda = 1-clf_lda.score(x_outliers[:,1:],x_outliers[:,0])\n",
    "error_test_outliers_lda = 1-clf_lda.score(x_test,synth_test[:,0])"
   ]
  },
  {
   "cell_type": "code",
   "execution_count": null,
   "metadata": {
    "colab": {},
    "colab_type": "code",
    "id": "3DyX6nwsoHaz"
   },
   "outputs": [],
   "source": [
    "pred_train_outliers_LDA = clf_lda.predict(x_outliers[:,1:])\n",
    "pred_test_outliers_LDA = clf_lda.predict(x_test)"
   ]
  },
  {
   "cell_type": "code",
   "execution_count": null,
   "metadata": {
    "colab": {
     "base_uri": "https://localhost:8080/",
     "height": 607
    },
    "colab_type": "code",
    "executionInfo": {
     "elapsed": 17575,
     "status": "ok",
     "timestamp": 1542974723239,
     "user": {
      "displayName": "Pauline H",
      "photoUrl": "",
      "userId": "16815656171459679261"
     },
     "user_tz": -60
    },
    "id": "6sTSY9aspblh",
    "outputId": "deff5b32-b22a-4dd5-8927-11528090f1c3"
   },
   "outputs": [
    {
     "data": {
      "image/png": "[encoded data removed]",
      "text/plain": [
       "<Figure size 1080x720 with 2 Axes>"
      ]
     },
     "metadata": {
      "tags": []
     },
     "output_type": "display_data"
    }
   ],
   "source": [
    "plt.rcParams['figure.figsize'] = 15, 10\n",
    "\n",
    "# For the training set\n",
    "plt.subplot(1,2,1)\n",
    "# Boundary\n",
    "x1 = np.linspace(-2.5,1.5,10) \n",
    "x2 = (-w_outliers[0]-w_outliers[1]*x1)/w_outliers[2]\n",
    "plt.plot(x1,x2,'k--')\n",
    "#plt.imshow_outliers(predicted_grid_LDA, extent = (np.min(x1),np.max(x1),np.min(x2),np.max(x2)),cmap = \"Pastel1\")\n",
    "# Predicted classes\n",
    "plt.plot(x_outliers[pred_train_outliers_LDA == 1][:-10,1] , x_outliers[pred_train_outliers_LDA == 1][:-10,2], 'ro', label = 'Class 1 (predicted)')\n",
    "plt.plot(x_outliers[pred_train_outliers_LDA == 1][-10:,1] , x_outliers[pred_train_outliers_LDA == 1][-10:,2], 'go', label = 'Added outliers')\n",
    "plt.plot(x_outliers[pred_train_outliers_LDA == 2][:,1] , x_outliers[pred_train_outliers_LDA == 2][:,2], 'bo', label = 'Class 2 (predicted)')\n",
    "plt.title(\"Training set with outliers; error rate = \"+str(error_train_outliers*100)+\"% (LDA)\")\n",
    "plt.legend(loc='lower right')\n",
    "\n",
    "# For the test set\n",
    "plt.subplot(1,2,2)\n",
    "# Boundary\n",
    "x1 = np.linspace(-2.5,1.5,10) \n",
    "x2 = (-w_outliers[0]-w_outliers[1]*x1)/w_outliers[2]\n",
    "plt.plot(x1,x2,'k--')\n",
    "#plt.imshow_outliers(predicted_grid_LDA, extent = (np.min(x1),np.max(x1),np.min(x2),np.max(x2)),cmap = \"Pastel1\")\n",
    "# Predicted classes\n",
    "plt.plot(synth_test[pred_test_outliers_LDA == 1][:,1] , synth_test[pred_test_outliers_LDA == 1][:,2], 'ro', label = 'Class 1 (predicted)')\n",
    "plt.plot(synth_test[pred_test_outliers_LDA == 2][:,1] , synth_test[pred_test_outliers_LDA == 2][:,2], 'bo', label = 'Class 2 (predicted)')\n",
    "plt.title(\"Test set with outliers; error rate = \"+str(error_test_outliers_lda*100)+\"% (LDA)\")\n",
    "plt.legend(loc='upper right')\n",
    "\n",
    "plt.show()"
   ]
  },
  {
   "cell_type": "markdown",
   "metadata": {
    "colab_type": "text",
    "id": "JspAEgZqq8zv"
   },
   "source": [
    "LDA is more sensitive to outliers. It shows on the prediction on the test set. The error is significantly higher than with logistic regression."
   ]
  },
  {
   "cell_type": "markdown",
   "metadata": {
    "colab_type": "text",
    "id": "KQC_fTW1gnVG"
   },
   "source": [
    "## 2. Application: handwritten digits recognition 5 & 6\n",
    "We load 2 matrices which contain each a sequence of examples of 16x16 images \n",
    "of handwritten digits which are 5 and 6 here. Each line of the matrix\n",
    "contains 256 pixel values coding for the gray level of a 16x16 image."
   ]
  },
  {
   "cell_type": "code",
   "execution_count": null,
   "metadata": {
    "colab": {},
    "colab_type": "code",
    "id": "dDYHWRCggnVH"
   },
   "outputs": [],
   "source": [
    "train_5 = np.loadtxt('train_5.txt',delimiter=',')   # 556 samples\n",
    "train_6 = np.loadtxt('train_6.txt',delimiter=',')   # 664 samples"
   ]
  },
  {
   "cell_type": "markdown",
   "metadata": {
    "colab_type": "text",
    "id": "f1y1cPBIdbC5"
   },
   "source": [
    "### Examples of images\n"
   ]
  },
  {
   "cell_type": "code",
   "execution_count": null,
   "metadata": {
    "colab": {
     "base_uri": "https://localhost:8080/",
     "height": 323
    },
    "colab_type": "code",
    "executionInfo": {
     "elapsed": 18077,
     "status": "ok",
     "timestamp": 1542974723757,
     "user": {
      "displayName": "Pauline H",
      "photoUrl": "",
      "userId": "16815656171459679261"
     },
     "user_tz": -60
    },
    "id": "wnBGFS4GgnVS",
    "outputId": "f141d536-0405-4f56-832f-7708704b0a8d"
   },
   "outputs": [
    {
     "data": {
      "image/png": "[encoded data removed]",
      "text/plain": [
       "<Figure size 504x360 with 1 Axes>"
      ]
     },
     "metadata": {
      "tags": []
     },
     "output_type": "display_data"
    }
   ],
   "source": [
    "# Digit 5\n",
    "n=9; # showing a sample of the digit 5\n",
    "I = np.reshape(train_5[n,:],(16,16))\n",
    "plt.rcParams['figure.figsize'] = 7,5\n",
    "plt.imshow(I,cmap='gray')\n",
    "plt.show()"
   ]
  },
  {
   "cell_type": "code",
   "execution_count": null,
   "metadata": {
    "colab": {
     "base_uri": "https://localhost:8080/",
     "height": 323
    },
    "colab_type": "code",
    "executionInfo": {
     "elapsed": 18203,
     "status": "ok",
     "timestamp": 1542974723891,
     "user": {
      "displayName": "Pauline H",
      "photoUrl": "",
      "userId": "16815656171459679261"
     },
     "user_tz": -60
    },
    "id": "xgxrwN_wgnVa",
    "outputId": "0f6a5094-cf1a-4149-f2ca-33fae69f35db"
   },
   "outputs": [
    {
     "data": {
      "image/png": "[encoded data removed]",
      "text/plain": [
       "<Figure size 504x360 with 1 Axes>"
      ]
     },
     "metadata": {
      "tags": []
     },
     "output_type": "display_data"
    }
   ],
   "source": [
    "# Digit 6\n",
    "n=5;\n",
    "I = reshape(train_6[n,:],(16,16))\n",
    "plt.rcParams['figure.figsize'] = 7,5\n",
    "plt.imshow(I,cmap='gray')\n",
    "plt.show()"
   ]
  },
  {
   "cell_type": "markdown",
   "metadata": {
    "colab_type": "text",
    "id": "cmJ16OhdgnVj"
   },
   "source": [
    "### Separating the training and test sets\n",
    "\n",
    "We keep in the training set the 145 first images of 5s and the 200 first\n",
    "images of 6s:\n"
   ]
  },
  {
   "cell_type": "code",
   "execution_count": null,
   "metadata": {
    "colab": {},
    "colab_type": "code",
    "id": "Nb5L_KE5gnVo"
   },
   "outputs": [],
   "source": [
    "x_train_brut = np.vstack((train_5[:145,:], train_6[:200,:]))  # stack values from both sets one baove the other\n",
    "N_train = np.size(x_train_brut,axis=0)\n",
    "class_train = np.ones((345,1))   # label 1 for digit 6\n",
    "class_train[:145] = 0       # label 0 for digit 5\n",
    "\n",
    "x_test_brut = np.vstack((train_5[145:,:], train_6[200:,:]))\n",
    "N_test = np.size(train_5,axis=0)+np.size(train_6,axis=0)-N_train"
   ]
  },
  {
   "cell_type": "markdown",
   "metadata": {
    "colab_type": "text",
    "id": "rh4hclhSgnVs"
   },
   "source": [
    "## Exercise 2: logistic regression to classify 5 & 6\n",
    "\n",
    "1. Note that pixel values are between -1 and 1 by using the functions\n",
    " `min(I(:))` and `max(I(:))`.\n",
    "2. Identify the indices of the most significant pixels, which are defined \n",
    "as having a standard deviation greater than 0.5 here. We denote by `lis_sig`\n",
    "the list of positions of these significant pixels in the image vector.\n",
    "_Indication : the function `std` gives the standard deviation (columnwise\n",
    "in matrices) and you should find 173 pixel positions.\n",
    "3. Show a binary image to locate these pixels.\n",
    "_Indication : `Isig = zeros(16); Isig(list_sig)=1; Isig=Isig';`._\n",
    "4. Define the training set `x_train` from `x_train_brut` from the significant pixels only.\n",
    "5. Do the same with `x_test_brut` to extract `x_test`.\n",
    "6. Use `regression_logistique.m` to estimate the logistic regression vector\n",
    "`w` from the training set `x_train`. \n",
    "Choose `Nitermax = 13; eps_conv = 1e-3;`\n",
    "7. Compute the decision function and the labels of the test set `x_test`. \n",
    "_Indication : do not forget the column of ones !_\n",
    "8. Estimate the classification error rate by using :\n",
    "`erreur = sum(abs(class-class_test))/N_test;`.\n",
    "9. Locate some misclassified examples and visualize the corresponding image.\n",
    "Comment on your results and observations.\n"
   ]
  },
  {
   "cell_type": "code",
   "execution_count": null,
   "metadata": {
    "colab": {},
    "colab_type": "code",
    "id": "V1WO7k6qgnVt"
   },
   "outputs": [],
   "source": [
    "# Exercise 2"
   ]
  },
  {
   "cell_type": "code",
   "execution_count": null,
   "metadata": {
    "colab": {
     "base_uri": "https://localhost:8080/",
     "height": 35
    },
    "colab_type": "code",
    "executionInfo": {
     "elapsed": 18277,
     "status": "ok",
     "timestamp": 1542974723979,
     "user": {
      "displayName": "Pauline H",
      "photoUrl": "",
      "userId": "16815656171459679261"
     },
     "user_tz": -60
    },
    "id": "HKRyIg_auwwV",
    "outputId": "4e4424c9-0131-4ccb-9b15-dc0a0b121ef4"
   },
   "outputs": [
    {
     "data": {
      "text/plain": [
       "256"
      ]
     },
     "execution_count": 35,
     "metadata": {
      "tags": []
     },
     "output_type": "execute_result"
    }
   ],
   "source": [
    "len(x_train_brut[1])"
   ]
  },
  {
   "cell_type": "code",
   "execution_count": null,
   "metadata": {
    "colab": {
     "base_uri": "https://localhost:8080/",
     "height": 53
    },
    "colab_type": "code",
    "executionInfo": {
     "elapsed": 18311,
     "status": "ok",
     "timestamp": 1542974724020,
     "user": {
      "displayName": "Pauline H",
      "photoUrl": "",
      "userId": "16815656171459679261"
     },
     "user_tz": -60
    },
    "id": "XXkbcwl9qVVi",
    "outputId": "51a3a9c4-7c94-4b2d-8b0b-93b85f766516"
   },
   "outputs": [
    {
     "name": "stdout",
     "output_type": "stream",
     "text": [
      "The minimum value for a pixel is :  -1.0 \n",
      "The maximum value for a pixel is :  1.0\n"
     ]
    }
   ],
   "source": [
    "print('The minimum value for a pixel is : ' , np.min(x_train_brut), \"\\nThe maximum value for a pixel is : \", np.max(x_train_brut))"
   ]
  },
  {
   "cell_type": "markdown",
   "metadata": {
    "colab_type": "text",
    "id": "IMPcmKz9wFCq"
   },
   "source": [
    "Let's compute the standard deviation of each pixel for the x_train_brut set."
   ]
  },
  {
   "cell_type": "code",
   "execution_count": null,
   "metadata": {
    "colab": {},
    "colab_type": "code",
    "id": "AYouZmlVu922"
   },
   "outputs": [],
   "source": [
    "sigma = np.std(x_train_brut, axis = 0)"
   ]
  },
  {
   "cell_type": "markdown",
   "metadata": {
    "colab_type": "text",
    "id": "i0CJkLeCwOZC"
   },
   "source": [
    "We got 256 standard deviations, one for each of the 256 pixels in the image."
   ]
  },
  {
   "cell_type": "code",
   "execution_count": null,
   "metadata": {
    "colab": {
     "base_uri": "https://localhost:8080/",
     "height": 35
    },
    "colab_type": "code",
    "executionInfo": {
     "elapsed": 18350,
     "status": "ok",
     "timestamp": 1542974724068,
     "user": {
      "displayName": "Pauline H",
      "photoUrl": "",
      "userId": "16815656171459679261"
     },
     "user_tz": -60
    },
    "id": "tSZXJrqMv8jh",
    "outputId": "d6062b40-e640-4144-9921-ba07d6fa10c7"
   },
   "outputs": [
    {
     "data": {
      "text/plain": [
       "256"
      ]
     },
     "execution_count": 38,
     "metadata": {
      "tags": []
     },
     "output_type": "execute_result"
    }
   ],
   "source": [
    "len(sigma)"
   ]
  },
  {
   "cell_type": "markdown",
   "metadata": {
    "colab_type": "text",
    "id": "BTEJg13ywtKw"
   },
   "source": [
    "We select the indexes of the pixels with a standard deviation higher than 0.5."
   ]
  },
  {
   "cell_type": "code",
   "execution_count": null,
   "metadata": {
    "colab": {},
    "colab_type": "code",
    "id": "ilhH80musj7z"
   },
   "outputs": [],
   "source": [
    "# list containing the indexes of the significant pixels\n",
    "list_sig = np.nonzero(sigma >= 0.5)[0]"
   ]
  },
  {
   "cell_type": "code",
   "execution_count": null,
   "metadata": {
    "colab": {
     "base_uri": "https://localhost:8080/",
     "height": 271
    },
    "colab_type": "code",
    "executionInfo": {
     "elapsed": 18406,
     "status": "ok",
     "timestamp": 1542974724133,
     "user": {
      "displayName": "Pauline H",
      "photoUrl": "",
      "userId": "16815656171459679261"
     },
     "user_tz": -60
    },
    "id": "8WP9mAdszVqO",
    "outputId": "60110635-728f-4d5d-bad7-96ccf2b25eb8"
   },
   "outputs": [
    {
     "data": {
      "text/plain": [
       "array([  7,   8,   9,  10,  11,  12,  20,  21,  22,  23,  24,  25,  26,\n",
       "        27,  28,  29,  36,  37,  38,  39,  40,  41,  42,  43,  44,  45,\n",
       "        51,  52,  53,  54,  55,  56,  57,  58,  59,  66,  67,  68,  69,\n",
       "        70,  71,  72,  73,  82,  83,  84,  85,  86,  87,  88,  89,  98,\n",
       "        99, 100, 101, 102, 103, 104, 105, 106, 107, 114, 115, 116, 117,\n",
       "       118, 119, 120, 121, 122, 123, 124, 125, 130, 131, 132, 133, 134,\n",
       "       135, 136, 137, 138, 139, 140, 141, 145, 146, 147, 148, 149, 150,\n",
       "       151, 152, 153, 154, 155, 156, 157, 158, 161, 162, 163, 164, 165,\n",
       "       166, 167, 168, 169, 170, 171, 172, 173, 174, 177, 178, 179, 180,\n",
       "       181, 182, 183, 184, 185, 186, 187, 188, 189, 190, 193, 194, 195,\n",
       "       196, 197, 198, 199, 200, 201, 202, 203, 204, 205, 206, 209, 210,\n",
       "       211, 212, 213, 214, 215, 216, 217, 218, 219, 220, 221, 226, 227,\n",
       "       228, 229, 230, 231, 232, 233, 234, 235, 236, 244, 245, 246, 247,\n",
       "       248, 249, 250, 251], dtype=int64)"
      ]
     },
     "execution_count": 40,
     "metadata": {
      "tags": []
     },
     "output_type": "execute_result"
    }
   ],
   "source": [
    "list_sig"
   ]
  },
  {
   "cell_type": "code",
   "execution_count": null,
   "metadata": {
    "colab": {
     "base_uri": "https://localhost:8080/",
     "height": 35
    },
    "colab_type": "code",
    "executionInfo": {
     "elapsed": 18424,
     "status": "ok",
     "timestamp": 1542974724159,
     "user": {
      "displayName": "Pauline H",
      "photoUrl": "",
      "userId": "16815656171459679261"
     },
     "user_tz": -60
    },
    "id": "Nt9jQ0AquGe7",
    "outputId": "fe9f8b04-fcec-4c92-b247-ddfc9faf2588"
   },
   "outputs": [
    {
     "data": {
      "text/plain": [
       "173"
      ]
     },
     "execution_count": 41,
     "metadata": {
      "tags": []
     },
     "output_type": "execute_result"
    }
   ],
   "source": [
    "len(list_sig)"
   ]
  },
  {
   "cell_type": "markdown",
   "metadata": {
    "colab_type": "text",
    "id": "sPFlxEF3z6-e"
   },
   "source": [
    "Let's show the distribution of the high variance pixels.\n",
    "\n"
   ]
  },
  {
   "cell_type": "code",
   "execution_count": null,
   "metadata": {
    "colab": {
     "base_uri": "https://localhost:8080/",
     "height": 523
    },
    "colab_type": "code",
    "executionInfo": {
     "elapsed": 18494,
     "status": "ok",
     "timestamp": 1542974724237,
     "user": {
      "displayName": "Pauline H",
      "photoUrl": "",
      "userId": "16815656171459679261"
     },
     "user_tz": -60
    },
    "id": "GKpJhlMtxvCt",
    "outputId": "feb90c88-dff2-4b20-d25f-1d6c36556716"
   },
   "outputs": [
    {
     "name": "stdout",
     "output_type": "stream",
     "text": [
      "[0. 0. 0. 0. 0. 0. 0. 1. 1. 1. 1. 1. 1. 0. 0. 0. 0. 0. 0. 0. 1. 1. 1. 1.\n",
      " 1. 1. 1. 1. 1. 1. 0. 0. 0. 0. 0. 0. 1. 1. 1. 1. 1. 1. 1. 1. 1. 1. 0. 0.\n",
      " 0. 0. 0. 1. 1. 1. 1. 1. 1. 1. 1. 1. 0. 0. 0. 0. 0. 0. 1. 1. 1. 1. 1. 1.\n",
      " 1. 1. 0. 0. 0. 0. 0. 0. 0. 0. 1. 1. 1. 1. 1. 1. 1. 1. 0. 0. 0. 0. 0. 0.\n",
      " 0. 0. 1. 1. 1. 1. 1. 1. 1. 1. 1. 1. 0. 0. 0. 0. 0. 0. 1. 1. 1. 1. 1. 1.\n",
      " 1. 1. 1. 1. 1. 1. 0. 0. 0. 0. 1. 1. 1. 1. 1. 1. 1. 1. 1. 1. 1. 1. 0. 0.\n",
      " 0. 1. 1. 1. 1. 1. 1. 1. 1. 1. 1. 1. 1. 1. 1. 0. 0. 1. 1. 1. 1. 1. 1. 1.\n",
      " 1. 1. 1. 1. 1. 1. 1. 0. 0. 1. 1. 1. 1. 1. 1. 1. 1. 1. 1. 1. 1. 1. 1. 0.\n",
      " 0. 1. 1. 1. 1. 1. 1. 1. 1. 1. 1. 1. 1. 1. 1. 0. 0. 1. 1. 1. 1. 1. 1. 1.\n",
      " 1. 1. 1. 1. 1. 1. 0. 0. 0. 0. 1. 1. 1. 1. 1. 1. 1. 1. 1. 1. 1. 0. 0. 0.\n",
      " 0. 0. 0. 0. 1. 1. 1. 1. 1. 1. 1. 1. 0. 0. 0. 0.]\n"
     ]
    },
    {
     "data": {
      "image/png": "[encoded data removed]",
      "text/plain": [
       "<Figure size 504x360 with 1 Axes>"
      ]
     },
     "metadata": {
      "tags": []
     },
     "output_type": "display_data"
    }
   ],
   "source": [
    "Isig = np.zeros(256)\n",
    "Isig[list_sig] = 1\n",
    "print(Isig)\n",
    "Isig = reshape(Isig,(16,16))\n",
    "plt.rcParams['figure.figsize'] = 7,5\n",
    "plt.imshow(Isig,cmap='gray')\n",
    "plt.show()"
   ]
  },
  {
   "cell_type": "markdown",
   "metadata": {
    "colab_type": "text",
    "id": "uKtzBarY1kGM"
   },
   "source": [
    "We get the outline of a six and a five all together (white = significant pixels).\n",
    "Indeed we selected the pixels that change the most from one image to another. By doing that we selected the pixels that give more information on wether the digit is a five or a six."
   ]
  },
  {
   "cell_type": "markdown",
   "metadata": {
    "colab_type": "text",
    "id": "hDzFuSoU2ppf"
   },
   "source": [
    "Let us select the significant features. We create new test and train sets.\n",
    "We are applying a dimension reduction based on the feature significance (with the feature variance)."
   ]
  },
  {
   "cell_type": "code",
   "execution_count": null,
   "metadata": {
    "colab": {},
    "colab_type": "code",
    "id": "pY_rZdQvucZl"
   },
   "outputs": [],
   "source": [
    "x_train = x_train_brut[:,list_sig]\n",
    "x_test = x_test_brut[:, list_sig]"
   ]
  },
  {
   "cell_type": "code",
   "execution_count": null,
   "metadata": {
    "colab": {
     "base_uri": "https://localhost:8080/",
     "height": 53
    },
    "colab_type": "code",
    "executionInfo": {
     "elapsed": 18569,
     "status": "ok",
     "timestamp": 1542974724323,
     "user": {
      "displayName": "Pauline H",
      "photoUrl": "",
      "userId": "16815656171459679261"
     },
     "user_tz": -60
    },
    "id": "r_LdxtkzvHy9",
    "outputId": "8387254c-9e3e-44b3-ac12-2247430a98fb"
   },
   "outputs": [
    {
     "name": "stdout",
     "output_type": "stream",
     "text": [
      "x_train image do have :  173  pixels. \n",
      "x_test do have :  173 pixels.\n"
     ]
    }
   ],
   "source": [
    "print(\"x_train image do have : \", shape(x_train)[1], \" pixels. \\nx_test do have : \", shape(x_test)[1], \"pixels.\")"
   ]
  },
  {
   "cell_type": "code",
   "execution_count": 1,
   "metadata": {
    "colab": {
     "base_uri": "https://localhost:8080/",
     "height": 163
    },
    "colab_type": "code",
    "executionInfo": {
     "elapsed": 952,
     "status": "error",
     "timestamp": 1543411978127,
     "user": {
      "displayName": "Mohammad Afandi",
      "photoUrl": "",
      "userId": "02039134544224464075"
     },
     "user_tz": -60
    },
    "id": "GyFigQeihXAA",
    "outputId": "496e6cf0-1cac-4594-e4fa-8c4dc3cfdf92"
   },
   "outputs": [
    {
     "ename": "NameError",
     "evalue": "ignored",
     "output_type": "error",
     "traceback": [
      "\u001b[0;31m---------------------------------------------------------------------------\u001b[0m",
      "\u001b[0;31mNameError\u001b[0m                                 Traceback (most recent call last)",
      "\u001b[0;32m<ipython-input-1-4c0032f6737d>\u001b[0m in \u001b[0;36m<module>\u001b[0;34m()\u001b[0m\n\u001b[0;32m----> 1\u001b[0;31m \u001b[0mshape\u001b[0m\u001b[0;34m(\u001b[0m\u001b[0mx_train\u001b[0m\u001b[0;34m)\u001b[0m\u001b[0;34m\u001b[0m\u001b[0;34m\u001b[0m\u001b[0m\n\u001b[0m",
      "\u001b[0;31mNameError\u001b[0m: name 'shape' is not defined"
     ]
    }
   ],
   "source": [
    "shape(x_train)"
   ]
  },
  {
   "cell_type": "markdown",
   "metadata": {
    "colab_type": "text",
    "id": "zYp3bluGw_9N"
   },
   "source": [
    "Let's prepare the train and test sets : "
   ]
  },
  {
   "cell_type": "code",
   "execution_count": null,
   "metadata": {
    "colab": {},
    "colab_type": "code",
    "id": "nl08nFcExGWV"
   },
   "outputs": [],
   "source": [
    "# adding a columns of ones in the sets\n",
    "X_train = np.hstack((np.ones((N_train,1)), x_train))\n",
    "X_test = np.hstack((np.ones((N_test,1)), x_test))"
   ]
  },
  {
   "cell_type": "markdown",
   "metadata": {
    "colab_type": "text",
    "id": "qDIr2jy7vrAt"
   },
   "source": [
    "Let's estimate the logistic regression vector with the Logistic Regression method.\n"
   ]
  },
  {
   "cell_type": "markdown",
   "metadata": {
    "colab_type": "text",
    "id": "QCoRPKSILsTC"
   },
   "source": [
    "The matrix R becomes singular after iterating too many times. We think it is because the value of $||w||$ becomes high after iterating too much. "
   ]
  },
  {
   "cell_type": "code",
   "execution_count": null,
   "metadata": {
    "colab": {},
    "colab_type": "code",
    "id": "e1TA5ngzv0Du"
   },
   "outputs": [],
   "source": [
    "w, Niter = regression_logistique(X_train,class_train.T[0],Nitermax=13,eps_conv=1e-3) # we needed to reshape class_train as an array from dimension (345,1) to (345,)"
   ]
  },
  {
   "cell_type": "markdown",
   "metadata": {
    "colab_type": "text",
    "id": "bcELCFQ44ATn"
   },
   "source": [
    "Let's apply the decision function to the test set : "
   ]
  },
  {
   "cell_type": "code",
   "execution_count": null,
   "metadata": {
    "colab": {},
    "colab_type": "code",
    "id": "FgA1YNRx4IDf"
   },
   "outputs": [],
   "source": [
    "predicted_class_test = decision_function(w,X_test)"
   ]
  },
  {
   "cell_type": "markdown",
   "metadata": {
    "colab_type": "text",
    "id": "7ZZDYS8w4VHI"
   },
   "source": [
    "The original test set labels are :"
   ]
  },
  {
   "cell_type": "code",
   "execution_count": null,
   "metadata": {
    "colab": {},
    "colab_type": "code",
    "id": "YvBsZZ5P4YsR"
   },
   "outputs": [],
   "source": [
    "class_test = np.ones(N_test) # assigning label 1 for digit 6\n",
    "class_test[:len(train_5) - 145] = 0  # assigning label 0 for digit 5 (knowing that the 145 first images of 5 from train_5 are in the train set"
   ]
  },
  {
   "cell_type": "markdown",
   "metadata": {
    "colab_type": "text",
    "id": "1HU_xT006JFi"
   },
   "source": [
    "Let's now compute the error rate on the digit prediction :"
   ]
  },
  {
   "cell_type": "code",
   "execution_count": null,
   "metadata": {
    "colab": {
     "base_uri": "https://localhost:8080/",
     "height": 35
    },
    "colab_type": "code",
    "executionInfo": {
     "elapsed": 18796,
     "status": "ok",
     "timestamp": 1542974724569,
     "user": {
      "displayName": "Pauline H",
      "photoUrl": "",
      "userId": "16815656171459679261"
     },
     "user_tz": -60
    },
    "id": "h2wq9LUR6Shw",
    "outputId": "1250520e-2b84-4ee8-f29e-8f9d66d4eb10"
   },
   "outputs": [
    {
     "data": {
      "text/plain": [
       "0.07885714285714286"
      ]
     },
     "execution_count": 49,
     "metadata": {
      "tags": []
     },
     "output_type": "execute_result"
    }
   ],
   "source": [
    "error = np.sum(np.abs(class_test - predicted_class_test)) / N_test\n",
    "error"
   ]
  },
  {
   "cell_type": "markdown",
   "metadata": {
    "colab_type": "text",
    "id": "cWKFS1YS651I"
   },
   "source": [
    "Let's visualize some mispredicted digits : "
   ]
  },
  {
   "cell_type": "code",
   "execution_count": null,
   "metadata": {
    "colab": {
     "base_uri": "https://localhost:8080/",
     "height": 126
    },
    "colab_type": "code",
    "executionInfo": {
     "elapsed": 18805,
     "status": "ok",
     "timestamp": 1542974724587,
     "user": {
      "displayName": "Pauline H",
      "photoUrl": "",
      "userId": "16815656171459679261"
     },
     "user_tz": -60
    },
    "id": "NFm7i0vl6s_Q",
    "outputId": "4b78ea2e-4c3b-4059-d3ac-1d529625ee4e"
   },
   "outputs": [
    {
     "data": {
      "text/plain": [
       "(array([ 27,  28,  60,  61,  81, 109, 127, 130, 131, 135, 145, 152, 153,\n",
       "        156, 160, 177, 210, 212, 217, 227, 230, 243, 249, 263, 270, 277,\n",
       "        293, 312, 313, 317, 324, 326, 333, 334, 340, 365, 367, 368, 378,\n",
       "        379, 381, 382, 389, 396, 401, 416, 421, 429, 441, 452, 495, 512,\n",
       "        532, 562, 568, 571, 573, 590, 609, 643, 655, 662, 724, 747, 794,\n",
       "        832, 833, 841, 856], dtype=int64),)"
      ]
     },
     "execution_count": 50,
     "metadata": {
      "tags": []
     },
     "output_type": "execute_result"
    }
   ],
   "source": [
    "index_error = np.nonzero(class_test - predicted_class_test)\n",
    "index_error"
   ]
  },
  {
   "cell_type": "code",
   "execution_count": null,
   "metadata": {
    "colab": {
     "base_uri": "https://localhost:8080/",
     "height": 35
    },
    "colab_type": "code",
    "executionInfo": {
     "elapsed": 18826,
     "status": "ok",
     "timestamp": 1542974724616,
     "user": {
      "displayName": "Pauline H",
      "photoUrl": "",
      "userId": "16815656171459679261"
     },
     "user_tz": -60
    },
    "id": "sOoig2qP7mgZ",
    "outputId": "85563eab-866b-4980-e454-b127748002dc"
   },
   "outputs": [
    {
     "name": "stdout",
     "output_type": "stream",
     "text": [
      "This image is predicted :  1.0  but is class :  0.0\n"
     ]
    }
   ],
   "source": [
    "# mispredicted digit\n",
    "n = 27 \n",
    "print(\"This image is predicted : \" , predicted_class_test[n], \" but is class : \", class_test[n])"
   ]
  },
  {
   "cell_type": "code",
   "execution_count": null,
   "metadata": {
    "colab": {
     "base_uri": "https://localhost:8080/",
     "height": 323
    },
    "colab_type": "code",
    "executionInfo": {
     "elapsed": 18922,
     "status": "ok",
     "timestamp": 1542974724722,
     "user": {
      "displayName": "Pauline H",
      "photoUrl": "",
      "userId": "16815656171459679261"
     },
     "user_tz": -60
    },
    "id": "4bfwp_D27CtI",
    "outputId": "0ec872ec-841e-4ae1-e351-2c0e5ed6b1e6"
   },
   "outputs": [
    {
     "data": {
      "image/png": "[encoded data removed]",
      "text/plain": [
       "<Figure size 504x360 with 1 Axes>"
      ]
     },
     "metadata": {
      "tags": []
     },
     "output_type": "display_data"
    }
   ],
   "source": [
    "n=27; \n",
    "I = np.reshape(x_test_brut[n,:],(16,16))\n",
    "plt.rcParams['figure.figsize'] = 7,5\n",
    "plt.imshow(I,cmap='gray')\n",
    "plt.show()"
   ]
  },
  {
   "cell_type": "markdown",
   "metadata": {
    "colab_type": "text",
    "id": "702dcsZr8NYq"
   },
   "source": [
    "The digit is predicted as a '6' but is a '5'."
   ]
  },
  {
   "cell_type": "code",
   "execution_count": null,
   "metadata": {
    "colab": {
     "base_uri": "https://localhost:8080/",
     "height": 35
    },
    "colab_type": "code",
    "executionInfo": {
     "elapsed": 18961,
     "status": "ok",
     "timestamp": 1542974724772,
     "user": {
      "displayName": "Pauline H",
      "photoUrl": "",
      "userId": "16815656171459679261"
     },
     "user_tz": -60
    },
    "id": "uWDDFsDd8m1h",
    "outputId": "85671d59-4397-4af8-8231-70126e2d8919"
   },
   "outputs": [
    {
     "name": "stdout",
     "output_type": "stream",
     "text": [
      "This image is predicted :  0.0  but is class :  1.0\n"
     ]
    }
   ],
   "source": [
    "# mispredicted digit\n",
    "n = 609 \n",
    "print(\"This image is predicted : \" , predicted_class_test[n], \" but is class : \", class_test[n])"
   ]
  },
  {
   "cell_type": "code",
   "execution_count": null,
   "metadata": {
    "colab": {
     "base_uri": "https://localhost:8080/",
     "height": 323
    },
    "colab_type": "code",
    "executionInfo": {
     "elapsed": 19060,
     "status": "ok",
     "timestamp": 1542974724885,
     "user": {
      "displayName": "Pauline H",
      "photoUrl": "",
      "userId": "16815656171459679261"
     },
     "user_tz": -60
    },
    "id": "4w2KXAMd8tjJ",
    "outputId": "a74dc708-167a-4fce-a59f-f67ef3aa9cef"
   },
   "outputs": [
    {
     "data": {
      "image/png": "[encoded data removed]",
      "text/plain": [
       "<Figure size 504x360 with 1 Axes>"
      ]
     },
     "metadata": {
      "tags": []
     },
     "output_type": "display_data"
    }
   ],
   "source": [
    "n=609; \n",
    "I = np.reshape(x_test_brut[n,:],(16,16))\n",
    "plt.rcParams['figure.figsize'] = 7,5\n",
    "plt.imshow(I,cmap='gray')\n",
    "plt.show()"
   ]
  },
  {
   "cell_type": "markdown",
   "metadata": {
    "colab_type": "text",
    "id": "Tyd-NGAM8yQh"
   },
   "source": [
    "The digit is predicted as a '5' but is a '6'. "
   ]
  },
  {
   "cell_type": "markdown",
   "metadata": {
    "colab_type": "text",
    "id": "ZWtKzHLygnVz"
   },
   "source": [
    "## 3. Logistic regression using `scikit-learn`"
   ]
  },
  {
   "cell_type": "markdown",
   "metadata": {
    "colab_type": "text",
    "id": "uzXjGwAognV0"
   },
   "source": [
    "1. **Go to** http://scikit-learn.org/stable/modules/generated/sklearn.linear_model.LogisticRegression.html for a presentation of the logistic regression model in `scikit-learn`.\n",
    "\n",
    "2. **Apply** it to the present data set.\n",
    "\n",
    "3. **Comment** on the use of logistic regression.\n",
    "\n",
    "*Indication : you may have a look at* \n",
    "\n",
    "a) Theory : http://openclassroom.stanford.edu/MainFolder/DocumentPage.php?course=MachineLearning&doc=exercises/ex5/ex5.html\n",
    "\n",
    "b) Video :  https://www.coursera.org/learn/machine-learning/lecture/4BHEy/regularized-logistic-regression \n",
    "\n",
    "c) Example : http://scikit-learn.org/stable/auto_examples/exercises/plot_digits_classification_exercise.html#sphx-glr-auto-examples-exercises-plot-digits-classification-exercise-py\n",
    "\n",
    "*for a short presentation of regularized logistic regression.*"
   ]
  },
  {
   "cell_type": "code",
   "execution_count": null,
   "metadata": {
    "colab": {},
    "colab_type": "code",
    "id": "O_17xYntgnV5"
   },
   "outputs": [],
   "source": [
    "from sklearn.linear_model import LogisticRegression"
   ]
  },
  {
   "cell_type": "code",
   "execution_count": null,
   "metadata": {
    "colab": {},
    "colab_type": "code",
    "id": "natJQNH8_hmj"
   },
   "outputs": [],
   "source": [
    "import warnings\n",
    "warnings.filterwarnings('ignore')"
   ]
  },
  {
   "cell_type": "code",
   "execution_count": null,
   "metadata": {
    "colab": {
     "base_uri": "https://localhost:8080/",
     "height": 90
    },
    "colab_type": "code",
    "executionInfo": {
     "elapsed": 19117,
     "status": "ok",
     "timestamp": 1542974724959,
     "user": {
      "displayName": "Pauline H",
      "photoUrl": "",
      "userId": "16815656171459679261"
     },
     "user_tz": -60
    },
    "id": "TUJT2avh9utr",
    "outputId": "24252ad7-643e-4192-c6b5-1bae76266e75"
   },
   "outputs": [
    {
     "data": {
      "text/plain": [
       "LogisticRegression(C=1.0, class_weight=None, dual=False, fit_intercept=True,\n",
       "          intercept_scaling=1, max_iter=13, multi_class='ovr', n_jobs=1,\n",
       "          penalty='l2', random_state=None, solver='newton-cg', tol=0.0001,\n",
       "          verbose=0, warm_start=False)"
      ]
     },
     "execution_count": 57,
     "metadata": {
      "tags": []
     },
     "output_type": "execute_result"
    }
   ],
   "source": [
    "# Training on train set\n",
    "clf = LogisticRegression(solver = 'newton-cg', max_iter = 13)\n",
    "clf.fit(x_train, class_train) "
   ]
  },
  {
   "cell_type": "code",
   "execution_count": null,
   "metadata": {
    "colab": {},
    "colab_type": "code",
    "id": "2BS0Vcj1_jFy"
   },
   "outputs": [],
   "source": [
    "# Predicting on test set\n",
    "predicted_class_scikit = clf.predict(x_test)"
   ]
  },
  {
   "cell_type": "code",
   "execution_count": null,
   "metadata": {
    "colab": {
     "base_uri": "https://localhost:8080/",
     "height": 35
    },
    "colab_type": "code",
    "executionInfo": {
     "elapsed": 19164,
     "status": "ok",
     "timestamp": 1542974725019,
     "user": {
      "displayName": "Pauline H",
      "photoUrl": "",
      "userId": "16815656171459679261"
     },
     "user_tz": -60
    },
    "id": "BAfgNJcE_4Qz",
    "outputId": "8144042e-8091-4852-edc1-2efe7132fa04"
   },
   "outputs": [
    {
     "data": {
      "text/plain": [
       "0.026285714285714246"
      ]
     },
     "execution_count": 59,
     "metadata": {
      "tags": []
     },
     "output_type": "execute_result"
    }
   ],
   "source": [
    "# Compute error on prediction\n",
    "1 - clf.score(x_test,class_test)"
   ]
  },
  {
   "cell_type": "code",
   "execution_count": null,
   "metadata": {
    "colab": {
     "base_uri": "https://localhost:8080/",
     "height": 35
    },
    "colab_type": "code",
    "executionInfo": {
     "elapsed": 19218,
     "status": "ok",
     "timestamp": 1542974725080,
     "user": {
      "displayName": "Pauline H",
      "photoUrl": "",
      "userId": "16815656171459679261"
     },
     "user_tz": -60
    },
    "id": "3OAEWU_2A2-i",
    "outputId": "45fccf3a-a1c2-406a-c495-22078e10e49b"
   },
   "outputs": [
    {
     "data": {
      "text/plain": [
       "0.07885714285714286"
      ]
     },
     "execution_count": 60,
     "metadata": {
      "tags": []
     },
     "output_type": "execute_result"
    }
   ],
   "source": [
    "# Error with the programmed algorithm\n",
    "error\n"
   ]
  },
  {
   "cell_type": "markdown",
   "metadata": {
    "colab_type": "text",
    "id": "Z4A9q2qTAVJD"
   },
   "source": [
    "The error of the scikit-learn prediction is lower than with the algorithm we programmed (with similar parameters) : 2,6 % of error for the scikit-learn model, compared to 7,9 % of error with the programmed algorithm."
   ]
  },
  {
   "cell_type": "markdown",
   "metadata": {
    "colab_type": "text",
    "id": "E61dpAb3O7V4"
   },
   "source": [
    "We test the scikit-learn Logistic Regression on the raw data (with no prior significant features selection).\n",
    "We expect a worse prediction, but only by a small margin as the scikit-learn logisitic regression applies a $l^{1}$ penalty by default. Such a penalty induces a sparse regression vector."
   ]
  },
  {
   "cell_type": "code",
   "execution_count": null,
   "metadata": {
    "colab": {
     "base_uri": "https://localhost:8080/",
     "height": 35
    },
    "colab_type": "code",
    "executionInfo": {
     "elapsed": 19247,
     "status": "ok",
     "timestamp": 1542974725117,
     "user": {
      "displayName": "Pauline H",
      "photoUrl": "",
      "userId": "16815656171459679261"
     },
     "user_tz": -60
    },
    "id": "RINb76bUOnPK",
    "outputId": "95004bb7-cc72-496c-c78c-b38895504e63"
   },
   "outputs": [
    {
     "data": {
      "text/plain": [
       "0.02857142857142858"
      ]
     },
     "execution_count": 61,
     "metadata": {
      "tags": []
     },
     "output_type": "execute_result"
    }
   ],
   "source": [
    "# Training on train set\n",
    "clf = LogisticRegression(solver = 'newton-cg', max_iter = 13)\n",
    "clf.fit(x_train_brut, class_train) \n",
    "\n",
    "# Predicting on test set\n",
    "predicted_class_scikit = clf.predict(x_test_brut)\n",
    "\n",
    "# Compute error on prediction\n",
    "1 - clf.score(x_test_brut,class_test)"
   ]
  },
  {
   "cell_type": "markdown",
   "metadata": {
    "colab_type": "text",
    "id": "ZrOnW3Z1QIYZ"
   },
   "source": [
    "This is not a surprising result. The $l^1$ penalty created sparcity on the features (selected the significant features)."
   ]
  },
  {
   "cell_type": "markdown",
   "metadata": {
    "colab_type": "text",
    "id": "BFUS_g0VgnV-"
   },
   "source": [
    "For the digit set prediction, we have noticed that iterating too much within the Logistic Regression algorithm leads to $R$ becoming singular. We assume our training data set is linearly separable. Therefore by iterating the Newton algorithm, we increased the value of $w$ that made $R$ singular.\n",
    "We could have tested applying a $l^1$ penalty to the likelyhood in order to avoid this issue."
   ]
  }
 ],
 "metadata": {
  "colab": {
   "collapsed_sections": [],
   "name": "TP3_Afandi_Hu.ipynb",
   "provenance": [],
   "version": "0.3.2"
  },
  "kernelspec": {
   "display_name": "Python 3",
   "language": "python",
   "name": "python3"
  },
  "language_info": {
   "codemirror_mode": {
    "name": "ipython",
    "version": 3
   },
   "file_extension": ".py",
   "mimetype": "text/x-python",
   "name": "python",
   "nbconvert_exporter": "python",
   "pygments_lexer": "ipython3",
   "version": "3.8.8"
  }
 },
 "nbformat": 4,
 "nbformat_minor": 4
}
