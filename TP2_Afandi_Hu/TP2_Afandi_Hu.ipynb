{
 "cells": [
  {
   "cell_type": "markdown",
   "metadata": {
    "colab_type": "text",
    "id": "Z1-bhrn90g_7"
   },
   "source": [
    "Mohammad AFANDI\n",
    "\n",
    "Pauline HU\n",
    "\n",
    "16/11/2018"
   ]
  },
  {
   "cell_type": "markdown",
   "metadata": {
    "colab_type": "text",
    "id": "uLG9TQObsDGk"
   },
   "source": [
    "## TP2 : Classification using Linear & Quadratic Discriminant Analysis\n",
    "\n",
    "First think of configuring your notebook :"
   ]
  },
  {
   "cell_type": "code",
   "execution_count": 1,
   "metadata": {
    "colab": {},
    "colab_type": "code",
    "id": "Fr0rALehsDGn"
   },
   "outputs": [],
   "source": [
    "import csv\n",
    "# import os\n",
    "from pylab import *\n",
    "import numpy as np\n",
    "from numpy import linalg as la\n",
    "\n",
    "import pandas as pd"
   ]
  },
  {
   "cell_type": "markdown",
   "metadata": {
    "colab_type": "text",
    "id": "DY3TiasIsDGx"
   },
   "source": [
    "## Reading synthetic data\n",
    "Load the training and test data sets |synth_train.txt| and\n",
    "|synth_test.txt| already used for Knn. Targets belong to {1,2} and entries belong to R^2.\n",
    "We have 100 training data samples and 200 test samples.\n",
    "\n",
    "* the 1st column contains the label of the class the sample, \n",
    "* columns 2 & 3 contain the coordinates of each sample in 2D."
   ]
  },
  {
   "cell_type": "code",
   "execution_count": 2,
   "metadata": {
    "colab": {},
    "colab_type": "code",
    "id": "M06EoR7NsDG0"
   },
   "outputs": [],
   "source": [
    "train = np.loadtxt('synth_train.txt')\n",
    "\n",
    "test = np.loadtxt('synth_test.txt')"
   ]
  },
  {
   "cell_type": "markdown",
   "metadata": {
    "colab_type": "text",
    "id": "B7nOI4whsDG7"
   },
   "source": [
    "## Recall about the main steps of discriminant analysis:\n",
    "* estimation of weights `pi_1` and `pi_2` for each class,\n",
    "* estimation of empirical means `mu_1` and `mu_2` for each class, \n",
    "* estimation of empirical covariance matrices  `sigma_1` and `sigma_2`,\n",
    "* computation of the common averaged covariance `sigma` (average of intra-class covariances),\n",
    "* computation of log-probabilities of belonging to each class,\n",
    "* decision of classification,\n",
    "* display results.\n"
   ]
  },
  {
   "cell_type": "markdown",
   "metadata": {
    "colab_type": "text",
    "id": "tr54otxSsDG8"
   },
   "source": [
    "## TO DO : linear & quadratic discriminant analysis (LDA & QDA)\n",
    "1. Implement a classifier using LDA of the data set. \n",
    "2. Then implement QDA classification.\n",
    "3. In each case (LDA & QDA) show the decision boundary and\n",
    "compute the error rate respectively for the training set and the test set. \n",
    "4. Compare and comment on your results with LDA and QDA.\n",
    "5. You may also compare your results to K nearest neighbours.\n",
    "\n",
    "_Indication 1 : matrices `sigma` are of size 2x2.\n",
    "More generally, be careful of the sizes of vectors and matrices you\n",
    "manipulate._\n",
    "\n",
    "_Indication 2 : to display the regions of decision, you may use:_\n"
   ]
  },
  {
   "cell_type": "markdown",
   "metadata": {
    "colab_type": "text",
    "id": "OZfl4mF6vsB-"
   },
   "source": [
    "## Initiating a sampling of a 2D plan"
   ]
  },
  {
   "cell_type": "markdown",
   "metadata": {
    "colab_type": "text",
    "id": "V9jF69DVvRzD"
   },
   "source": [
    "This following code will be used to create a sampling of the 2D plan [-2.5 , 1.5] x [-0.5 , 4] with 1000 points."
   ]
  },
  {
   "cell_type": "code",
   "execution_count": 3,
   "metadata": {
    "colab": {},
    "colab_type": "code",
    "id": "NUof1yB2sDG9"
   },
   "outputs": [],
   "source": [
    "Nx1=100 # number of samples for display\n",
    "Nx2=100\n",
    "x1=np.linspace(-2.5,1.5,Nx1)  # sampling of the x1 axis \n",
    "x2=np.linspace(-0.5,4,Nx2)  # sampling of the x2 axis\n",
    "[X1,X2]=np.meshgrid(x1,x2)   \n",
    "x = np.vstack((X1.flatten(),np.flip(X2, axis=0).flatten())).T  # list of the coordinates of the points on the grid \n",
    "N = size(x,axis=0)\n",
    "N1 = len(X1)\n",
    "N2 = len(X2)\n",
    "\n",
    "# Then compute the sampled prediction class_L for each couple (X1,X2)"
   ]
  },
  {
   "cell_type": "markdown",
   "metadata": {
    "colab_type": "text",
    "id": "dKxnf8DyV5_z"
   },
   "source": [
    "This following code will be used to create a sampling of the 2D plan [-2.5 , 1.5] x [-0.5 , 4] with 1000 points."
   ]
  },
  {
   "cell_type": "code",
   "execution_count": 4,
   "metadata": {
    "colab": {
     "base_uri": "https://localhost:8080/",
     "height": 136
    },
    "colab_type": "code",
    "executionInfo": {
     "elapsed": 1250,
     "status": "ok",
     "timestamp": 1542385555764,
     "user": {
      "displayName": "Mohammad Afandi",
      "photoUrl": "",
      "userId": "02039134544224464075"
     },
     "user_tz": -60
    },
    "id": "w8I1hmThFdLc",
    "outputId": "2a1e457c-315e-483a-a05d-968d19ddd1aa"
   },
   "outputs": [
    {
     "data": {
      "text/plain": [
       "array([[-2.5       ,  4.        ],\n",
       "       [-2.45959596,  4.        ],\n",
       "       [-2.41919192,  4.        ],\n",
       "       ...,\n",
       "       [ 1.41919192, -0.5       ],\n",
       "       [ 1.45959596, -0.5       ],\n",
       "       [ 1.5       , -0.5       ]])"
      ]
     },
     "execution_count": 4,
     "metadata": {},
     "output_type": "execute_result"
    }
   ],
   "source": [
    "x = np.vstack((X1.flatten(),np.flip(X2, axis=0).flatten())).T\n",
    "x"
   ]
  },
  {
   "cell_type": "markdown",
   "metadata": {
    "colab_type": "text",
    "id": "cCSqk5r4sDHD"
   },
   "source": [
    "## Estimation of the data parameters"
   ]
  },
  {
   "cell_type": "markdown",
   "metadata": {
    "colab_type": "text",
    "id": "pLt2JZensDHE"
   },
   "source": [
    "We should first split the datasets for each class."
   ]
  },
  {
   "cell_type": "code",
   "execution_count": 5,
   "metadata": {
    "colab": {},
    "colab_type": "code",
    "id": "rblwHusdsDHG"
   },
   "outputs": [],
   "source": [
    "train_1 = train[train[:,0]==1][:,1:]\n",
    "n1 = len(train_1)"
   ]
  },
  {
   "cell_type": "code",
   "execution_count": 6,
   "metadata": {
    "colab": {},
    "colab_type": "code",
    "id": "FKuqEzqrsDHJ"
   },
   "outputs": [],
   "source": [
    "train_2 = train[train[:,0]==2][:,1:]\n",
    "n2 = len(train_2)"
   ]
  },
  {
   "cell_type": "markdown",
   "metadata": {
    "colab_type": "text",
    "id": "5M5DUU2jsDHM"
   },
   "source": [
    "We should also prepare the train and test set."
   ]
  },
  {
   "cell_type": "code",
   "execution_count": 7,
   "metadata": {
    "colab": {},
    "colab_type": "code",
    "id": "6HDlDYKBsDHO"
   },
   "outputs": [],
   "source": [
    "trainset = train[:,1:]\n",
    "testset = test[:,1:]"
   ]
  },
  {
   "cell_type": "markdown",
   "metadata": {
    "colab_type": "text",
    "id": "ejBoZyzosDHS"
   },
   "source": [
    "We should then compute the estimated parameters $\\pi_{i}, \\mu_{i},\\Sigma_{i}$ and $\\Sigma$."
   ]
  },
  {
   "cell_type": "code",
   "execution_count": 8,
   "metadata": {
    "colab": {},
    "colab_type": "code",
    "id": "bT-x27wgsDHT"
   },
   "outputs": [],
   "source": [
    "pi_1 = len(train_1)/len(train)\n",
    "pi_2 = len(train_2)/len(train)"
   ]
  },
  {
   "cell_type": "code",
   "execution_count": 9,
   "metadata": {
    "colab": {},
    "colab_type": "code",
    "id": "gAxW6xQ3sDHX"
   },
   "outputs": [],
   "source": [
    "mu_1 = np.mean(train_1,axis=0)\n",
    "mu_2 = np.mean(train_2,axis=0)"
   ]
  },
  {
   "cell_type": "code",
   "execution_count": 10,
   "metadata": {
    "colab": {},
    "colab_type": "code",
    "id": "VAIvYUv9sDHa"
   },
   "outputs": [],
   "source": [
    "sigma_1 = np.cov(train_1.T)\n",
    "sigma_2 = np.cov(train_2.T)"
   ]
  },
  {
   "cell_type": "code",
   "execution_count": 11,
   "metadata": {
    "colab": {},
    "colab_type": "code",
    "id": "_ODi8G5msDHd"
   },
   "outputs": [],
   "source": [
    "sigma = 1/len(train)*(n1*sigma_1+n2*sigma_2)"
   ]
  },
  {
   "cell_type": "markdown",
   "metadata": {
    "colab_type": "text",
    "id": "_oHcd2U7V6Ab"
   },
   "source": [
    "Let us compare the sigmas : "
   ]
  },
  {
   "cell_type": "code",
   "execution_count": 12,
   "metadata": {
    "colab": {
     "base_uri": "https://localhost:8080/",
     "height": 153
    },
    "colab_type": "code",
    "executionInfo": {
     "elapsed": 1310,
     "status": "ok",
     "timestamp": 1542385555873,
     "user": {
      "displayName": "Mohammad Afandi",
      "photoUrl": "",
      "userId": "02039134544224464075"
     },
     "user_tz": -60
    },
    "id": "C1SqwucasbEO",
    "outputId": "b8ee1742-87e4-4434-a043-f4687c0e51e5"
   },
   "outputs": [
    {
     "name": "stdout",
     "output_type": "stream",
     "text": [
      "sigma_1 :  [[0.54124863 0.32258376]\n",
      " [0.32258376 0.51088153]]\n",
      "\n",
      "sigma_2 :  [[0.24599115 0.01961141]\n",
      " [0.01961141 0.21154879]]\n",
      "\n",
      "sigma :  [[0.3109478  0.08626533]\n",
      " [0.08626533 0.277402  ]]\n"
     ]
    }
   ],
   "source": [
    "print('sigma_1 : ', sigma_1)\n",
    "print('\\nsigma_2 : ', sigma_2)\n",
    "print('\\nsigma : ', sigma)"
   ]
  },
  {
   "cell_type": "markdown",
   "metadata": {
    "colab_type": "text",
    "id": "O4HMEsULtBNH"
   },
   "source": [
    "The sigmas for each class are quite diffenrent from each other. LDA uses a mean siga from the two class for its prediction, so we will probably get a better prediction with QDA than with LDA.\n"
   ]
  },
  {
   "cell_type": "markdown",
   "metadata": {
    "colab_type": "text",
    "id": "VJF_z1w9sDHf"
   },
   "source": [
    "We also need to compute the inverses of $\\Sigma_{1},\\Sigma_{2}$ and $\\Sigma$."
   ]
  },
  {
   "cell_type": "code",
   "execution_count": 13,
   "metadata": {
    "colab": {},
    "colab_type": "code",
    "id": "oxJ85zLMsDHh"
   },
   "outputs": [],
   "source": [
    "sigma_1_inv = la.inv(sigma_1)\n",
    "sigma_2_inv = la.inv(sigma_2)\n",
    "sigma_inv = la.inv(sigma)"
   ]
  },
  {
   "cell_type": "markdown",
   "metadata": {
    "colab_type": "text",
    "id": "HXqWW2unsDHk"
   },
   "source": [
    "Let's now compute the Bayes classifier for LDA (using $\\Sigma$) and for QDA (using $\\Sigma_{1}$ and $\\Sigma_{2}$)"
   ]
  },
  {
   "cell_type": "markdown",
   "metadata": {
    "colab_type": "text",
    "id": "oUr6VclIsDHl"
   },
   "source": [
    "## LDA"
   ]
  },
  {
   "cell_type": "markdown",
   "metadata": {
    "colab_type": "text",
    "id": "KEeHIJ2KsDHm"
   },
   "source": [
    "LDA classifier: we use common variance matrix $\\Sigma$."
   ]
  },
  {
   "cell_type": "markdown",
   "metadata": {
    "colab_type": "text",
    "id": "ndQOTuOWsDHn"
   },
   "source": [
    "Let's first do it for the training set."
   ]
  },
  {
   "cell_type": "code",
   "execution_count": 14,
   "metadata": {
    "colab": {},
    "colab_type": "code",
    "id": "M7-yO5zfsDHo"
   },
   "outputs": [],
   "source": [
    "predicted_train_class_LDA  = np.zeros(len(train),dtype = np.int8)\n",
    "train_error_LDA = 0\n",
    "for i in range(len(trainset)):\n",
    "    # Log-probabilities\n",
    "    p1 = pi_1*np.exp(-1/2*(trainset[i]-mu_1).T.dot(sigma_inv).dot(trainset[i]-mu_1))\n",
    "    p2 = pi_2*np.exp(-1/2*(trainset[i]-mu_2).T.dot(sigma_inv).dot(trainset[i]-mu_2))\n",
    "    # Classification\n",
    "    if p1 >= p2:\n",
    "        predicted_train_class_LDA [i] = 1\n",
    "    else:\n",
    "        predicted_train_class_LDA [i] = 2\n",
    "    # Error computation: compare predicted classes with actual classes\n",
    "    if predicted_train_class_LDA [i] != train[i][0]:\n",
    "        train_error_LDA +=1\n",
    "train_error_LDA = train_error_LDA/len(train)"
   ]
  },
  {
   "cell_type": "code",
   "execution_count": 15,
   "metadata": {
    "colab": {
     "base_uri": "https://localhost:8080/",
     "height": 34
    },
    "colab_type": "code",
    "executionInfo": {
     "elapsed": 1300,
     "status": "ok",
     "timestamp": 1542385555905,
     "user": {
      "displayName": "Mohammad Afandi",
      "photoUrl": "",
      "userId": "02039134544224464075"
     },
     "user_tz": -60
    },
    "id": "6kqdtzYAsDHs",
    "outputId": "401d61b1-a6af-42ad-9cf9-a45c68687f07",
    "scrolled": true
   },
   "outputs": [
    {
     "name": "stdout",
     "output_type": "stream",
     "text": [
      "LDA train error:  3.0 %\n"
     ]
    }
   ],
   "source": [
    "print(\"LDA train error: \",train_error_LDA*100,\"%\")"
   ]
  },
  {
   "cell_type": "code",
   "execution_count": 16,
   "metadata": {
    "colab": {},
    "colab_type": "code",
    "id": "1IU77wOVsDHz"
   },
   "outputs": [],
   "source": [
    "predicted_train_class_LDA = np.reshape(predicted_train_class_LDA,(-1,1)) # transform the 1D - array to a column array\n",
    "predicted_trainset_LDA = np.concatenate((predicted_train_class_LDA,trainset),axis = 1)  # add the predicted class to the initial train set"
   ]
  },
  {
   "cell_type": "markdown",
   "metadata": {
    "colab_type": "text",
    "id": "9laFJv7FsDH3"
   },
   "source": [
    "We can do the same thing for the test set."
   ]
  },
  {
   "cell_type": "code",
   "execution_count": 17,
   "metadata": {
    "colab": {},
    "colab_type": "code",
    "id": "0SqEg5njsDH5"
   },
   "outputs": [],
   "source": [
    "predicted_test_class_LDA  = np.zeros(len(test),dtype = np.int8)\n",
    "test_error_LDA = 0\n",
    "for i in range(len(testset)):\n",
    "    # Log-probabilities\n",
    "    p1 = pi_1*np.exp(-1/2*(testset[i]-mu_1).T.dot(sigma_inv).dot(testset[i]-mu_1))\n",
    "    p2 = pi_2*np.exp(-1/2*(testset[i]-mu_2).T.dot(sigma_inv).dot(testset[i]-mu_2))\n",
    "    # Classification\n",
    "    if p1 >= p2:\n",
    "        predicted_test_class_LDA [i] = 1\n",
    "    else:\n",
    "        predicted_test_class_LDA [i] = 2\n",
    "    # Error computation: compare predicted classes with actual classes\n",
    "    if predicted_test_class_LDA [i] != test[i][0]:\n",
    "        test_error_LDA +=1\n",
    "test_error_LDA = test_error_LDA/len(test)"
   ]
  },
  {
   "cell_type": "code",
   "execution_count": 18,
   "metadata": {
    "colab": {
     "base_uri": "https://localhost:8080/",
     "height": 34
    },
    "colab_type": "code",
    "executionInfo": {
     "elapsed": 1323,
     "status": "ok",
     "timestamp": 1542385555957,
     "user": {
      "displayName": "Mohammad Afandi",
      "photoUrl": "",
      "userId": "02039134544224464075"
     },
     "user_tz": -60
    },
    "id": "XLTTY407sDH7",
    "outputId": "e2e4646e-650c-40e2-e5d7-fbb23d85d9bc",
    "scrolled": true
   },
   "outputs": [
    {
     "name": "stdout",
     "output_type": "stream",
     "text": [
      "LDA test error:  5.5 %\n"
     ]
    }
   ],
   "source": [
    "print(\"LDA test error: \",test_error_LDA*100,\"%\")"
   ]
  },
  {
   "cell_type": "code",
   "execution_count": 19,
   "metadata": {
    "colab": {},
    "colab_type": "code",
    "id": "Run91Mj3sDIA"
   },
   "outputs": [],
   "source": [
    "predicted_test_class_LDA = np.reshape(predicted_test_class_LDA,(-1,1))\n",
    "predicted_testset_LDA = np.concatenate((predicted_test_class_LDA,testset),axis = 1)"
   ]
  },
  {
   "cell_type": "markdown",
   "metadata": {
    "colab_type": "text",
    "id": "-mCT7N8Ot2SD"
   },
   "source": [
    "## LDA with non linear features"
   ]
  },
  {
   "cell_type": "markdown",
   "metadata": {
    "colab_type": "text",
    "id": "VswEXp6B2tHw"
   },
   "source": [
    "We are adding non linear dependancies on the initial features to lose less information on quadratic dependencies"
   ]
  },
  {
   "cell_type": "markdown",
   "metadata": {
    "colab_type": "text",
    "id": "I61deI0_fWGH"
   },
   "source": [
    "Let's do it for the train set first:"
   ]
  },
  {
   "cell_type": "code",
   "execution_count": 20,
   "metadata": {
    "colab": {},
    "colab_type": "code",
    "id": "MeNdnpu7uHwv"
   },
   "outputs": [],
   "source": [
    "# Creating new train set with non linear feature dependencies\n",
    "train_nl = np.copy(train)  # adding features : class, x1, x2\n",
    "train_nl = np.insert(train_nl,3 , train[:,1]*train[:,1], axis = 1) # adding feature x1*x1\n",
    "train_nl = np.insert(train_nl,4 , train[:,1]*train[:,2], axis = 1) # adding feature x1*x2\n",
    "train_nl = np.insert(train_nl,5 , train[:,2]*train[:,2], axis = 1) # adding feature x2*x2"
   ]
  },
  {
   "cell_type": "code",
   "execution_count": 21,
   "metadata": {
    "colab": {
     "base_uri": "https://localhost:8080/",
     "height": 34
    },
    "colab_type": "code",
    "executionInfo": {
     "elapsed": 1343,
     "status": "ok",
     "timestamp": 1542385555993,
     "user": {
      "displayName": "Mohammad Afandi",
      "photoUrl": "",
      "userId": "02039134544224464075"
     },
     "user_tz": -60
    },
    "id": "1iSE4XP0ya0s",
    "outputId": "1501510e-9731-42c3-bd4c-c92d9b540c1d"
   },
   "outputs": [
    {
     "data": {
      "text/plain": [
       "(100, 6)"
      ]
     },
     "execution_count": 21,
     "metadata": {},
     "output_type": "execute_result"
    }
   ],
   "source": [
    "shape(train_nl)"
   ]
  },
  {
   "cell_type": "markdown",
   "metadata": {
    "colab_type": "text",
    "id": "VL9Xaw-SfvZT"
   },
   "source": [
    "Let's do it for the tets set :"
   ]
  },
  {
   "cell_type": "code",
   "execution_count": 22,
   "metadata": {
    "colab": {},
    "colab_type": "code",
    "id": "qI9gP1WNfzbK"
   },
   "outputs": [],
   "source": [
    "# Creating new test set with non linear feature dependencies\n",
    "test_nl = np.copy(test)  # adding features : class, x1, x2\n",
    "test_nl = np.insert(test_nl,3 , test[:,1]*test[:,1], axis = 1) # adding feature x1*x1\n",
    "test_nl = np.insert(test_nl,4 , test[:,1]*test[:,2], axis = 1) # adding feature x1*x2\n",
    "test_nl = np.insert(test_nl,5 , test[:,2]*test[:,2], axis = 1) # adding feature x2*x2"
   ]
  },
  {
   "cell_type": "code",
   "execution_count": 23,
   "metadata": {
    "colab": {
     "base_uri": "https://localhost:8080/",
     "height": 34
    },
    "colab_type": "code",
    "executionInfo": {
     "elapsed": 1327,
     "status": "ok",
     "timestamp": 1542385556010,
     "user": {
      "displayName": "Mohammad Afandi",
      "photoUrl": "",
      "userId": "02039134544224464075"
     },
     "user_tz": -60
    },
    "id": "HYPuDih1hHU4",
    "outputId": "976d4608-6828-453d-a2e9-43616ec30b5d"
   },
   "outputs": [
    {
     "data": {
      "text/plain": [
       "(200, 6)"
      ]
     },
     "execution_count": 23,
     "metadata": {},
     "output_type": "execute_result"
    }
   ],
   "source": [
    "shape(test_nl)"
   ]
  },
  {
   "cell_type": "markdown",
   "metadata": {
    "colab_type": "text",
    "id": "hrjBGt0x-pXq"
   },
   "source": [
    "### Estimate the data parameters for non linear features:"
   ]
  },
  {
   "cell_type": "code",
   "execution_count": 24,
   "metadata": {
    "colab": {},
    "colab_type": "code",
    "id": "kRHClOvWIWmL"
   },
   "outputs": [],
   "source": [
    "# Selecting the variables for each class\n",
    "train_nl_1 = train_nl[train_nl[:,0]==1][:,1:]\n",
    "train_nl_2 = train_nl[train_nl[:,0]==2][:,1:]"
   ]
  },
  {
   "cell_type": "code",
   "execution_count": 25,
   "metadata": {
    "colab": {},
    "colab_type": "code",
    "id": "XxIQWuFzHzCV"
   },
   "outputs": [],
   "source": [
    "# mean for non linear features\n",
    "mu_nl_1 = np.mean(train_nl_1,axis=0)\n",
    "mu_nl_2 = np.mean(train_nl_2,axis=0)"
   ]
  },
  {
   "cell_type": "code",
   "execution_count": 26,
   "metadata": {
    "colab": {},
    "colab_type": "code",
    "id": "Cb4hQj3MIycU"
   },
   "outputs": [],
   "source": [
    "# sigma for non linear features\n",
    "sigma_nl_1 = np.cov(train_nl_1.T)\n",
    "sigma_nl_2 = np.cov(train_nl_2.T)"
   ]
  },
  {
   "cell_type": "code",
   "execution_count": 27,
   "metadata": {
    "colab": {},
    "colab_type": "code",
    "id": "X6VC11xII-7J"
   },
   "outputs": [],
   "source": [
    "# mean sigma for LDA\n",
    "sigma_nl = 1/len(train_nl)*(n1*sigma_nl_1+n2*sigma_nl_2)"
   ]
  },
  {
   "cell_type": "code",
   "execution_count": 28,
   "metadata": {
    "colab": {
     "base_uri": "https://localhost:8080/",
     "height": 102
    },
    "colab_type": "code",
    "executionInfo": {
     "elapsed": 1340,
     "status": "ok",
     "timestamp": 1542385556055,
     "user": {
      "displayName": "Mohammad Afandi",
      "photoUrl": "",
      "userId": "02039134544224464075"
     },
     "user_tz": -60
    },
    "id": "Gfr0_mwjp8dQ",
    "outputId": "4c9c8e70-f98c-48b4-b775-72cd459a8543"
   },
   "outputs": [
    {
     "data": {
      "text/plain": [
       "array([[ 0.3109478 ,  0.08626533, -0.211813  ,  0.37542625,  0.32683105],\n",
       "       [ 0.08626533,  0.277402  , -0.12122255,  0.05578341,  0.77876739],\n",
       "       [-0.211813  , -0.12122255,  0.6558709 , -0.26659652, -0.44807893],\n",
       "       [ 0.37542625,  0.05578341, -0.26659652,  0.67395728,  0.27815211],\n",
       "       [ 0.32683105,  0.77876739, -0.44807893,  0.27815211,  2.52058532]])"
      ]
     },
     "execution_count": 28,
     "metadata": {},
     "output_type": "execute_result"
    }
   ],
   "source": [
    "sigma_nl"
   ]
  },
  {
   "cell_type": "code",
   "execution_count": 29,
   "metadata": {
    "colab": {
     "base_uri": "https://localhost:8080/",
     "height": 204
    },
    "colab_type": "code",
    "executionInfo": {
     "elapsed": 1440,
     "status": "ok",
     "timestamp": 1542385556174,
     "user": {
      "displayName": "Mohammad Afandi",
      "photoUrl": "",
      "userId": "02039134544224464075"
     },
     "user_tz": -60
    },
    "id": "ONu_YqwxqLkH",
    "outputId": "455df3ac-23fc-477f-bf64-5dc69f7b61a9"
   },
   "outputs": [
    {
     "data": {
      "text/html": [
       "<div>\n",
       "<style scoped>\n",
       "    .dataframe tbody tr th:only-of-type {\n",
       "        vertical-align: middle;\n",
       "    }\n",
       "\n",
       "    .dataframe tbody tr th {\n",
       "        vertical-align: top;\n",
       "    }\n",
       "\n",
       "    .dataframe thead th {\n",
       "        text-align: right;\n",
       "    }\n",
       "</style>\n",
       "<table border=\"1\" class=\"dataframe\">\n",
       "  <thead>\n",
       "    <tr style=\"text-align: right;\">\n",
       "      <th></th>\n",
       "      <th>x1</th>\n",
       "      <th>x2</th>\n",
       "      <th>x1**2</th>\n",
       "      <th>x1*x2</th>\n",
       "      <th>x2**2</th>\n",
       "    </tr>\n",
       "  </thead>\n",
       "  <tbody>\n",
       "    <tr>\n",
       "      <th>x1</th>\n",
       "      <td>0.310948</td>\n",
       "      <td>0.086265</td>\n",
       "      <td>-0.211813</td>\n",
       "      <td>0.375426</td>\n",
       "      <td>0.326831</td>\n",
       "    </tr>\n",
       "    <tr>\n",
       "      <th>x2</th>\n",
       "      <td>0.086265</td>\n",
       "      <td>0.277402</td>\n",
       "      <td>-0.121223</td>\n",
       "      <td>0.055783</td>\n",
       "      <td>0.778767</td>\n",
       "    </tr>\n",
       "    <tr>\n",
       "      <th>x1**2</th>\n",
       "      <td>-0.211813</td>\n",
       "      <td>-0.121223</td>\n",
       "      <td>0.655871</td>\n",
       "      <td>-0.266597</td>\n",
       "      <td>-0.448079</td>\n",
       "    </tr>\n",
       "    <tr>\n",
       "      <th>x1*x2</th>\n",
       "      <td>0.375426</td>\n",
       "      <td>0.055783</td>\n",
       "      <td>-0.266597</td>\n",
       "      <td>0.673957</td>\n",
       "      <td>0.278152</td>\n",
       "    </tr>\n",
       "    <tr>\n",
       "      <th>x2**2</th>\n",
       "      <td>0.326831</td>\n",
       "      <td>0.778767</td>\n",
       "      <td>-0.448079</td>\n",
       "      <td>0.278152</td>\n",
       "      <td>2.520585</td>\n",
       "    </tr>\n",
       "  </tbody>\n",
       "</table>\n",
       "</div>"
      ],
      "text/plain": [
       "             x1        x2     x1**2     x1*x2     x2**2\n",
       "x1     0.310948  0.086265 -0.211813  0.375426  0.326831\n",
       "x2     0.086265  0.277402 -0.121223  0.055783  0.778767\n",
       "x1**2 -0.211813 -0.121223  0.655871 -0.266597 -0.448079\n",
       "x1*x2  0.375426  0.055783 -0.266597  0.673957  0.278152\n",
       "x2**2  0.326831  0.778767 -0.448079  0.278152  2.520585"
      ]
     },
     "execution_count": 29,
     "metadata": {},
     "output_type": "execute_result"
    }
   ],
   "source": [
    "pd.DataFrame(data = sigma_nl, index = ['x1', 'x2', 'x1**2', 'x1*x2', 'x2**2'] ,columns = ['x1', 'x2', 'x1**2', 'x1*x2', 'x2**2'])"
   ]
  },
  {
   "cell_type": "markdown",
   "metadata": {
    "colab_type": "text",
    "id": "Uvl5Je1LKN0Y"
   },
   "source": [
    "Let's now compute the Bayes classifier for the train set :"
   ]
  },
  {
   "cell_type": "code",
   "execution_count": 30,
   "metadata": {
    "colab": {},
    "colab_type": "code",
    "id": "hFjYDZydKSOS"
   },
   "outputs": [],
   "source": [
    "# inverse of sigma\n",
    "sigma_inv_nl = la.inv(sigma_nl)\n",
    "\n",
    "# selecting the features of the train set\n",
    "trainset_nl = train_nl[:,1:]\n",
    "\n",
    "predicted_train_class_LDA_nl  = np.zeros(len(trainset_nl),dtype = np.int8)\n",
    "train_error_LDA_nl = 0\n",
    "for i in range(len(trainset_nl)):\n",
    "    # Log-probabilities\n",
    "    p1 = pi_1*np.exp(-1/2*(trainset_nl[i]-mu_nl_1).T.dot(sigma_inv_nl).dot(trainset_nl[i]-mu_nl_1))\n",
    "    p2 = pi_2*np.exp(-1/2*(trainset_nl[i]-mu_nl_2).T.dot(sigma_inv_nl).dot(trainset_nl[i]-mu_nl_2))\n",
    "    # Classification\n",
    "    if p1 >= p2:\n",
    "        predicted_train_class_LDA_nl [i] = 1\n",
    "    else:\n",
    "        predicted_train_class_LDA_nl [i] = 2\n",
    "    # Error computation: compare predicted classes with actual classes\n",
    "    if predicted_train_class_LDA_nl [i] != train_nl[i][0]:\n",
    "        train_error_LDA_nl +=1\n",
    "train_error_LDA_nl = train_error_LDA_nl/len(trainset_nl)"
   ]
  },
  {
   "cell_type": "code",
   "execution_count": 31,
   "metadata": {
    "colab": {
     "base_uri": "https://localhost:8080/",
     "height": 34
    },
    "colab_type": "code",
    "executionInfo": {
     "elapsed": 1455,
     "status": "ok",
     "timestamp": 1542385556201,
     "user": {
      "displayName": "Mohammad Afandi",
      "photoUrl": "",
      "userId": "02039134544224464075"
     },
     "user_tz": -60
    },
    "id": "XLFBnyhvL1EP",
    "outputId": "63c027bf-7835-454b-bd0e-1350807d5926"
   },
   "outputs": [
    {
     "name": "stdout",
     "output_type": "stream",
     "text": [
      "LDA (non linear features) train error:  6.0 %\n"
     ]
    }
   ],
   "source": [
    "print(\"LDA (non linear features) train error: \",train_error_LDA_nl*100,\"%\")"
   ]
  },
  {
   "cell_type": "markdown",
   "metadata": {
    "colab_type": "text",
    "id": "aC04HkuEhpQB"
   },
   "source": [
    "Let us create the train set with the LDA predicted class :"
   ]
  },
  {
   "cell_type": "code",
   "execution_count": 32,
   "metadata": {
    "colab": {},
    "colab_type": "code",
    "id": "sP2TJSUOepAa"
   },
   "outputs": [],
   "source": [
    "predicted_train_class_LDA_nl = np.reshape(predicted_train_class_LDA_nl,(-1,1)) # transform the 1D - array to a column array\n",
    "predicted_trainset_LDA_nl = np.concatenate((predicted_train_class_LDA_nl,trainset_nl),axis = 1)  # create the train set with LDA predicted class"
   ]
  },
  {
   "cell_type": "markdown",
   "metadata": {
    "colab_type": "text",
    "id": "nvSUFb-JhSze"
   },
   "source": [
    "Let's now compute the Bayes classifier for the test set : "
   ]
  },
  {
   "cell_type": "code",
   "execution_count": 33,
   "metadata": {
    "colab": {},
    "colab_type": "code",
    "id": "WBQ5C-MehXM9"
   },
   "outputs": [],
   "source": [
    "# inverse of sigma\n",
    "sigma_inv_nl = la.inv(sigma_nl)\n",
    "\n",
    "# selecting the features of the test set\n",
    "testset_nl = test_nl[:,1:]\n",
    "\n",
    "predicted_test_class_LDA_nl  = np.zeros(len(testset_nl),dtype = np.int8)\n",
    "test_error_LDA_nl = 0\n",
    "for i in range(len(testset_nl)):\n",
    "    # Log-probabilities\n",
    "    p1 = pi_1*np.exp(-1/2*(testset_nl[i]-mu_nl_1).T.dot(sigma_inv_nl).dot(testset_nl[i]-mu_nl_1))\n",
    "    p2 = pi_2*np.exp(-1/2*(testset_nl[i]-mu_nl_2).T.dot(sigma_inv_nl).dot(testset_nl[i]-mu_nl_2))\n",
    "    # Classification\n",
    "    if p1 >= p2:\n",
    "        predicted_test_class_LDA_nl [i] = 1\n",
    "    else:\n",
    "        predicted_test_class_LDA_nl [i] = 2\n",
    "    # Error computation: compare predicted classes with actual classes\n",
    "    if predicted_test_class_LDA_nl [i] != test_nl[i][0]:\n",
    "        test_error_LDA_nl +=1\n",
    "test_error_LDA_nl = test_error_LDA_nl/len(testset_nl)"
   ]
  },
  {
   "cell_type": "code",
   "execution_count": 34,
   "metadata": {
    "colab": {
     "base_uri": "https://localhost:8080/",
     "height": 34
    },
    "colab_type": "code",
    "executionInfo": {
     "elapsed": 1501,
     "status": "ok",
     "timestamp": 1542385556259,
     "user": {
      "displayName": "Mohammad Afandi",
      "photoUrl": "",
      "userId": "02039134544224464075"
     },
     "user_tz": -60
    },
    "id": "_IB72Qp4hkL4",
    "outputId": "fb0db4c6-67ac-4158-e056-cc76ec026f5a"
   },
   "outputs": [
    {
     "name": "stdout",
     "output_type": "stream",
     "text": [
      "LDA (non linear features) test error:  5.5 %\n"
     ]
    }
   ],
   "source": [
    "print(\"LDA (non linear features) test error: \",test_error_LDA_nl*100,\"%\")"
   ]
  },
  {
   "cell_type": "markdown",
   "metadata": {
    "colab_type": "text",
    "id": "PoXX98VHhoHR"
   },
   "source": [
    "Let us create the test set with the LDA predicted class :\n"
   ]
  },
  {
   "cell_type": "code",
   "execution_count": 35,
   "metadata": {
    "colab": {},
    "colab_type": "code",
    "id": "SAsSjBPEh6AN"
   },
   "outputs": [],
   "source": [
    "predicted_test_class_LDA_nl = np.reshape(predicted_test_class_LDA_nl,(-1,1)) # transform the 1D - array to a column array\n",
    "predicted_testset_LDA_nl = np.concatenate((predicted_test_class_LDA_nl,testset_nl),axis = 1)  # create the test set with LDA predicted class"
   ]
  },
  {
   "cell_type": "markdown",
   "metadata": {
    "colab_type": "text",
    "id": "gPOHgP6dsDID"
   },
   "source": [
    "## QDA"
   ]
  },
  {
   "cell_type": "markdown",
   "metadata": {
    "colab_type": "text",
    "id": "elfOFAGpsDIE"
   },
   "source": [
    "QDA classifier: we use matrixes $\\Sigma_{1}$ and $\\Sigma_{2}$ "
   ]
  },
  {
   "cell_type": "markdown",
   "metadata": {
    "colab_type": "text",
    "id": "qmIvd9h6sDIF"
   },
   "source": [
    "Let's first do it for the training set."
   ]
  },
  {
   "cell_type": "code",
   "execution_count": 36,
   "metadata": {
    "colab": {},
    "colab_type": "code",
    "id": "npNzjRUrsDIF"
   },
   "outputs": [],
   "source": [
    "predicted_train_class_QDA  = np.zeros(len(train),dtype = np.int8)\n",
    "train_error_QDA = 0\n",
    "for i in range(len(trainset)):\n",
    "    # Log-probabilities\n",
    "    p1 = pi_1*np.exp(-1/2*(trainset[i]-mu_1).T.dot(sigma_1_inv).dot(trainset[i]-mu_1))\n",
    "    p2 = pi_2*np.exp(-1/2*(trainset[i]-mu_2).T.dot(sigma_2_inv).dot(trainset[i]-mu_2))\n",
    "    # Classification\n",
    "    if p1 >= p2:\n",
    "        predicted_train_class_QDA [i] = 1\n",
    "    else:\n",
    "        predicted_train_class_QDA [i] = 2\n",
    "    # Error computation: compare predicted classes with actual classes\n",
    "    if predicted_train_class_QDA [i] != train[i][0]:\n",
    "        train_error_QDA +=1\n",
    "train_error_QDA = train_error_QDA/len(train)"
   ]
  },
  {
   "cell_type": "code",
   "execution_count": 37,
   "metadata": {
    "colab": {
     "base_uri": "https://localhost:8080/",
     "height": 34
    },
    "colab_type": "code",
    "executionInfo": {
     "elapsed": 1512,
     "status": "ok",
     "timestamp": 1542385556285,
     "user": {
      "displayName": "Mohammad Afandi",
      "photoUrl": "",
      "userId": "02039134544224464075"
     },
     "user_tz": -60
    },
    "id": "MRZeGFZcsDII",
    "outputId": "06187072-39b7-45c6-8e2f-fe3aa2a835c5",
    "scrolled": true
   },
   "outputs": [
    {
     "name": "stdout",
     "output_type": "stream",
     "text": [
      "QDA train error:  4.0 %\n"
     ]
    }
   ],
   "source": [
    "print(\"QDA train error: \",train_error_QDA*100,\"%\")"
   ]
  },
  {
   "cell_type": "code",
   "execution_count": 38,
   "metadata": {
    "colab": {},
    "colab_type": "code",
    "id": "gHmkmfP_sDIM"
   },
   "outputs": [],
   "source": [
    "predicted_train_class_QDA = np.reshape(predicted_train_class_QDA,(-1,1))\n",
    "predicted_trainset_QDA = np.concatenate((predicted_train_class_QDA,trainset),axis = 1)"
   ]
  },
  {
   "cell_type": "markdown",
   "metadata": {
    "colab_type": "text",
    "id": "2suJkNuzsDIP"
   },
   "source": [
    "And now for the test set."
   ]
  },
  {
   "cell_type": "code",
   "execution_count": 39,
   "metadata": {
    "colab": {},
    "colab_type": "code",
    "id": "6bmDwWjvsDIP"
   },
   "outputs": [],
   "source": [
    "predicted_test_class_QDA  = np.zeros(len(test),dtype = np.int8)\n",
    "test_error_QDA = 0\n",
    "for i in range(len(testset)):\n",
    "    # Log-probabilities\n",
    "    p1 = pi_1*np.exp(-1/2*(testset[i]-mu_1).T.dot(sigma_1_inv).dot(testset[i]-mu_1))\n",
    "    p2 = pi_2*np.exp(-1/2*(testset[i]-mu_2).T.dot(sigma_2_inv).dot(testset[i]-mu_2))\n",
    "    # Classification\n",
    "    if p1 >= p2:\n",
    "        predicted_test_class_QDA [i] = 1\n",
    "    else:\n",
    "        predicted_test_class_QDA [i] = 2\n",
    "    # Error computation\n",
    "    if predicted_test_class_QDA [i] != test[i][0]:\n",
    "        test_error_QDA +=1\n",
    "test_error_QDA = test_error_QDA/len(test)"
   ]
  },
  {
   "cell_type": "code",
   "execution_count": 40,
   "metadata": {
    "colab": {},
    "colab_type": "code",
    "id": "GI-2-WBIsDIT"
   },
   "outputs": [],
   "source": [
    "predicted_test_class_QDA = np.reshape(predicted_test_class_QDA,(-1,1))\n",
    "predicted_testset_QDA = np.concatenate((predicted_test_class_QDA,testset),axis = 1)"
   ]
  },
  {
   "cell_type": "code",
   "execution_count": 41,
   "metadata": {
    "colab": {
     "base_uri": "https://localhost:8080/",
     "height": 34
    },
    "colab_type": "code",
    "executionInfo": {
     "elapsed": 1532,
     "status": "ok",
     "timestamp": 1542385556323,
     "user": {
      "displayName": "Mohammad Afandi",
      "photoUrl": "",
      "userId": "02039134544224464075"
     },
     "user_tz": -60
    },
    "id": "lamyh1QosDIW",
    "outputId": "798e3210-d3e6-458d-a623-9d740097b2c2",
    "scrolled": true
   },
   "outputs": [
    {
     "name": "stdout",
     "output_type": "stream",
     "text": [
      "QDA test error:  4.5 %\n"
     ]
    }
   ],
   "source": [
    "print(\"QDA test error: \",test_error_QDA*100,\"%\")"
   ]
  },
  {
   "cell_type": "markdown",
   "metadata": {
    "colab_type": "text",
    "id": "ZCR7y13qsDIZ"
   },
   "source": [
    "## Graphical representation for LDA"
   ]
  },
  {
   "cell_type": "markdown",
   "metadata": {
    "colab_type": "text",
    "id": "1KnWpOcxsDIb"
   },
   "source": [
    "Let's now display the results for LDA.\n",
    "\n",
    "First, we can compute a predicted grid to highlight the boundaries."
   ]
  },
  {
   "cell_type": "code",
   "execution_count": 42,
   "metadata": {
    "colab": {},
    "colab_type": "code",
    "id": "If7lfhLDsDIc"
   },
   "outputs": [],
   "source": [
    "predicted_grid_LDA = np.zeros(N,dtype = np.int8)\n",
    "for i in range(N):\n",
    "    # Log-probabilities\n",
    "    p1 = pi_1*np.exp(-1/2*(x[i]-mu_1).T.dot(sigma_inv).dot(x[i]-mu_1))\n",
    "    p2 = pi_2*np.exp(-1/2*(x[i]-mu_2).T.dot(sigma_inv).dot(x[i]-mu_2))\n",
    "    # Classification\n",
    "    if p1 >= p2:\n",
    "        predicted_grid_LDA[i] = 1\n",
    "    else:\n",
    "        predicted_grid_LDA[i] = 2"
   ]
  },
  {
   "cell_type": "markdown",
   "metadata": {
    "colab_type": "text",
    "id": "MVUS7Gk0sDIh"
   },
   "source": [
    "We reshape the 1D-array to a 100x100 array in order to visualize the grid."
   ]
  },
  {
   "cell_type": "code",
   "execution_count": 43,
   "metadata": {
    "colab": {},
    "colab_type": "code",
    "id": "Swiayt-9sDIi"
   },
   "outputs": [],
   "source": [
    "predicted_grid_LDA = predicted_grid_LDA.reshape(N1,N1)"
   ]
  },
  {
   "cell_type": "code",
   "execution_count": 44,
   "metadata": {
    "colab": {
     "base_uri": "https://localhost:8080/",
     "height": 492
    },
    "colab_type": "code",
    "executionInfo": {
     "elapsed": 2399,
     "status": "ok",
     "timestamp": 1542385557208,
     "user": {
      "displayName": "Mohammad Afandi",
      "photoUrl": "",
      "userId": "02039134544224464075"
     },
     "user_tz": -60
    },
    "id": "WhNO9Dv3sDIk",
    "outputId": "a6dd3a6f-dce2-441f-f15f-932d98bca565"
   },
   "outputs": [
    {
     "data": {
      "image/png": "[encoded data removed]",
      "text/plain": [
       "<Figure size 1080x720 with 2 Axes>"
      ]
     },
     "metadata": {},
     "output_type": "display_data"
    }
   ],
   "source": [
    "plt.rcParams['figure.figsize'] = 15, 10\n",
    "# For the training set\n",
    "plt.subplot(1,2,1)\n",
    "plt.imshow(predicted_grid_LDA, extent = (np.min(x1),np.max(x1),np.min(x2),np.max(x2)),cmap = \"Pastel1\")\n",
    "# Actual classes\n",
    "plt.plot(train[train[:,0]==1,1],train[train[:,0]==1,2],'co',label = \"Class 1 (real)\")\n",
    "plt.plot(train[train[:,0]==2,1],train[train[:,0]==2,2],'go', label = \"Class 2 (real)\")\n",
    "# Predicted classes\n",
    "plt.plot(predicted_trainset_LDA[predicted_trainset_LDA[:,0]==1,1],predicted_trainset_LDA[predicted_trainset_LDA[:,0]==1,2],'k+', label = \"Class 1 (predicted)\")\n",
    "plt.plot(predicted_trainset_LDA[predicted_trainset_LDA[:,0]==2,1],predicted_trainset_LDA[predicted_trainset_LDA[:,0]==2,2],'r+', label = \"Class 2 (predicted)\")\n",
    "plt.title(\"Training set; error rate = \"+str(train_error_LDA*100)+\"% (LDA)\")\n",
    "plt.legend(loc='upper left')\n",
    "\n",
    "# For the test set\n",
    "plt.subplot(1,2,2)\n",
    "plt.imshow(predicted_grid_LDA, extent = (np.min(x1),np.max(x1),np.min(x2),np.max(x2)),cmap = \"Pastel1\")\n",
    "# Actual classes\n",
    "plt.plot(test[test[:,0]==1,1],test[test[:,0]==1,2],'co',label = \"Class 1 (real)\")\n",
    "plt.plot(test[test[:,0]==2,1],test[test[:,0]==2,2],'go', label = \"Class 2 (real)\")\n",
    "# Predicted classes\n",
    "plt.plot(predicted_testset_LDA[predicted_testset_LDA[:,0]==1,1],predicted_testset_LDA[predicted_testset_LDA[:,0]==1,2],'k+', label = \"Class 1 (predicted)\")\n",
    "plt.plot(predicted_testset_LDA[predicted_testset_LDA[:,0]==2,1],predicted_testset_LDA[predicted_testset_LDA[:,0]==2,2],'r+', label = \"Class 2 (predicted)\")\n",
    "plt.title(\"Test set; error rate = \"+str(test_error_LDA*100)+\"% (LDA)\")\n",
    "plt.legend(loc='upper left')\n",
    "\n",
    "plt.show()"
   ]
  },
  {
   "cell_type": "markdown",
   "metadata": {
    "colab_type": "text",
    "id": "dJ8RpRlMiDXJ"
   },
   "source": [
    "## Graphical representation for LDA with non linear features"
   ]
  },
  {
   "cell_type": "markdown",
   "metadata": {
    "colab_type": "text",
    "id": "dbaqrZSrj9EW"
   },
   "source": [
    "Let's predict the class on the grid : "
   ]
  },
  {
   "cell_type": "code",
   "execution_count": 45,
   "metadata": {
    "colab": {},
    "colab_type": "code",
    "id": "vMfNvSqwkUVW"
   },
   "outputs": [],
   "source": [
    "# Creating new x set with non linear feature dependencies\n",
    "x_nl = np.copy(x)  # adding features : class, x1, x2\n",
    "x_nl = np.insert(x_nl,2 , x[:,0]*x[:,0], axis = 1) # adding feature x1*x1\n",
    "x_nl = np.insert(x_nl,3 , x[:,0]*x[:,1], axis = 1) # adding feature x1*x2\n",
    "x_nl = np.insert(x_nl,4 , x[:,1]*x[:,1], axis = 1) # adding feature x2*x2"
   ]
  },
  {
   "cell_type": "code",
   "execution_count": 46,
   "metadata": {
    "colab": {},
    "colab_type": "code",
    "id": "8Ms_i7Gjj78G"
   },
   "outputs": [],
   "source": [
    "predicted_grid_LDA_nl = np.zeros(N,dtype = np.int8)\n",
    "for i in range(N):\n",
    "    # Log-probabilities\n",
    "    p1 = pi_1*np.exp(-1/2*(x_nl[i]-mu_nl_1).T.dot(sigma_inv_nl).dot(x_nl[i]-mu_nl_1))\n",
    "    p2 = pi_2*np.exp(-1/2*(x_nl[i]-mu_nl_2).T.dot(sigma_inv_nl).dot(x_nl[i]-mu_nl_2))\n",
    "    # Classification\n",
    "    if p1 >= p2:\n",
    "        predicted_grid_LDA_nl[i] = 1\n",
    "    else:\n",
    "        predicted_grid_LDA_nl[i] = 2"
   ]
  },
  {
   "cell_type": "code",
   "execution_count": 47,
   "metadata": {
    "colab": {},
    "colab_type": "code",
    "id": "TWBjeyyEoZhW"
   },
   "outputs": [],
   "source": [
    "predicted_grid_LDA_nl = predicted_grid_LDA_nl.reshape(N1,N1)"
   ]
  },
  {
   "cell_type": "code",
   "execution_count": 48,
   "metadata": {
    "colab": {
     "base_uri": "https://localhost:8080/",
     "height": 492
    },
    "colab_type": "code",
    "executionInfo": {
     "elapsed": 8730,
     "status": "ok",
     "timestamp": 1542385563552,
     "user": {
      "displayName": "Mohammad Afandi",
      "photoUrl": "",
      "userId": "02039134544224464075"
     },
     "user_tz": -60
    },
    "id": "WKpQYK7CiWpc",
    "outputId": "98bf30fd-beb2-4481-c571-4603c95999cc"
   },
   "outputs": [
    {
     "data": {
      "image/png": "[encoded data removed]",
      "text/plain": [
       "<Figure size 1080x720 with 2 Axes>"
      ]
     },
     "metadata": {},
     "output_type": "display_data"
    }
   ],
   "source": [
    "\n",
    "plt.rcParams['figure.figsize'] = 15, 10\n",
    "# For the training set\n",
    "plt.subplot(1,2,1)\n",
    "plt.imshow(predicted_grid_LDA_nl, extent = (np.min(x1),np.max(x1),np.min(x2),np.max(x2)),cmap = \"Pastel1\")\n",
    "# Actual classes\n",
    "plt.plot(train[train[:,0]==1,1],train[train[:,0]==1,2],'co',label = \"Class 1 (real)\")\n",
    "plt.plot(train[train[:,0]==2,1],train[train[:,0]==2,2],'go', label = \"Class 2 (real)\")\n",
    "# Predicted classes\n",
    "plt.plot(predicted_trainset_LDA_nl[predicted_trainset_LDA_nl[:,0]==1,1],predicted_trainset_LDA_nl[predicted_trainset_LDA_nl[:,0]==1,2],'k+', label = \"Class 1 (predicted)\")\n",
    "plt.plot(predicted_trainset_LDA_nl[predicted_trainset_LDA_nl[:,0]==2,1],predicted_trainset_LDA_nl[predicted_trainset_LDA_nl[:,0]==2,2],'r+', label = \"Class 2 (predicted)\")\n",
    "plt.title(\"Training set; error rate = \"+str(train_error_LDA_nl*100)+\"% (LDA_nl)\")\n",
    "plt.legend(loc='upper left')\n",
    "\n",
    "# For the test set\n",
    "plt.subplot(1,2,2)\n",
    "plt.imshow(predicted_grid_LDA_nl, extent = (np.min(x1),np.max(x1),np.min(x2),np.max(x2)),cmap = \"Pastel1\")\n",
    "# Actual classes\n",
    "plt.plot(test[test[:,0]==1,1],test[test[:,0]==1,2],'co',label = \"Class 1 (real)\")\n",
    "plt.plot(test[test[:,0]==2,1],test[test[:,0]==2,2],'go', label = \"Class 2 (real)\")\n",
    "# Predicted classes\n",
    "plt.plot(predicted_testset_LDA_nl[predicted_testset_LDA_nl[:,0]==1,1],predicted_testset_LDA_nl[predicted_testset_LDA_nl[:,0]==1,2],'k+', label = \"Class 1 (predicted)\")\n",
    "plt.plot(predicted_testset_LDA_nl[predicted_testset_LDA_nl[:,0]==2,1],predicted_testset_LDA_nl[predicted_testset_LDA_nl[:,0]==2,2],'r+', label = \"Class 2 (predicted)\")\n",
    "plt.title(\"Test set; error rate = \"+str(test_error_LDA_nl*100)+\"% (LDA_nl)\")\n",
    "plt.legend(loc='upper left')\n",
    "\n",
    "plt.show()"
   ]
  },
  {
   "cell_type": "markdown",
   "metadata": {
    "colab_type": "text",
    "id": "J-9BMGPzsDIo"
   },
   "source": [
    "## Graphical representation for QDA"
   ]
  },
  {
   "cell_type": "code",
   "execution_count": 49,
   "metadata": {
    "colab": {},
    "colab_type": "code",
    "id": "jHNJddZrsDIp"
   },
   "outputs": [],
   "source": [
    "predicted_grid_QDA = np.zeros(N,dtype = np.int8)\n",
    "for i in range(N):\n",
    "    # Log-probabilities\n",
    "    p1 = pi_1*np.exp(-1/2*(x[i]-mu_1).T.dot(sigma_1_inv).dot(x[i]-mu_1))\n",
    "    p2 = pi_2*np.exp(-1/2*(x[i]-mu_2).T.dot(sigma_2_inv).dot(x[i]-mu_2))\n",
    "    # Classification\n",
    "    if p1 >= p2:\n",
    "        predicted_grid_QDA[i] = 1\n",
    "    else:\n",
    "        predicted_grid_QDA[i] = 2"
   ]
  },
  {
   "cell_type": "code",
   "execution_count": 50,
   "metadata": {
    "colab": {},
    "colab_type": "code",
    "id": "-U-qJf1EsDIr"
   },
   "outputs": [],
   "source": [
    "predicted_grid_QDA = predicted_grid_QDA.reshape(N1,N1)"
   ]
  },
  {
   "cell_type": "code",
   "execution_count": 51,
   "metadata": {
    "colab": {
     "base_uri": "https://localhost:8080/",
     "height": 492
    },
    "colab_type": "code",
    "executionInfo": {
     "elapsed": 9510,
     "status": "ok",
     "timestamp": 1542385564354,
     "user": {
      "displayName": "Mohammad Afandi",
      "photoUrl": "",
      "userId": "02039134544224464075"
     },
     "user_tz": -60
    },
    "id": "oAuy5O1PsDIt",
    "outputId": "ece6e524-6a42-4062-d9f8-d179e114950d"
   },
   "outputs": [
    {
     "data": {
      "image/png": "[encoded data removed]",
      "text/plain": [
       "<Figure size 1080x720 with 2 Axes>"
      ]
     },
     "metadata": {},
     "output_type": "display_data"
    }
   ],
   "source": [
    "plt.rcParams['figure.figsize'] = 15, 10\n",
    "# For the training set\n",
    "plt.subplot(1,2,1)\n",
    "plt.imshow(predicted_grid_QDA, extent = (np.min(x1),np.max(x1),np.min(x2),np.max(x2)),cmap = \"Pastel1\")\n",
    "# Actual classes\n",
    "plt.plot(train[train[:,0]==1,1],train[train[:,0]==1,2],'co',label = \"Class 1 (real)\")\n",
    "plt.plot(train[train[:,0]==2,1],train[train[:,0]==2,2],'go', label = \"Class 2 (real)\")\n",
    "# Predicted classes\n",
    "plt.plot(predicted_trainset_QDA[predicted_trainset_QDA[:,0]==1,1],predicted_trainset_QDA[predicted_trainset_QDA[:,0]==1,2],'k+', label = \"Class 1 (predicted)\")\n",
    "plt.plot(predicted_trainset_QDA[predicted_trainset_QDA[:,0]==2,1],predicted_trainset_QDA[predicted_trainset_QDA[:,0]==2,2],'r+', label = \"Class 2 (predicted)\")\n",
    "plt.title(\"Training set; error rate = \"+str(train_error_QDA*100)+\"% (QDA)\")\n",
    "plt.legend(loc='upper left')\n",
    "\n",
    "# For the test set\n",
    "plt.subplot(1,2,2)\n",
    "plt.imshow(predicted_grid_QDA, extent = (np.min(x1),np.max(x1),np.min(x2),np.max(x2)),cmap = \"Pastel1\")\n",
    "# Actual classes\n",
    "plt.plot(test[test[:,0]==1,1],test[test[:,0]==1,2],'co',label = \"Class 1 (real)\")\n",
    "plt.plot(test[test[:,0]==2,1],test[test[:,0]==2,2],'go', label = \"Class 2 (real)\")\n",
    "# Predicted classes\n",
    "plt.plot(predicted_testset_QDA[predicted_testset_QDA[:,0]==1,1],predicted_testset_QDA[predicted_testset_QDA[:,0]==1,2],'k+', label = \"Class 1 (predicted)\")\n",
    "plt.plot(predicted_testset_QDA[predicted_testset_QDA[:,0]==2,1],predicted_testset_QDA[predicted_testset_QDA[:,0]==2,2],'r+', label = \"Class 2 (predicted)\")\n",
    "plt.title(\"Test set; error rate = \"+str(test_error_QDA*100)+\"% (QDA)\")\n",
    "plt.legend(loc='upper left')\n",
    "\n",
    "plt.show()"
   ]
  },
  {
   "cell_type": "markdown",
   "metadata": {
    "colab_type": "text",
    "id": "o2Wz60UxsDIw"
   },
   "source": [
    "In the case of QDA, the boundaries are quadratic. That is because in the case of QDA no assumption is made on the covariance matrixes $\\Sigma_{i}$."
   ]
  },
  {
   "cell_type": "markdown",
   "metadata": {
    "colab_type": "text",
    "id": "WgJPUif6sDIx"
   },
   "source": [
    "## TO DO : LDA & QDA using scikit-learn module\n",
    "\n",
    "The module `scikit-learn` is dedicated to machine learning algorithms. Many of them are available in a simple manner. For LDA and QDA, have a look at the tutorial available at http://scikit-learn.org/stable/modules/lda_qda.html \n",
    "\n",
    "**Warning** : you may have a critical view of the way LDA and QDA are illustrated in the proposed example...\n",
    "\n",
    "\n"
   ]
  },
  {
   "cell_type": "markdown",
   "metadata": {
    "colab_type": "text",
    "id": "BdBK4mUr78g7"
   },
   "source": [
    "---"
   ]
  },
  {
   "cell_type": "markdown",
   "metadata": {
    "colab_type": "text",
    "id": "l-QY5eCdsDIz"
   },
   "source": [
    "Let's first import the packages we need."
   ]
  },
  {
   "cell_type": "code",
   "execution_count": 52,
   "metadata": {
    "colab": {},
    "colab_type": "code",
    "id": "9oWYQ6dRsDI1"
   },
   "outputs": [],
   "source": [
    "from sklearn.discriminant_analysis import LinearDiscriminantAnalysis as lda\n",
    "from sklearn.discriminant_analysis import QuadraticDiscriminantAnalysis as qda"
   ]
  },
  {
   "cell_type": "markdown",
   "metadata": {
    "colab_type": "text",
    "id": "E8ZtobYssDI8"
   },
   "source": [
    "### LDA with scikit-learn module"
   ]
  },
  {
   "cell_type": "code",
   "execution_count": 53,
   "metadata": {
    "colab": {
     "base_uri": "https://localhost:8080/",
     "height": 51
    },
    "colab_type": "code",
    "executionInfo": {
     "elapsed": 9515,
     "status": "ok",
     "timestamp": 1542385564377,
     "user": {
      "displayName": "Mohammad Afandi",
      "photoUrl": "",
      "userId": "02039134544224464075"
     },
     "user_tz": -60
    },
    "id": "sT7inrvtsDI8",
    "outputId": "2ac7d796-104c-4e52-ff24-09744cea47f0"
   },
   "outputs": [
    {
     "data": {
      "text/plain": [
       "LinearDiscriminantAnalysis(n_components=None, priors=None, shrinkage=None,\n",
       "              solver='svd', store_covariance=False, tol=0.0001)"
      ]
     },
     "execution_count": 53,
     "metadata": {},
     "output_type": "execute_result"
    }
   ],
   "source": [
    "clf_lda = lda()\n",
    "clf_lda.fit(trainset,train[:,0])"
   ]
  },
  {
   "cell_type": "code",
   "execution_count": 54,
   "metadata": {
    "colab": {},
    "colab_type": "code",
    "id": "3IaoD5spsDJA"
   },
   "outputs": [],
   "source": [
    "pred_train_LDA_sckl = clf_lda.predict(trainset)\n",
    "pred_test_LDA_sckl = clf_lda.predict(testset)"
   ]
  },
  {
   "cell_type": "code",
   "execution_count": 55,
   "metadata": {
    "colab": {},
    "colab_type": "code",
    "id": "qnckkrXOsDJE"
   },
   "outputs": [],
   "source": [
    "pred_train_LDA_sckl= np.reshape(pred_train_LDA_sckl,(-1,1))\n",
    "pred_train_LDA_sckl = np.concatenate((pred_train_LDA_sckl,trainset),axis = 1)"
   ]
  },
  {
   "cell_type": "code",
   "execution_count": 56,
   "metadata": {
    "colab": {},
    "colab_type": "code",
    "id": "mhK57Bg0sDJG"
   },
   "outputs": [],
   "source": [
    "pred_test_LDA_sckl= np.reshape(pred_test_LDA_sckl,(-1,1))\n",
    "pred_test_LDA_sckl = np.concatenate((pred_test_LDA_sckl,testset),axis = 1)"
   ]
  },
  {
   "cell_type": "code",
   "execution_count": 57,
   "metadata": {
    "colab": {},
    "colab_type": "code",
    "id": "TPo7grSosDJI"
   },
   "outputs": [],
   "source": [
    "train_error_LDA_sckl = 1-clf_lda.score(trainset,train[:,0])\n",
    "test_error_LDA_sckl = 1-clf_lda.score(testset,test[:,0])"
   ]
  },
  {
   "cell_type": "markdown",
   "metadata": {
    "colab_type": "text",
    "id": "IOJ7QfEKsDJL"
   },
   "source": [
    "### QDA with scikit-learn module"
   ]
  },
  {
   "cell_type": "code",
   "execution_count": 58,
   "metadata": {
    "colab": {
     "base_uri": "https://localhost:8080/",
     "height": 51
    },
    "colab_type": "code",
    "executionInfo": {
     "elapsed": 9569,
     "status": "ok",
     "timestamp": 1542385564447,
     "user": {
      "displayName": "Mohammad Afandi",
      "photoUrl": "",
      "userId": "02039134544224464075"
     },
     "user_tz": -60
    },
    "id": "yy2tPmQNsDJL",
    "outputId": "49cf1221-330f-41c1-969b-9dc4220f643a"
   },
   "outputs": [
    {
     "data": {
      "text/plain": [
       "QuadraticDiscriminantAnalysis(priors=None, reg_param=0.0,\n",
       "               store_covariance=False, store_covariances=None, tol=0.0001)"
      ]
     },
     "execution_count": 58,
     "metadata": {},
     "output_type": "execute_result"
    }
   ],
   "source": [
    "clf_qda = qda()\n",
    "clf_qda.fit(trainset,train[:,0])"
   ]
  },
  {
   "cell_type": "code",
   "execution_count": 59,
   "metadata": {
    "colab": {},
    "colab_type": "code",
    "id": "SwMWtlY9sDJO"
   },
   "outputs": [],
   "source": [
    "pred_train_QDA_sckl = clf_qda.predict(trainset)\n",
    "pred_test_QDA_sckl = clf_qda.predict(testset)"
   ]
  },
  {
   "cell_type": "code",
   "execution_count": 60,
   "metadata": {
    "colab": {},
    "colab_type": "code",
    "id": "gnRWvHBGsDJR"
   },
   "outputs": [],
   "source": [
    "pred_train_QDA_sckl= np.reshape(pred_train_QDA_sckl,(-1,1))\n",
    "pred_train_QDA_sckl = np.concatenate((pred_train_QDA_sckl,trainset),axis = 1)"
   ]
  },
  {
   "cell_type": "code",
   "execution_count": 61,
   "metadata": {
    "colab": {},
    "colab_type": "code",
    "id": "SbkJ9VLksDJW"
   },
   "outputs": [],
   "source": [
    "pred_test_QDA_sckl= np.reshape(pred_test_QDA_sckl,(-1,1))\n",
    "pred_test_QDA_sckl = np.concatenate((pred_test_QDA_sckl,testset),axis = 1)"
   ]
  },
  {
   "cell_type": "code",
   "execution_count": 62,
   "metadata": {
    "colab": {},
    "colab_type": "code",
    "id": "qaS0MkTYsDJd"
   },
   "outputs": [],
   "source": [
    "train_error_QDA_sckl = 1-clf_qda.score(trainset,train[:,0])\n",
    "test_error_QDA_sckl = 1-clf_qda.score(testset,test[:,0])"
   ]
  },
  {
   "cell_type": "markdown",
   "metadata": {
    "colab_type": "text",
    "id": "hiq_RJ16sDJk"
   },
   "source": [
    "### Graphical representation for LDA"
   ]
  },
  {
   "cell_type": "code",
   "execution_count": 63,
   "metadata": {
    "colab": {},
    "colab_type": "code",
    "id": "-Z7_v2rYsDJl"
   },
   "outputs": [],
   "source": [
    "pred_grid_LDA_sckl = clf_lda.predict(x)\n",
    "pred_grid_LDA_sckl = pred_grid_LDA_sckl.reshape(N1,N1)\n",
    "# pred_grid_LDA_sckl = np.rot90(pred_grid_LDA_sckl,k=1,axes=(0,1))"
   ]
  },
  {
   "cell_type": "code",
   "execution_count": 64,
   "metadata": {
    "colab": {
     "base_uri": "https://localhost:8080/",
     "height": 492
    },
    "colab_type": "code",
    "executionInfo": {
     "elapsed": 9617,
     "status": "ok",
     "timestamp": 1542385564526,
     "user": {
      "displayName": "Mohammad Afandi",
      "photoUrl": "",
      "userId": "02039134544224464075"
     },
     "user_tz": -60
    },
    "id": "7qp-ftvosDJn",
    "outputId": "7a4d83ee-1ee3-499d-f9ad-100d78724431"
   },
   "outputs": [
    {
     "data": {
      "image/png": "[encoded data removed]",
      "text/plain": [
       "<Figure size 1080x720 with 2 Axes>"
      ]
     },
     "metadata": {},
     "output_type": "display_data"
    }
   ],
   "source": [
    "plt.rcParams['figure.figsize'] = 15, 10\n",
    "# For the training set\n",
    "plt.subplot(1,2,1)\n",
    "plt.imshow(pred_grid_LDA_sckl, extent = (np.min(x1),np.max(x1),np.min(x2),np.max(x2)),cmap = \"Pastel1\")\n",
    "# Actual classes\n",
    "plt.plot(train[train[:,0]==1,1],train[train[:,0]==1,2],'co',label = \"Class 1 (real)\")\n",
    "plt.plot(train[train[:,0]==2,1],train[train[:,0]==2,2],'go', label = \"Class 2 (real)\")\n",
    "# Predicted classes\n",
    "plt.plot(pred_train_LDA_sckl[pred_train_LDA_sckl[:,0]==1,1],pred_train_LDA_sckl[pred_train_LDA_sckl[:,0]==1,2],'k+', label = \"Class 1 (predicted)\")\n",
    "plt.plot(pred_train_LDA_sckl[pred_train_LDA_sckl[:,0]==2,1],pred_train_LDA_sckl[pred_train_LDA_sckl[:,0]==2,2],'r+', label = \"Class 2 (predicted)\")\n",
    "plt.title(\"Training set; error rate = \"+str(train_error_LDA_sckl *100)+\"% (LDA)\")\n",
    "plt.legend(loc='upper left')\n",
    "\n",
    "# For the test set\n",
    "plt.subplot(1,2,2)\n",
    "plt.imshow(pred_grid_LDA_sckl, extent = (np.min(x1),np.max(x1),np.min(x2),np.max(x2)),cmap = \"Pastel1\")\n",
    "# Actual classes\n",
    "plt.plot(test[test[:,0]==1,1],test[test[:,0]==1,2],'co',label = \"Class 1 (real)\")\n",
    "plt.plot(test[test[:,0]==2,1],test[test[:,0]==2,2],'go', label = \"Class 2 (real)\")\n",
    "# Predicted classes\n",
    "plt.plot(pred_test_LDA_sckl[pred_test_LDA_sckl[:,0]==1,1],pred_test_LDA_sckl[pred_test_LDA_sckl[:,0]==1,2],'k+', label = \"Class 1 (predicted)\")\n",
    "plt.plot(pred_test_LDA_sckl[pred_test_LDA_sckl[:,0]==2,1],pred_test_LDA_sckl[pred_test_LDA_sckl[:,0]==2,2],'r+', label = \"Class 2 (predicted)\")\n",
    "plt.title(\"Test set; error rate = \"+str(test_error_LDA_sckl *100)+\"% (LDA)\")\n",
    "plt.legend(loc='upper left')\n",
    "\n",
    "plt.show()"
   ]
  },
  {
   "cell_type": "markdown",
   "metadata": {
    "colab_type": "text",
    "id": "iU20ephlsDJr"
   },
   "source": [
    "### Graphical representation for QDA"
   ]
  },
  {
   "cell_type": "code",
   "execution_count": 65,
   "metadata": {
    "colab": {},
    "colab_type": "code",
    "id": "K0eZYTJhsDJr"
   },
   "outputs": [],
   "source": [
    "pred_grid_QDA_sckl = clf_qda.predict(x)\n",
    "pred_grid_QDA_sckl = pred_grid_QDA_sckl.reshape(N1,N1)"
   ]
  },
  {
   "cell_type": "code",
   "execution_count": 66,
   "metadata": {
    "colab": {
     "base_uri": "https://localhost:8080/",
     "height": 492
    },
    "colab_type": "code",
    "executionInfo": {
     "elapsed": 10101,
     "status": "ok",
     "timestamp": 1542385565038,
     "user": {
      "displayName": "Mohammad Afandi",
      "photoUrl": "",
      "userId": "02039134544224464075"
     },
     "user_tz": -60
    },
    "id": "yIH-9WKFsDJv",
    "outputId": "a3db3d5d-faac-4a71-9c66-3421ff5130b3"
   },
   "outputs": [
    {
     "data": {
      "image/png": "[encoded data removed]",
      "text/plain": [
       "<Figure size 1080x720 with 2 Axes>"
      ]
     },
     "metadata": {},
     "output_type": "display_data"
    }
   ],
   "source": [
    "plt.rcParams['figure.figsize'] = 15, 10\n",
    "# For the training set\n",
    "plt.subplot(1,2,1)\n",
    "plt.imshow(pred_grid_QDA_sckl, extent = (np.min(x1),np.max(x1),np.min(x2),np.max(x2)),cmap = \"Pastel1\")\n",
    "# Actual classes\n",
    "plt.plot(train[train[:,0]==1,1],train[train[:,0]==1,2],'co',label = \"Class 1 (real)\")\n",
    "plt.plot(train[train[:,0]==2,1],train[train[:,0]==2,2],'go', label = \"Class 2 (real)\")\n",
    "# Predicted classes\n",
    "plt.plot(pred_train_QDA_sckl[pred_train_QDA_sckl[:,0]==1,1],pred_train_QDA_sckl[pred_train_QDA_sckl[:,0]==1,2],'k+', label = \"Class 1 (predicted)\")\n",
    "plt.plot(pred_train_QDA_sckl[pred_train_QDA_sckl[:,0]==2,1],pred_train_QDA_sckl[pred_train_QDA_sckl[:,0]==2,2],'r+', label = \"Class 2 (predicted)\")\n",
    "plt.title(\"Training set; error rate = \"+str(train_error_QDA_sckl *100)+\"% (QDA)\")\n",
    "plt.legend(loc='upper left')\n",
    "\n",
    "# For the test set\n",
    "plt.subplot(1,2,2)\n",
    "plt.imshow(pred_grid_QDA_sckl, extent = (np.min(x1),np.max(x1),np.min(x2),np.max(x2)),cmap = \"Pastel1\")\n",
    "# Actual classes\n",
    "plt.plot(test[test[:,0]==1,1],test[test[:,0]==1,2],'co',label = \"Class 1 (real)\")\n",
    "plt.plot(test[test[:,0]==2,1],test[test[:,0]==2,2],'go', label = \"Class 2 (real)\")\n",
    "# Predicted classes\n",
    "plt.plot(pred_test_QDA_sckl[pred_test_QDA_sckl[:,0]==1,1],pred_test_QDA_sckl[pred_test_QDA_sckl[:,0]==1,2],'k+', label = \"Class 1 (predicted)\")\n",
    "plt.plot(pred_test_QDA_sckl[pred_test_QDA_sckl[:,0]==2,1],pred_test_QDA_sckl[pred_test_QDA_sckl[:,0]==2,2],'r+', label = \"Class 2 (predicted)\")\n",
    "plt.title(\"Test set; error rate = \"+str(test_error_QDA_sckl *100)+\"% (QDA)\")\n",
    "plt.legend(loc='upper left')\n",
    "\n",
    "plt.show()"
   ]
  },
  {
   "cell_type": "markdown",
   "metadata": {
    "colab_type": "text",
    "id": "8Oq6zLu-b_VT"
   },
   "source": [
    "# Interpretation : "
   ]
  },
  {
   "cell_type": "markdown",
   "metadata": {
    "colab_type": "text",
    "id": "0o4B5XAc28eH"
   },
   "source": [
    "The LDA has a high bias and a low variance, because it assumes the boundaries are linear.\n",
    "We computed the LDA with quadratic dependencies on the initial features to get a lower bias (and therefore a higher variance). This LDA with quadratic dependencies is similar to the QDA.\n",
    "QDA has a lower bias because it does not assume the boundaries are linear. It has a higher variance because it is responsive to small variations of the features.\n",
    "This illustrates the bias-variance trade-off.\n"
   ]
  },
  {
   "cell_type": "markdown",
   "metadata": {
    "colab_type": "text",
    "id": "24SUV7ZP3SV0"
   },
   "source": [
    "**Comments on the error results : **\n",
    "\n",
    "Surprisingly, LDA with non linear features has a higher error on the training set (6.5%) than on the test set(4.5%). What's more puzzling is that the error on the training set is also higher than the previous error computed with LDA on the same sample (3%). We expected it would be lower as the model trained on more features, so we do not know what is the reason for that.\n",
    "\n",
    "For QDA, errors on both train set and test set are similar. This was the most successful model in predicting the targets for the test set, but only by a small margin."
   ]
  },
  {
   "cell_type": "markdown",
   "metadata": {
    "colab_type": "text",
    "id": "wUvO-YQZ6LnT"
   },
   "source": [
    "\n",
    "**Comments on scikit-learn LDA and QDA algorithms :**\n",
    "  \n",
    "We get the same error values for LDA. with and without scikit-learn.\n",
    "On the other hand we did not get the same error values for QDA.\n",
    "\n",
    "Scikit-learn algorithms are easy to use but we have to intialize the parameters in a good way to obtain the best prediction. As we kept the default parameters for both LDA and QDA, we can conclude that the default parameters are not always the best one."
   ]
  },
  {
   "cell_type": "code",
   "execution_count": null,
   "metadata": {
    "colab": {},
    "colab_type": "code",
    "id": "5TSKKkjW7qnn"
   },
   "outputs": [],
   "source": []
  }
 ],
 "metadata": {
  "accelerator": "GPU",
  "colab": {
   "collapsed_sections": [],
   "name": "TP2_Afandi_Hu.ipynb",
   "provenance": [],
   "version": "0.3.2"
  },
  "kernelspec": {
   "display_name": "Python 3",
   "language": "python",
   "name": "python3"
  },
  "language_info": {
   "codemirror_mode": {
    "name": "ipython",
    "version": 3
   },
   "file_extension": ".py",
   "mimetype": "text/x-python",
   "name": "python",
   "nbconvert_exporter": "python",
   "pygments_lexer": "ipython3",
   "version": "3.8.8"
  }
 },
 "nbformat": 4,
 "nbformat_minor": 4
}
