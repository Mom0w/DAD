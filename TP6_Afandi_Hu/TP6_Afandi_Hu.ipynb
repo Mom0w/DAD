{
 "cells": [
  {
   "cell_type": "markdown",
   "metadata": {},
   "source": [
    "## Afandi Mohammad  \n",
    "## Hu Pauline"
   ]
  },
  {
   "cell_type": "markdown",
   "metadata": {
    "colab_type": "text",
    "id": "3PmMmh-3yoVf"
   },
   "source": [
    "# Convolutional Neural Networks (CNN) and Deep Architectures\n",
    "\n",
    "In these practicals, we will create a first convolutional neural network (CNN). This type of networks mostly rely on alternating layers of convolution and pooling. A convolution layer is a signal processing inspired layer that performs a bunch of convolutions on the layer input and yields filtered outputs known as feature maps. A pooling layer is a sort of subsampling layer. Most of the time, after several Conv/Pool layer pairs, a usual MLP is plugged to obtain class membership probabilities. When the number of layers is rather high (unclear how high this is), we obtain a deep network.\n",
    "\n",
    "We will use `TensorFlow` as programming framework and build a CNN to solve an image classification task.\n",
    "\n",
    "## Starting with TensorFlow\n",
    "\n",
    "`TensorFlow` is Google's library designed to create and train deep nets. It relies on symbolic programming and on the notion of computation graph. Here is an example of such a graph:\n",
    "\n",
    "<img src=\"graph.png\" alt=\"drawing\" width=\"200\"/>\n",
    "\n",
    "In this graph, we prepare `TensorFlow` to later compute the following function :\n",
    "\n",
    "$$f\\left( x,y\\right) = x^2 + 2y,$$\n",
    "\n",
    "for some $x$ and $y$. In this graph, the variables $x$ and $y$ are instances of the `tf.placeholder` class. Given these two objects, programming function $f$ is quite easy. We just need one line of code to explain `TensorFlow` how to compute $f\\left( x,y\\right)$ given $x$ and $y$:\n",
    "\n",
    "```python\n",
    "f = x*x + 2*y\n",
    "```\n",
    "\n",
    "This is done in a symbolic way meaning that $+$ here is not the usual Python + but `TensorFlow`'s addition operator. \n",
    "\n",
    "There are consequently two programming phases when using `TensorFlow`:\n",
    "* graph building and variable declaration,\n",
    "* actual computation performed as part of a `session`.\n",
    "\n",
    "Here is the full code to build the graph for function $f$ followed by a `session` to compute function values for some $(x,y)$ pairs."
   ]
  },
  {
   "cell_type": "code",
   "execution_count": 1,
   "metadata": {
    "colab": {
     "base_uri": "https://localhost:8080/",
     "height": 71
    },
    "colab_type": "code",
    "executionInfo": {
     "elapsed": 4668,
     "status": "ok",
     "timestamp": 1548020426316,
     "user": {
      "displayName": "Mohammad Afandi",
      "photoUrl": "",
      "userId": "02039134544224464075"
     },
     "user_tz": -60
    },
    "id": "3Fm33VzNyoVg",
    "outputId": "9dec5024-e110-4545-e5a1-4832dcf753c4"
   },
   "outputs": [
    {
     "name": "stderr",
     "output_type": "stream",
     "text": [
      "C:\\Anaconda3\\lib\\site-packages\\h5py\\__init__.py:36: FutureWarning: Conversion of the second argument of issubdtype from `float` to `np.floating` is deprecated. In future, it will be treated as `np.float64 == np.dtype(float).type`.\n",
      "  from ._conv import register_converters as _register_converters\n"
     ]
    }
   ],
   "source": [
    "import tensorflow as tf"
   ]
  },
  {
   "cell_type": "code",
   "execution_count": 2,
   "metadata": {
    "colab": {
     "base_uri": "https://localhost:8080/",
     "height": 68
    },
    "colab_type": "code",
    "executionInfo": {
     "elapsed": 4037,
     "status": "ok",
     "timestamp": 1548020426380,
     "user": {
      "displayName": "Mohammad Afandi",
      "photoUrl": "",
      "userId": "02039134544224464075"
     },
     "user_tz": -60
    },
    "id": "uq6LX6woyoVn",
    "outputId": "9e3a1b49-b3b6-4046-88ca-c7d537eaac22"
   },
   "outputs": [
    {
     "name": "stdout",
     "output_type": "stream",
     "text": [
      "5.0\n",
      "10.0\n",
      "17.0\n"
     ]
    }
   ],
   "source": [
    "# creates the variable container\n",
    "x = tf.placeholder(tf.float32,shape=[])\n",
    "y = tf.placeholder(tf.float32,shape=[])\n",
    "f = x*x + 2*y\n",
    "some_x = [1,2,3]\n",
    "some_y = [2,3,4]\n",
    "\n",
    "with tf.Session() as sess:\n",
    "    for i in range(len(some_x)):\n",
    "        print(sess.run(f,feed_dict={x: some_x[i],y: some_y[i]})) # sets the variable's values and computes"
   ]
  },
  {
   "cell_type": "markdown",
   "metadata": {
    "colab_type": "text",
    "id": "6PiApffUyoVu"
   },
   "source": [
    "The `tf.placeholder` class is meant to define variables that will be later replaced with data streams. Here, we specified that these data are `float32` and that they are scalars (`shape=[]`). In the `session`, we explain `TensorFlow` that the `x` and `y` will now be replaced by some specific values which we defined before as integer lists. \n",
    "\n",
    "### Q1\n",
    "* Define in a symbolic way the gradient of function $f$ (see `TensorFlow.gradients` documentation) and compute the gradient vectors for the same $(x,y)$ pairs as in the above code. \n"
   ]
  },
  {
   "cell_type": "markdown",
   "metadata": {},
   "source": [
    "---"
   ]
  },
  {
   "cell_type": "code",
   "execution_count": 3,
   "metadata": {
    "colab": {
     "base_uri": "https://localhost:8080/",
     "height": 68
    },
    "colab_type": "code",
    "executionInfo": {
     "elapsed": 3107,
     "status": "ok",
     "timestamp": 1548020426442,
     "user": {
      "displayName": "Mohammad Afandi",
      "photoUrl": "",
      "userId": "02039134544224464075"
     },
     "user_tz": -60
    },
    "id": "FQRkuaS6yoVu",
    "outputId": "7377f5ba-8b5f-4993-f7f6-2f06166c919f"
   },
   "outputs": [
    {
     "name": "stdout",
     "output_type": "stream",
     "text": [
      "[2.0, 2.0]\n",
      "[4.0, 2.0]\n",
      "[6.0, 2.0]\n"
     ]
    }
   ],
   "source": [
    "# computes the gradient of the f function\n",
    "gradf = tf.gradients(f, [x,y])\n",
    "\n",
    "with tf.Session() as sess:\n",
    "    for i in range(len(some_x)):\n",
    "        print(sess.run(gradf,feed_dict={x: some_x[i],y: some_y[i]}))"
   ]
  },
  {
   "cell_type": "markdown",
   "metadata": {
    "colab_type": "text",
    "id": "Ko-JD4aGyoVz"
   },
   "source": [
    "---\n",
    "\n",
    "## Baseline CNN\n",
    "\n",
    "We are now almost ready to start building a `TensorFlow` graph containing convolution or pooling layers instead of the basic operations involved in function $f$. Unlike function $f$, the classification function that we are trying to learn is parametric. Parameters can be explicitely defined as `TensorFlow` variables which are instances of the `tf.Variable` class. Since the backpropagation cannot work if parameters are not intialized, we will be using an initializer provided by `TensorFlow`. However, we will not explicitely define parameters but instead use `TensorFlow` macroscopic layerwise functions which encompass `TensorFlow` variables. This makes the code much simpler but less modular.\n",
    "\n",
    "But first things first ! We need a dataset to work with and to load in Jupyter. We will be working with the `MNIST` dataset. This dataset contains 28x28 grayscale images of handwritten figures. It has the advantage to be larger than traditional datasets utilized in practicals while it can still hold in memory and converge in a few minutes. Larger or more complicated datasets (more variability in images) would require too many computational efforts.\n",
    "\n",
    "Download the `MNIST` archive at [mnist.pkl.gz](http://deeplearning.net/data/mnist/mnist.pkl.gz). Load the dataset using the `load_mnist` function. You need to feed it with the path to the `MNIST` archive."
   ]
  },
  {
   "cell_type": "code",
   "execution_count": 37,
   "metadata": {
    "colab": {},
    "colab_type": "code",
    "id": "UqqM1KwdyoV0"
   },
   "outputs": [],
   "source": [
    "import numpy as np\n",
    "import sys\n",
    "from matplotlib.pyplot import imshow\n",
    "import gzip\n",
    "import _pickle as cPickle # for serialization (convert data to byte)\n",
    "\n",
    "def load_mnist(filename):\n",
    "    f = gzip.open(filename, 'rb')\n",
    "    # the train, validation and test sets contain two arrays : the data with feature values and the target values\n",
    "    # train set 50000 values\n",
    "    # validation set : 10000 values\n",
    "    # test set : 10000 values\n",
    "    train_set, valid_set, test_set = cPickle.load(f, encoding='iso-8859-1')\n",
    "    f.close()\n",
    "    X = np.vstack((train_set[0],valid_set[0]))\n",
    "    y = np.hstack((train_set[1],valid_set[1]))\n",
    "    X_test = test_set[0]\n",
    "    y_test = test_set[1]\n",
    "    return X,y,X_test,y_test\n",
    "\n",
    "# Load the mnist package and assign train, test sets and targets\n",
    "X,y,X_test,y_test = load_mnist('mnist.pkl.gz')\n"
   ]
  },
  {
   "cell_type": "code",
   "execution_count": null,
   "metadata": {
    "colab": {},
    "colab_type": "code",
    "id": "urHp6favLkG0"
   },
   "outputs": [],
   "source": [
    "# set the seed\n",
    "np.random.seed(1)  # for numpy fuctions\n",
    "tf.set_random_seed(1234)  # for tensorflow functions"
   ]
  },
  {
   "cell_type": "code",
   "execution_count": null,
   "metadata": {
    "colab": {},
    "colab_type": "code",
    "id": "XNp9T7_kD87Q"
   },
   "outputs": [],
   "source": [
    "# shuffle the data first!\n",
    "index = np.arange(len(X))\n",
    "np.random.shuffle(index)\n",
    "X = X[index]\n",
    "y = y[index]"
   ]
  },
  {
   "cell_type": "markdown",
   "metadata": {
    "colab_type": "text",
    "id": "nYFvL-_JCw4k"
   },
   "source": [
    "The rows in X have been shuffled."
   ]
  },
  {
   "cell_type": "markdown",
   "metadata": {
    "colab_type": "text",
    "id": "9QY3xCNvyoV4"
   },
   "source": [
    "### Q2\n",
    "* Reshape `X` and `X_test` so that they have shape (60000,28,28,1) and (10000,28,28,1) respectively.\n"
   ]
  },
  {
   "cell_type": "markdown",
   "metadata": {},
   "source": [
    "---"
   ]
  },
  {
   "cell_type": "code",
   "execution_count": 38,
   "metadata": {
    "colab": {},
    "colab_type": "code",
    "id": "kC0a7W2PyoV5"
   },
   "outputs": [],
   "source": [
    "# reshapping each row of X to get the shape of an image\n",
    "X = np.reshape(X,(60000,28,28,1))\n",
    "X_test = np.reshape(X_test,(10000,28,28,1))"
   ]
  },
  {
   "cell_type": "markdown",
   "metadata": {
    "colab_type": "text",
    "id": "dhKHxFbIyoV9"
   },
   "source": [
    "We can now begin to build the CNN. At the start of the `TensorFlow` graph we need to define data containers, i.e. instances of `tf.placeholder`. We will use mini-batch gradient descent to optimize the NN parameters and we want the code to be modular so we cannot specify the first dimension of the tensor containing training examples. `TensorFlow` allows this :"
   ]
  },
  {
   "cell_type": "code",
   "execution_count": 39,
   "metadata": {
    "colab": {},
    "colab_type": "code",
    "id": "Rcf_F2G5yoV-"
   },
   "outputs": [],
   "source": [
    "# creating the variable\n",
    "tf.reset_default_graph()\n",
    "Xtf = tf.placeholder(tf.float32,shape=[None, X.shape[1], X.shape[2],1]) # Xtf contains a modulable number of 28x28 arrays (the mnist images)\n",
    "ytf = tf.placeholder(tf.int64,shape=[None, ])"
   ]
  },
  {
   "cell_type": "markdown",
   "metadata": {
    "colab_type": "text",
    "id": "ptepppR2yoWE"
   },
   "source": [
    "The next element of our NN is a 2D convolutional layer. We can use an instance of the `tf.layers.conv2d` class. We need to specify that a `tf.placeholder` instance is the input, the number of size of filters (kernels) that we want, how to deal with image borders (padding) and what activation we would like. This gives:"
   ]
  },
  {
   "cell_type": "code",
   "execution_count": 40,
   "metadata": {
    "colab": {},
    "colab_type": "code",
    "id": "goRAdlx5yoWF"
   },
   "outputs": [],
   "source": [
    "# Convolutional Layer #1\n",
    "conv1 = tf.layers.conv2d(\n",
    "      inputs=Xtf,\n",
    "      filters=64,\n",
    "      kernel_size=[5, 5], # size of the convolution window\n",
    "      padding=\"same\",  # how to handle borders ('valid': ignores sides values if filter size and strides aren't fit to go theough the entire image,\n",
    "                       #                        'same': adds dummy values to convolve through the entire image)\n",
    "      activation=tf.nn.relu)"
   ]
  },
  {
   "cell_type": "markdown",
   "metadata": {
    "colab_type": "text",
    "id": "YVbItVVryoWK"
   },
   "source": [
    "Next, we need a pooling layer to give up some entries of the filtered images provided by the convolutional layer. We will use the usual max pool function in 2x2 neighborhoods which drops 3 entries out of 4 in each such neighborhood. The remaining entry is the one achieving maximal value in the neighborhood."
   ]
  },
  {
   "cell_type": "code",
   "execution_count": 41,
   "metadata": {
    "colab": {},
    "colab_type": "code",
    "id": "6YpZNR-ayoWL"
   },
   "outputs": [],
   "source": [
    "# Pooling Layer #1\n",
    "pool1 = tf.layers.max_pooling2d(inputs=conv1, pool_size=[2, 2], strides=2)"
   ]
  },
  {
   "cell_type": "markdown",
   "metadata": {
    "colab_type": "text",
    "id": "Sxd-gDbYyoWO"
   },
   "source": [
    "### Q3\n",
    "* What is the role of parameter `strides` ? \n",
    "* What is the size of each feature map after max pooling ?\n",
    "* How many feature maps are there ?"
   ]
  },
  {
   "cell_type": "markdown",
   "metadata": {
    "colab_type": "text",
    "id": "CS3GC2dCDtjK"
   },
   "source": [
    "**Aswer Q3:**  \n",
    "* Stride controls how the filter convolves around the input volume. The amount by which the filter shifts is the stride. Stride is normally set in a way so that the output volume is an integer and not a fraction. It can be interpreted as the step of the filter.\n",
    "* The size of each feature map after max pooling is 14x14.\n",
    "Indeed the feature map contains the values of each convolution the filter computes while going though the entire image. If the image size was 28x28, the filter size 5x5, the stride 1 and the padding set to 'valid', the filter would go through $(28-5+1) \\times (28-5+1)$ different locations. The feature map size would be 24x24.    \n",
    "Here the padding is set to 'same'. This means he output has the same size as the intput : 28x28.  \n",
    "The basic pooling method consists in applying a filter with a stride of same length on the feature map. For each stride, we keep the highest value. The new feature map has its size reduced.\n",
    "Indeed applying a pooling layer on the feature map helps reducing the amount of data in the feature map while preserving its global structure. It also helps with overfitting since it only keeps important values and removes less important ones. In our case we have a pool filter of size 2x2, a feature map of size 28x28 and a stride of 2. The final feature map is of size $(28*28)/ ((4/2)*(4/2))$: 14x14.\n",
    "* There are 64 different feature maps."
   ]
  },
  {
   "cell_type": "markdown",
   "metadata": {
    "colab_type": "text",
    "id": "RGSRq8Di-SZi"
   },
   "source": [
    "---"
   ]
  },
  {
   "cell_type": "markdown",
   "metadata": {
    "colab_type": "text",
    "id": "QZ2R9zK5-OP5"
   },
   "source": [
    "We will now plug a 1 layer MLP (multilayer perceptron) on top of this. Fully connected layers (or dense layers) do not accept numpy ndarrays. We can use tf.reshape to flatten feature maps. In the following code the scalar dflat = nbr of feature maps x feature map width x feature map height. Set this variable with the correct value and execute the following code line:"
   ]
  },
  {
   "cell_type": "code",
   "execution_count": 42,
   "metadata": {
    "colab": {},
    "colab_type": "code",
    "id": "JDoJb714yoWP"
   },
   "outputs": [],
   "source": [
    "# flatten pooled array for MLP\n",
    "dflat = 64*14*14\n",
    "pool1_flat = tf.reshape(pool1, [-1, dflat])"
   ]
  },
  {
   "cell_type": "markdown",
   "metadata": {
    "colab_type": "text",
    "id": "VlVgsSOlyoWS"
   },
   "source": [
    "Now the one layer MLP is given by an instance of `tf.layers.dense` as:"
   ]
  },
  {
   "cell_type": "code",
   "execution_count": 43,
   "metadata": {
    "colab": {},
    "colab_type": "code",
    "id": "q2ZJInityoWU"
   },
   "outputs": [],
   "source": [
    "# add one hidden layer with 1024 neurons\n",
    "mlp = tf.layers.dense(inputs=pool1_flat, units=1024, activation=tf.nn.relu)"
   ]
  },
  {
   "cell_type": "markdown",
   "metadata": {
    "colab_type": "text",
    "id": "7nghQ8amyoWX"
   },
   "source": [
    "Finally, we need a softmax regression function to obtain class membership probabilities. This can be done in this way:"
   ]
  },
  {
   "cell_type": "code",
   "execution_count": 44,
   "metadata": {
    "colab": {},
    "colab_type": "code",
    "id": "CsRVA5oDyoWY"
   },
   "outputs": [],
   "source": [
    "# apply classification function : logit (logistic regression generalization for K > 2 classes)\n",
    "logits = tf.layers.dense(inputs=mlp, units=10) \n",
    "smax = tf.nn.softmax(logits)"
   ]
  },
  {
   "cell_type": "markdown",
   "metadata": {
    "colab_type": "text",
    "id": "GIbtHFPOyoWb"
   },
   "source": [
    "### Q4\n",
    "* How many parameters is there in our NN ?\n"
   ]
  },
  {
   "cell_type": "markdown",
   "metadata": {
    "colab_type": "text",
    "id": "vJ2I8uCn7A7Z"
   },
   "source": [
    "---\n",
    "**NN parameters :** \n",
    "- convolution : size of convolution window, stride, how to handle borders, number of filters\n",
    "- pooling : size of pooling window, stride and how to handle borders\n",
    "- activation function \n",
    "- classification function\n",
    "- size of the mini-batch\n",
    "- optimizer learning rate\n",
    "---"
   ]
  },
  {
   "cell_type": "markdown",
   "metadata": {
    "colab_type": "text",
    "id": "NMg67j094Fjs"
   },
   "source": [
    "Actually, the utimate element of the `TensorFlow` graph is the loss. In softmax (or logistic) regression, the corresponding loss is the cross entropy. A numerically stable version of this loss is given by `tf.losses.sparse_softmax_cross_entropy`:"
   ]
  },
  {
   "cell_type": "code",
   "execution_count": 45,
   "metadata": {
    "colab": {},
    "colab_type": "code",
    "id": "OxwxrXMDyoWc"
   },
   "outputs": [],
   "source": [
    "# computes the loss function for training (on logits because losses.sparse_softmax_cross_entropy already applies smax)\n",
    "loss = tf.losses.sparse_softmax_cross_entropy(labels=ytf, logits=logits) "
   ]
  },
  {
   "cell_type": "markdown",
   "metadata": {
    "colab_type": "text",
    "id": "f2RY5IIByoWg"
   },
   "source": [
    "Now that we have completed the graph, we can move to the next phase: actually training the NN. Prior to entering the training loop, we need to instantiate an optimizer from `TensorFlow` and ask him to minimize the loss. We will use the ADAM optimizer which is robust and easy to tune."
   ]
  },
  {
   "cell_type": "code",
   "execution_count": 46,
   "metadata": {
    "colab": {},
    "colab_type": "code",
    "id": "-A0EpyixyoWi"
   },
   "outputs": [],
   "source": [
    "# set the optimizer used for the backpropagation\n",
    "learning_rate = 0.01\n",
    "optimizer = tf.train.AdamOptimizer(learning_rate)\n",
    "training_op = optimizer.minimize(loss) \n",
    "init = tf.global_variables_initializer()"
   ]
  },
  {
   "cell_type": "markdown",
   "metadata": {
    "colab_type": "text",
    "id": "YLx4gVoO_0E6"
   },
   "source": [
    "Adam optimization algorithm is different from stochastical gradient descent in that it changes the learning rate (speed of descent) at each step of the descent."
   ]
  },
  {
   "cell_type": "markdown",
   "metadata": {
    "colab_type": "text",
    "id": "TuqOHf3TyoWn"
   },
   "source": [
    "An initializer has also been instantiated. Indeed parameters are hidden in instances of our NN layers but they need initialization anyway.\n",
    "\n",
    "We can now begin to iterate on training examples. We will select mini-batches of training examples. Once each training example has been processed as part of the backpropagation algorithm, a training epoch is completed. It is quite common to iterate on epochs, and in each epoch on mini-batches. \n",
    "\n",
    "The following code lines are in line with this habit. There are only two lines to complete to make it work. They correpond to the selection of training examples in each mini-batch. \n",
    "\n",
    "### Q5\n",
    "* Fulfill correctly the missing parts of these instructions.\n",
    "**Warning** : the execution of the loop takes around 5mn. The gradient descent should achieve approximately a 0.13 loss or below (remember this is stochastic)."
   ]
  },
  {
   "cell_type": "code",
   "execution_count": 47,
   "metadata": {
    "colab": {},
    "colab_type": "code",
    "id": "Ynh6SWUEHlyI"
   },
   "outputs": [],
   "source": [
    "# Accuracy metrics\n",
    "correct_prediction = tf.equal(tf.argmax(logits,1), ytf) # get the predicted target with maximum weigth with argmax and compare it to the real target value\n",
    "accuracy = tf.reduce_mean(tf.cast(correct_prediction, tf.float32))   # casting the correct_prediction to float"
   ]
  },
  {
   "cell_type": "code",
   "execution_count": 48,
   "metadata": {
    "colab": {
     "base_uri": "https://localhost:8080/",
     "height": 102
    },
    "colab_type": "code",
    "executionInfo": {
     "elapsed": 262237,
     "status": "ok",
     "timestamp": 1548023041611,
     "user": {
      "displayName": "Mohammad Afandi",
      "photoUrl": "",
      "userId": "02039134544224464075"
     },
     "user_tz": -60
    },
    "id": "KjDM_oEFBdyH",
    "outputId": "de9f165f-ce54-45b3-9972-7629661fbbe6"
   },
   "outputs": [
    {
     "name": "stdout",
     "output_type": "stream",
     "text": [
      "0 Train loss: 0.12863576 , Accuracy: 0.9866667\n",
      "1 Train loss: 0.08623568 , Accuracy: 0.99333334\n",
      "\n",
      "Test Accuracy 0.9794\n"
     ]
    }
   ],
   "source": [
    "n_epochs = 2\n",
    "batch_size = 150\n",
    "n = len(X)\n",
    "\n",
    "with tf.Session() as sess:\n",
    "    init.run()\n",
    "    \n",
    "    # training cycles\n",
    "    for epoch in range(n_epochs):\n",
    "        n_batches = n // batch_size\n",
    "        \n",
    "        # Loop over all batches\n",
    "        for iteration in range(n_batches):\n",
    "            print(\"\\r{}%\".format(100 * iteration // n_batches), end=\"\")\n",
    "            sys.stdout.flush()  # fluhing the buffer \n",
    "            X_batch = X[iteration*batch_size : (iteration+1)*batch_size]\n",
    "            y_batch = y[iteration*batch_size : (iteration+1)*batch_size]\n",
    "            sess.run(training_op, feed_dict={Xtf: X_batch,ytf: y_batch})  # running the optimizer\n",
    "                        \n",
    "        loss_train = loss.eval(feed_dict={Xtf: X_batch,ytf: y_batch})\n",
    "        train_accuracy = sess.run(accuracy,feed_dict={Xtf: X_batch,ytf: y_batch}) # compute training accuracy\n",
    "        print(\"\\r{}\".format(epoch), \"Train loss:\", loss_train , \", Accuracy:\", train_accuracy)\n",
    "        \n",
    "    test_accuracy = sess.run(accuracy,feed_dict={Xtf: X_test,ytf: y_test})\n",
    "    print(\"\\nTest Accuracy\", test_accuracy)"
   ]
  },
  {
   "cell_type": "markdown",
   "metadata": {
    "colab_type": "text",
    "id": "kC2gw2tqyoWy"
   },
   "source": [
    "### Q6\n",
    "* Document yourselves on means to compute the classifier accuracy using `TensorFlow` functions. \n",
    "* Add the corresponding functions to the graph.\n",
    "* Modify the loop to evaluate the classifier accuracy on the test set. \n",
    "* Comment on the quality of the learning."
   ]
  },
  {
   "cell_type": "markdown",
   "metadata": {
    "colab_type": "text",
    "id": "VP9tVggRFHaL"
   },
   "source": [
    "---\n",
    "The train loss during the second execution of the training is lower because the NN has already been trained on the train set one time. Training NN networks two times rises the train accuracy too. \n",
    "\n",
    "The test accuracy rate is very good, meaning the built model hasn't been overfitted. \n",
    "\n",
    "---"
   ]
  },
  {
   "cell_type": "markdown",
   "metadata": {
    "colab_type": "text",
    "id": "LdcsdbLb8UkP"
   },
   "source": [
    "### Q7\n",
    "* Add a second pair of conv/pool layers. A smaller amount of filters and smaller filters are recommended."
   ]
  },
  {
   "cell_type": "code",
   "execution_count": 66,
   "metadata": {
    "colab": {},
    "colab_type": "code",
    "id": "SoL6t3Ca8bBP"
   },
   "outputs": [],
   "source": [
    "tf.reset_default_graph()\n",
    "Xtf = tf.placeholder(tf.float32,shape=[None, X.shape[1], X.shape[2],1])\n",
    "ytf = tf.placeholder(tf.int64,shape=[None, ])\n",
    "\n",
    "# Convolutional Layer #1\n",
    "conv1 = tf.layers.conv2d(\n",
    "      inputs=Xtf,\n",
    "      filters=64,\n",
    "      kernel_size=[5, 5], # size of the convolution window\n",
    "      padding=\"same\",  # how to handle borders ('valid': ignores sides values if filter size and strides aren't fit to go theough the entire image,\n",
    "                       #                        'same': adds dummy values to convolve through the entire image)\n",
    "      activation=tf.nn.relu)\n",
    "\n",
    "# Pooling Layer #1\n",
    "pool1 = tf.layers.max_pooling2d(inputs=conv1, pool_size=[2, 2], strides=2)\n",
    "\n",
    "# Convolutional Layer #2\n",
    "conv2 = tf.layers.conv2d(\n",
    "      inputs=pool1, # added on top of first layer\n",
    "      filters=32,\n",
    "      kernel_size=[3, 3], # size of the convolution window (smaller window)\n",
    "      padding=\"same\",  # how to handle borders ('valid': ignores sides values if filter size and strides aren't fit to go theough the entire image,\n",
    "                       #                        'same': adds dummy values to convolve through the entire image)\n",
    "      activation=tf.nn.relu)\n",
    "\n",
    "# conv2 has same height and width as pool1 (14x14)\n",
    "\n",
    "# Pooling Layer #2\n",
    "pool2 = tf.layers.max_pooling2d(inputs=conv2, pool_size=[2, 2], strides=2)\n",
    "\n",
    "# Flatten pooled array for MLP: pool2 applies a 50% reduction of height and width from conv2\n",
    "dflat2 = 32*7*7\n",
    "pool2_flat = tf.reshape(pool2, [-1, dflat2])"
   ]
  },
  {
   "cell_type": "markdown",
   "metadata": {
    "colab_type": "text",
    "id": "Oko5KZme8cFa"
   },
   "source": [
    "### Q8\n",
    "* Add a second fully connected layer. A smaller number of units is recommended."
   ]
  },
  {
   "cell_type": "code",
   "execution_count": 67,
   "metadata": {
    "colab": {},
    "colab_type": "code",
    "id": "wonMUUOq8eyX"
   },
   "outputs": [],
   "source": [
    "# Add one hidden layer with 1024 neurons\n",
    "mlp1 = tf.layers.dense(inputs=pool2_flat, units=1024, activation=tf.nn.relu)\n",
    "# Add another hidden layer on top of the first one with 128 neurons\n",
    "mlp2 = tf.layers.dense(inputs=mlp1, units=128, activation=tf.nn.relu)\n",
    "\n",
    "# Apply classification function : logit (logistic regression generalization for K > 2 classes)\n",
    "logits = tf.layers.dense(inputs=mlp2, units=10) \n",
    "smax = tf.nn.softmax(logits)\n",
    "\n",
    "# Computes the loss function for training\n",
    "loss = tf.losses.sparse_softmax_cross_entropy(labels=ytf, logits=logits)\n",
    "\n",
    "# Set the optimizer used for the backpropagation\n",
    "training_op = optimizer.minimize(loss) \n",
    "\n",
    "# Accuracy metrics\n",
    "correct_prediction = tf.equal(tf.argmax(logits,1), ytf)\n",
    "accuracy = tf.reduce_mean(tf.cast(correct_prediction, tf.float32))\n",
    "\n",
    "# Variables initializer\n",
    "init = tf.global_variables_initializer()\n"
   ]
  },
  {
   "cell_type": "code",
   "execution_count": 68,
   "metadata": {
    "colab": {
     "base_uri": "https://localhost:8080/",
     "height": 102
    },
    "colab_type": "code",
    "executionInfo": {
     "elapsed": 262237,
     "status": "ok",
     "timestamp": 1548023041611,
     "user": {
      "displayName": "Mohammad Afandi",
      "photoUrl": "",
      "userId": "02039134544224464075"
     },
     "user_tz": -60
    },
    "id": "KjDM_oEFBdyH",
    "outputId": "de9f165f-ce54-45b3-9972-7629661fbbe6",
    "scrolled": true
   },
   "outputs": [
    {
     "name": "stdout",
     "output_type": "stream",
     "text": [
      "0 Train loss: 0.112862 , Accuracy: 0.99333334\n",
      "1 Train loss: 0.0792609 , Accuracy: 0.99333334\n",
      "\n",
      "Test Accuracy 0.9859\n"
     ]
    }
   ],
   "source": [
    "# Training graph with 2 layers\n",
    "\n",
    "n_epochs = 2\n",
    "batch_size = 150\n",
    "n = len(X)\n",
    "\n",
    "with tf.Session() as sess:\n",
    "    init.run()\n",
    "    \n",
    "    # training cycles\n",
    "    for epoch in range(n_epochs):\n",
    "        n_batches = n // batch_size\n",
    "        \n",
    "        # Loop over all batches\n",
    "        for iteration in range(n_batches):\n",
    "            print(\"\\r{}%\".format(100 * iteration // n_batches), end=\"\")\n",
    "            sys.stdout.flush()  # fluhing the buffer \n",
    "            X_batch = X[iteration*batch_size : (iteration+1)*batch_size]\n",
    "            y_batch = y[iteration*batch_size : (iteration+1)*batch_size]\n",
    "            sess.run(training_op, feed_dict={Xtf: X_batch,ytf: y_batch})  # running the optimizer\n",
    "                        \n",
    "        loss_train = loss.eval(feed_dict={Xtf: X_batch,ytf: y_batch})\n",
    "        train_accuracy = sess.run(accuracy,feed_dict={Xtf: X_batch,ytf: y_batch}) # compute training accuracy\n",
    "        print(\"\\r{}\".format(epoch), \"Train loss:\", loss_train , \", Accuracy:\", train_accuracy)\n",
    "        \n",
    "    test_accuracy = sess.run(accuracy,feed_dict={Xtf: X_test,ytf: y_test})\n",
    "    print(\"\\nTest Accuracy\", test_accuracy)"
   ]
  },
  {
   "cell_type": "markdown",
   "metadata": {
    "colab_type": "text",
    "id": "7HmvWompGFZ2"
   },
   "source": [
    "By adding more layers, we've been able to get better loss and accuracy results.  However, it also causes the training phase to take longer."
   ]
  },
  {
   "cell_type": "markdown",
   "metadata": {
    "colab_type": "text",
    "id": "ItzoS5yT8fsa"
   },
   "source": [
    "---\n",
    "### Q9\n",
    "From the above NN architecture, try to tweak the other hyperparameters. These latter include:\n",
    "* the learning rate,\n",
    "* the mini batch size,\n",
    "* the regularization strength (if regularization is activated),\n",
    "* number of filters,\n",
    "* filter sizes,\n",
    "* activiation functions,\n",
    "* strides,\n",
    "* padding types,\n",
    "* ..."
   ]
  },
  {
   "cell_type": "code",
   "execution_count": 69,
   "metadata": {
    "colab": {},
    "colab_type": "code",
    "id": "a5B36nCl8i7U"
   },
   "outputs": [],
   "source": [
    "def nn_2layers(X, y, X_test, y_test, learning_rate, batch_size):\n",
    "  \n",
    "    conv1 = tf.layers.conv2d(\n",
    "        inputs=Xtf,\n",
    "        filters=64,\n",
    "        kernel_size=[5, 5], \n",
    "        padding=\"same\",  \n",
    "        activation=tf.nn.relu)\n",
    "\n",
    "    pool1 = tf.layers.max_pooling2d(inputs=conv1, pool_size=[2, 2], strides=2)\n",
    "\n",
    "    conv2 = tf.layers.conv2d(\n",
    "        inputs=pool1, \n",
    "        filters=32,\n",
    "        kernel_size=[3, 3], \n",
    "        padding=\"same\",  \n",
    "        activation=tf.nn.relu)\n",
    "\n",
    "    pool2 = tf.layers.max_pooling2d(inputs=conv2, pool_size=[2, 2], strides=2)\n",
    "\n",
    "    dflat2 = 32*7*7\n",
    "    pool_flat = tf.reshape(pool2, [-1, dflat2])\n",
    "\n",
    "    mlp1 = tf.layers.dense(inputs=pool_flat, units=1024, activation=tf.nn.relu)\n",
    "    mlp2 = tf.layers.dense(inputs=mlp1, units=128, activation=tf.nn.relu)\n",
    "\n",
    "    logits = tf.layers.dense(inputs=mlp2, units=10) \n",
    "    smax = tf.nn.softmax(logits)\n",
    "\n",
    "    loss = tf.losses.sparse_softmax_cross_entropy(labels=ytf, logits=logits) \n",
    "\n",
    "    training_op = tf.train.AdamOptimizer(learning_rate).minimize(loss) \n",
    "\n",
    "    correct_prediction = tf.equal(tf.argmax(logits,1), ytf)\n",
    "    accuracy = tf.reduce_mean(tf.cast(correct_prediction, tf.float32))\n",
    "\n",
    "    init = tf.global_variables_initializer()\n",
    "\n",
    "    n_epochs = 2\n",
    "    n = len(X)\n",
    "\n",
    "    with tf.Session() as sess:\n",
    "        init.run()\n",
    "\n",
    "        # training cycles\n",
    "        for epoch in range(n_epochs):\n",
    "            n_batches = n // batch_size\n",
    "\n",
    "            # Loop over all batches\n",
    "            for iteration in range(n_batches):\n",
    "                print(\"\\r{}%\".format(100 * iteration // n_batches), end=\"\")\n",
    "                sys.stdout.flush()  # fluhing the buffer \n",
    "                X_batch = X[iteration*batch_size : (iteration+1)*batch_size]\n",
    "                y_batch = y[iteration*batch_size : (iteration+1)*batch_size]\n",
    "                sess.run(training_op, feed_dict={Xtf: X_batch,ytf: y_batch})  # running the optimizer\n",
    "\n",
    "            loss_train = loss.eval(feed_dict={Xtf: X_batch, ytf: y_batch})\n",
    "            train_accuracy = sess.run(accuracy,feed_dict={Xtf: X_batch,ytf: y_batch}) # compute training accuracy\n",
    "            print(\"\\r{}\".format(epoch), \"Train loss:\", loss_train , \", Train accuracy:\", train_accuracy)\n",
    "\n",
    "        test_accuracy = sess.run(accuracy,feed_dict={Xtf: X_test, ytf: y_test})\n",
    "        print(\"\\nTest Accuracy\", test_accuracy)\n",
    "\n",
    "    return test_accuracy\n",
    "      "
   ]
  },
  {
   "cell_type": "code",
   "execution_count": 70,
   "metadata": {
    "colab": {
     "base_uri": "https://localhost:8080/",
     "height": 102
    },
    "colab_type": "code",
    "executionInfo": {
     "elapsed": 262237,
     "status": "ok",
     "timestamp": 1548023041611,
     "user": {
      "displayName": "Mohammad Afandi",
      "photoUrl": "",
      "userId": "02039134544224464075"
     },
     "user_tz": -60
    },
    "id": "KjDM_oEFBdyH",
    "outputId": "de9f165f-ce54-45b3-9972-7629661fbbe6"
   },
   "outputs": [
    {
     "name": "stdout",
     "output_type": "stream",
     "text": [
      "0 Train loss: 0.11862265 , Train accuracy: 0.9866667\n",
      "1 Train loss: 0.112266056 , Train accuracy: 0.99333334\n",
      "\n",
      "Test Accuracy 0.9742\n"
     ]
    },
    {
     "data": {
      "text/plain": [
       "0.9742"
      ]
     },
     "execution_count": 70,
     "metadata": {},
     "output_type": "execute_result"
    }
   ],
   "source": [
    "tf.reset_default_graph()\n",
    "Xtf = tf.placeholder(tf.float32,shape=[None, X.shape[1], X.shape[2],1])\n",
    "ytf = tf.placeholder(tf.int64,shape=[None, ])\n",
    "nn_2layers(X, y, X_test, y_test, learning_rate = 0.01, batch_size = 150)"
   ]
  },
  {
   "cell_type": "code",
   "execution_count": 77,
   "metadata": {},
   "outputs": [],
   "source": [
    "import matplotlib.pyplot as plt"
   ]
  },
  {
   "cell_type": "markdown",
   "metadata": {
    "colab_type": "text",
    "id": "m7IsrRD8YEqz"
   },
   "source": [
    "Let's assess the learning rate:"
   ]
  },
  {
   "cell_type": "code",
   "execution_count": 74,
   "metadata": {
    "colab": {},
    "colab_type": "code",
    "id": "kwOyDNF-cZDq",
    "scrolled": true
   },
   "outputs": [
    {
     "name": "stdout",
     "output_type": "stream",
     "text": [
      "0 Train loss: 0.16074069 , Train accuracy: 0.9866667\n",
      "1 Train loss: 0.14980233 , Train accuracy: 0.9866667\n",
      "\n",
      "Test Accuracy 0.9683\n",
      "0 Train loss: 0.11688807 , Train accuracy: 0.99333334\n",
      "1 Train loss: 0.111937754 , Train accuracy: 0.99333334\n",
      "\n",
      "Test Accuracy 0.9855\n",
      "0 Train loss: 0.3298403 , Train accuracy: 0.9266667\n",
      "1 Train loss: 0.112037696 , Train accuracy: 0.99333334\n",
      "\n",
      "Test Accuracy 0.9658\n",
      "0 Train loss: 2.3061216 , Train accuracy: 0.10666667\n",
      "1 Train loss: 2.3062003 , Train accuracy: 0.10666667\n",
      "\n",
      "Test Accuracy 0.101\n"
     ]
    }
   ],
   "source": [
    "learning_rates = [1e-4, 1e-3, 1e-2, 1e-1]\n",
    "learning_rate_acc = np.zeros(len(learning_rates))\n",
    "\n",
    "for i, rate in enumerate(learning_rates):\n",
    "    tf.reset_default_graph()\n",
    "    Xtf = tf.placeholder(tf.float32,shape=[None, X.shape[1], X.shape[2],1])\n",
    "    ytf = tf.placeholder(tf.int64,shape=[None, ])\n",
    "    learning_rate_acc[i] = nn_2layers(X, y, X_test, y_test, learning_rate = rate, batch_size = 150)    "
   ]
  },
  {
   "cell_type": "code",
   "execution_count": 88,
   "metadata": {},
   "outputs": [
    {
     "data": {
      "image/png": "[encoded data removed]",
      "text/plain": [
       "<Figure size 432x288 with 1 Axes>"
      ]
     },
     "metadata": {},
     "output_type": "display_data"
    }
   ],
   "source": [
    "plt.plot(learning_rates,learning_rate_acc)\n",
    "plt.xlabel(\"Learning rate\")\n",
    "plt.ylabel(\"Test accuracy\")\n",
    "plt.title(\"Influence of learning rate on test accuracy\")\n",
    "plt.show()"
   ]
  },
  {
   "cell_type": "markdown",
   "metadata": {},
   "source": [
    "It seems the learning rate should be kept between 1e-4 and 1e-3.  \n",
    "The last value is rather strange, we wouldn't expect such a drop in performances."
   ]
  },
  {
   "cell_type": "markdown",
   "metadata": {},
   "source": [
    "We can also try to tweak the size of the batches:"
   ]
  },
  {
   "cell_type": "code",
   "execution_count": 75,
   "metadata": {
    "scrolled": true
   },
   "outputs": [
    {
     "name": "stdout",
     "output_type": "stream",
     "text": [
      "0 Train loss: 6.818976 , Train accuracy: 0.098733336\n",
      "1 Train loss: 2.3034468 , Train accuracy: 0.17096667\n",
      "\n",
      "Test Accuracy 0.1736\n",
      "0 Train loss: 2.2385414 , Train accuracy: 0.1827\n",
      "1 Train loss: 0.93954235 , Train accuracy: 0.6911\n",
      "\n",
      "Test Accuracy 0.6754\n",
      "0 Train loss: 2.3030875 , Train accuracy: 0.107\n",
      "1 Train loss: 2.302242 , Train accuracy: 0.107\n",
      "\n",
      "Test Accuracy 0.1028\n",
      "0 Train loss: 0.12807916 , Train accuracy: 0.97\n",
      "1 Train loss: 0.15642028 , Train accuracy: 0.99\n",
      "\n",
      "Test Accuracy 0.9554\n"
     ]
    }
   ],
   "source": [
    "l_batch_sizes = [30000, 10000, 1000, 100]\n",
    "l_batch_sizes_acc = np.zeros(len(learning_rates))\n",
    "\n",
    "for i,size in enumerate(l_batch_sizes):\n",
    "    tf.reset_default_graph()\n",
    "    Xtf = tf.placeholder(tf.float32,shape=[None, X.shape[1], X.shape[2],1])\n",
    "    ytf = tf.placeholder(tf.int64,shape=[None, ])\n",
    "    l_batch_sizes_acc[i] = nn_2layers(X, y, X_test, y_test, learning_rate = 0.01, batch_size = size) "
   ]
  },
  {
   "cell_type": "code",
   "execution_count": 84,
   "metadata": {
    "scrolled": true
   },
   "outputs": [
    {
     "data": {
      "image/png": "[encoded data removed]",
      "text/plain": [
       "<Figure size 432x288 with 1 Axes>"
      ]
     },
     "metadata": {},
     "output_type": "display_data"
    }
   ],
   "source": [
    "plt.plot(l_batch_sizes,l_batch_sizes_acc)\n",
    "plt.xlabel(\"Batch size\")\n",
    "plt.ylabel(\"Test accuracy\")\n",
    "plt.title(\"Influence of batch size on test accuracy\")\n",
    "plt.show()"
   ]
  },
  {
   "cell_type": "markdown",
   "metadata": {},
   "source": [
    "In this case, the lower the better, even though that means more optimizing steps."
   ]
  },
  {
   "cell_type": "markdown",
   "metadata": {},
   "source": [
    "---\n",
    "These results should be taken with a grain of salt, as we've only been able to run a few simulations because of how long each one takes.  \n",
    "Furthermore, we've also noticed that our simulations would randomly return inconsistant values after a given time. This may have to do with the tensorflow library or our personal computers limitations. "
   ]
  },
  {
   "cell_type": "markdown",
   "metadata": {
    "colab_type": "text",
    "id": "Kn6AEogZ8jV6"
   },
   "source": [
    "### Q10\n",
    "* Compare the obtained accuracy to that of a regularized Softmax regression from `sklearn`."
   ]
  },
  {
   "cell_type": "markdown",
   "metadata": {
    "colab_type": "text",
    "id": "lzIDoMl4qfTy"
   },
   "source": [
    "---\n",
    "We should first reshape `X` and `X_test` "
   ]
  },
  {
   "cell_type": "code",
   "execution_count": 14,
   "metadata": {
    "colab": {},
    "colab_type": "code",
    "id": "5FkHJnnZpoBn"
   },
   "outputs": [],
   "source": [
    "from sklearn.linear_model import LogisticRegression\n",
    "X_smax = np.reshape(X,(60000,784))\n",
    "X_smax_test = np.reshape(X_test,(10000,784))"
   ]
  },
  {
   "cell_type": "markdown",
   "metadata": {},
   "source": [
    "We can now apply softmax regression and train the model."
   ]
  },
  {
   "cell_type": "code",
   "execution_count": 15,
   "metadata": {
    "colab": {},
    "colab_type": "code",
    "id": "ttbDHmHzol-k"
   },
   "outputs": [
    {
     "data": {
      "text/plain": [
       "LogisticRegression(C=1.0, class_weight=None, dual=False, fit_intercept=True,\n",
       "          intercept_scaling=1, max_iter=100, multi_class='multinomial',\n",
       "          n_jobs=1, penalty='l2', random_state=0, solver='lbfgs',\n",
       "          tol=0.0001, verbose=0, warm_start=False)"
      ]
     },
     "execution_count": 15,
     "metadata": {},
     "output_type": "execute_result"
    }
   ],
   "source": [
    "clf = LogisticRegression(random_state=0, solver='lbfgs',\n",
    "                         multi_class='multinomial', penalty = 'l2')\n",
    "clf.fit(X_smax, y)"
   ]
  },
  {
   "cell_type": "markdown",
   "metadata": {},
   "source": [
    "Let's see the accuracy of the model."
   ]
  },
  {
   "cell_type": "code",
   "execution_count": 16,
   "metadata": {
    "colab": {},
    "colab_type": "code",
    "id": "O_LtBdB-oqNZ"
   },
   "outputs": [
    {
     "data": {
      "text/plain": [
       "0.9349833333333334"
      ]
     },
     "execution_count": 16,
     "metadata": {},
     "output_type": "execute_result"
    }
   ],
   "source": [
    "clf.score(X_smax, y)"
   ]
  },
  {
   "cell_type": "markdown",
   "metadata": {},
   "source": [
    "And now let's compute the accuracy of the predicions on the test set."
   ]
  },
  {
   "cell_type": "code",
   "execution_count": 17,
   "metadata": {
    "colab": {},
    "colab_type": "code",
    "id": "f64JdVuLpSIt"
   },
   "outputs": [
    {
     "data": {
      "text/plain": [
       "0.9261"
      ]
     },
     "execution_count": 17,
     "metadata": {},
     "output_type": "execute_result"
    }
   ],
   "source": [
    "clf.score(X_smax_test,y_test)"
   ]
  },
  {
   "cell_type": "markdown",
   "metadata": {
    "colab_type": "text",
    "id": "7THkBciKpWSA"
   },
   "source": [
    "The neural-network gives better results than the scikit-learn softmax regression.\n",
    "This may be because of the convolutional and pooling layers used in the neural network. These steps allows the model to actually take into consideration the global structure of the image. On the other hand, the softmax regression considers each feature (the pixels of the picture) with no regards to its neighbours.  \n",
    "However, it is significantly longer to train the neural network."
   ]
  }
 ],
 "metadata": {
  "accelerator": "GPU",
  "colab": {
   "collapsed_sections": [],
   "name": "TP6_Afandi_Hu.ipynb",
   "provenance": [],
   "version": "0.3.2"
  },
  "kernelspec": {
   "display_name": "Python 3 (ipykernel)",
   "language": "python",
   "name": "python3"
  },
  "language_info": {
   "codemirror_mode": {
    "name": "ipython",
    "version": 3
   },
   "file_extension": ".py",
   "mimetype": "text/x-python",
   "name": "python",
   "nbconvert_exporter": "python",
   "pygments_lexer": "ipython3",
   "version": "3.9.7"
  }
 },
 "nbformat": 4,
 "nbformat_minor": 4
}
